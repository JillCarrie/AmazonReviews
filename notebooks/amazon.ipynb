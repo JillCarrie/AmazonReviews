{
 "cells": [
  {
   "cell_type": "markdown",
   "metadata": {},
   "source": [
    "<a id='top'></a>\n",
    "## Can Amazon Reviews Help Businesses Learn their Best Customers? \n",
    "\n",
    "#### Contributors: Muoyo Okome, Jill Carrie"
   ]
  },
  {
   "cell_type": "markdown",
   "metadata": {},
   "source": [
    "<a id='toc'></a>\n",
    "### Table of Contents\n",
    "1. [Problem Statement](#problemstatement)\n",
    "2. [Data Sources](#datasources)\n",
    "3. [Data Cleaning](#datacleaning)\n",
    "4. [Classification Analysis](#classification)  \n",
    "    - [Logistic Regression](#logisticregression)\n",
    "    - [K Nearest Neighbors](#knearest)\n",
    "    - [Decision Trees](#decisiontrees)\n",
    "    - [Bagged Trees](#baggedtrees)\n",
    "    - [Random Forest](#randomforest)\n",
    "    - [Adaboost](#adaboost)\n",
    "    - [Gradient Boost](#gradientboost)\n",
    "5. [Findings](#findings)\n",
    "6. [Vizualizations](#findings)\n",
    "7. [Next Steps](#nextsteps)"
   ]
  },
  {
   "cell_type": "code",
   "execution_count": 1,
   "metadata": {},
   "outputs": [],
   "source": [
    "# Import necessary libraries\n",
    "import warnings\n",
    "import pandas as pd\n",
    "import seaborn as sns\n",
    "import matplotlib.pyplot as plt\n",
    "warnings.filterwarnings('ignore')\n",
    "%matplotlib inline"
   ]
  },
  {
   "cell_type": "markdown",
   "metadata": {},
   "source": [
    "<a id='problemstatement'></a>\n",
    "### Problem Statement"
   ]
  },
  {
   "cell_type": "markdown",
   "metadata": {},
   "source": [
    "**Can Amazon Reviews Help Businesses Learn their Best Customers?**\n",
    "\n",
    "The key question we look to answer is whether knowing the text of an Amazon Customer Review can help us predict the star rating of that review.\n",
    "\n",
    "Eventually our goal is to provide these insights to businesses as a service to help them identify customers most likely to love or hate their products based on the things they are saying.\n",
    "\n",
    "[Back to Top ↑](#top)"
   ]
  },
  {
   "cell_type": "markdown",
   "metadata": {},
   "source": [
    "<a id='datasources'></a>\n",
    "### Data Sources"
   ]
  },
  {
   "cell_type": "markdown",
   "metadata": {},
   "source": [
    "#### **[AWS Open Data: Amazon Customer Reviews Dataset](https://registry.opendata.aws/amazon:reviews/)**\n",
    "\n",
    "- Amazon Customer Reviews (a.k.a. Product Reviews) is one of Amazon’s iconic products. In a period of over two decades since the first review in 1995, millions of Amazon customers have contributed over a hundred million reviews to express opinions and describe their experiences regarding products on the Amazon.com website. Over 130+ million customer reviews are available to researchers as part of this dataset.\n",
    "\n",
    "- A collection of reviews written in the Amazon.com marketplace and associated metadata from 1995 until 2015. This is intended to facilitate study into the properties (and the evolution) of customer reviews potentially including how people evaluate and express their experiences with respect to products at scale. (130M+ customer reviews) "
   ]
  },
  {
   "cell_type": "markdown",
   "metadata": {},
   "source": [
    "<br> \n",
    "\n",
    "[Back to Top ↑](#top)"
   ]
  },
  {
   "cell_type": "code",
   "execution_count": 21,
   "metadata": {},
   "outputs": [],
   "source": [
    "# Import python files we've created to help\n",
    "%run ../python_files/nlp\n",
    "%run ../python_files/data_cleaning\n",
    "%run ../python_files/classification\n",
    "%run ../python_files/visualizations"
   ]
  },
  {
   "cell_type": "code",
   "execution_count": 5,
   "metadata": {},
   "outputs": [],
   "source": [
    "# Read in original data\n",
    "df = pd.read_csv('https://s3.amazonaws.com/amazon-reviews-pds/tsv/amazon_reviews_us_Watches_v1_00.tsv.gz', sep='\\t', error_bad_lines=False, warn_bad_lines=False)"
   ]
  },
  {
   "cell_type": "markdown",
   "metadata": {},
   "source": [
    "<a id='datacleaning'></a>\n",
    "### Data Cleaning"
   ]
  },
  {
   "cell_type": "markdown",
   "metadata": {},
   "source": [
    "In preparation for our analysis, in addition to dealing with missing values and limiting our scope to the columns of interest, we also used [VADER Sentiment Analysis](https://github.com/cjhutto/vaderSentiment) (Valence Aware Dictionary and sEntiment Reasoner) to give us positive, negative, neutral and compound sentiment scores for each review in our dataset. Finally, we leveraged SMOTE to deal with the issue of unbalanced classes in our data.\n",
    "\n",
    "To make the project more modular and easier to follow & build upon, we created separate .py files to handle the heavy lifting for tasks such as data extraction & cleaning, visualizations, and natural language processing.\n",
    "\n",
    "We chose to focus on the Watches category (~960,000 customer reviews) for this analysis, though with sufficient time, the process can be generalized to the entire dataset."
   ]
  },
  {
   "cell_type": "code",
   "execution_count": 4,
   "metadata": {},
   "outputs": [],
   "source": [
    "# Clean data & load into final dataframe"
   ]
  },
  {
   "cell_type": "code",
   "execution_count": 17,
   "metadata": {},
   "outputs": [],
   "source": [
    "df = clean_data(df, 25000)\n",
    "df = append_sentiment_scores(df)"
   ]
  },
  {
   "cell_type": "markdown",
   "metadata": {},
   "source": [
    "\n",
    "\n",
    "[Back to Top ↑](#top)"
   ]
  },
  {
   "cell_type": "markdown",
   "metadata": {},
   "source": [
    "<a id='classification'></a>\n",
    "### Classification Analysis\n",
    "\n",
    "With the help of the scikit-learn package, our next step was to run a series of classification models, each time with the goal of using insight gained from the review text, to predict the number of stars in the review's star rating.\n",
    "\n",
    "To guard against data leakage, we split our dataset into training data and test data."
   ]
  },
  {
   "cell_type": "code",
   "execution_count": 22,
   "metadata": {},
   "outputs": [],
   "source": [
    "X_train, X_test, y_train, y_test = get_train_test_split(df, test_size=.25)"
   ]
  },
  {
   "cell_type": "markdown",
   "metadata": {},
   "source": [
    "\n",
    "\n",
    "[Back to Top ↑](#top)"
   ]
  },
  {
   "cell_type": "markdown",
   "metadata": {},
   "source": [
    "<a id='logisticregression'></a>\n",
    "### Logistic Regression"
   ]
  },
  {
   "cell_type": "markdown",
   "metadata": {},
   "source": [
    "For our predictive analysis we leveraged the tool of linear regression using the following parameters:\n",
    "\n",
    "- **Dependent variable:** **'trip_total'** (OR in some cases we instead looked at **'fare'**)<p>\n",
    "\n",
    "- **Independendent variables:**\n",
    "    - **'apparentTemperature'**\n",
    "    - **'start_weekday'**\n",
    "    - **'start_hour'** (OR in some cases we instead looked at **'start_time_block'**)\n",
    "    - **'pickup_community_area'** (Chicago is divided into 77 community areas, each of which belongs to one of nine \"sides\")\n",
    "\n",
    "\n",
    "We assume that our predictor variables have a linear relation with our dependent variable, that the residuals of our model follow a normal distribution, and that the dependent variable's variance is equal across all values of the independent variable.\n",
    "\n",
    "Before performing the regression, we preprocessed the data using the following steps:\n",
    "\n",
    "- Splitting out continuous (temperature) & categorical variables (the rest of the independent variables) to be dealt with separately.\n",
    "\n",
    "- Splitting data into training and test sets. We reserved 25% of our data for testing purposes, meaning that we do not work with it until after our model is finalized, to avoid data leakage.\n",
    "\n",
    "- Performing one hot encoding on our categorical variables to make usable for linear regression.\n",
    "\n",
    "- Combining our categorical and continuous features back into a final dataframe.\n"
   ]
  },
  {
   "cell_type": "markdown",
   "metadata": {},
   "source": [
    "### Ordinary Least Squares via statsmodels\n",
    "\n",
    "With our preprocessing complete (we conduct it within the **get_train_test_split()** function, as seen above), we are ready to run our series of regression. \n",
    "\n",
    "First, we run an OLS regression using statsmodels and learn that our model explains 26-30% of the variance of our independent variable **trip_total**, depending on the specific set of data we are working with."
   ]
  },
  {
   "cell_type": "code",
   "execution_count": 9,
   "metadata": {},
   "outputs": [
    {
     "data": {
      "text/html": [
       "<table class=\"simpletable\">\n",
       "<caption>OLS Regression Results</caption>\n",
       "<tr>\n",
       "  <th>Dep. Variable:</th>       <td>trip_total</td>    <th>  R-squared:         </th>  <td>   0.269</td>  \n",
       "</tr>\n",
       "<tr>\n",
       "  <th>Model:</th>                   <td>OLS</td>       <th>  Adj. R-squared:    </th>  <td>   0.269</td>  \n",
       "</tr>\n",
       "<tr>\n",
       "  <th>Method:</th>             <td>Least Squares</td>  <th>  F-statistic:       </th>  <td>   3037.</td>  \n",
       "</tr>\n",
       "<tr>\n",
       "  <th>Date:</th>             <td>Mon, 27 Jan 2020</td> <th>  Prob (F-statistic):</th>   <td>  0.00</td>   \n",
       "</tr>\n",
       "<tr>\n",
       "  <th>Time:</th>                 <td>21:56:21</td>     <th>  Log-Likelihood:    </th> <td>-2.7284e+06</td>\n",
       "</tr>\n",
       "<tr>\n",
       "  <th>No. Observations:</th>      <td>750000</td>      <th>  AIC:               </th>  <td>5.457e+06</td> \n",
       "</tr>\n",
       "<tr>\n",
       "  <th>Df Residuals:</th>          <td>749908</td>      <th>  BIC:               </th>  <td>5.458e+06</td> \n",
       "</tr>\n",
       "<tr>\n",
       "  <th>Df Model:</th>              <td>    91</td>      <th>                     </th>      <td> </td>     \n",
       "</tr>\n",
       "<tr>\n",
       "  <th>Covariance Type:</th>      <td>nonrobust</td>    <th>                     </th>      <td> </td>     \n",
       "</tr>\n",
       "</table>\n",
       "<table class=\"simpletable\">\n",
       "<tr>\n",
       "               <td></td>                 <th>coef</th>     <th>std err</th>      <th>t</th>      <th>P>|t|</th>  <th>[0.025</th>    <th>0.975]</th>  \n",
       "</tr>\n",
       "<tr>\n",
       "  <th>apparentTemperature</th>        <td>    0.0106</td> <td>    0.001</td> <td>   14.707</td> <td> 0.000</td> <td>    0.009</td> <td>    0.012</td>\n",
       "</tr>\n",
       "<tr>\n",
       "  <th>start_weekday_0.0</th>          <td>    7.1448</td> <td>    0.032</td> <td>  222.256</td> <td> 0.000</td> <td>    7.082</td> <td>    7.208</td>\n",
       "</tr>\n",
       "<tr>\n",
       "  <th>start_weekday_1.0</th>          <td>    6.6537</td> <td>    0.031</td> <td>  214.975</td> <td> 0.000</td> <td>    6.593</td> <td>    6.714</td>\n",
       "</tr>\n",
       "<tr>\n",
       "  <th>start_weekday_2.0</th>          <td>    6.6582</td> <td>    0.031</td> <td>  211.626</td> <td> 0.000</td> <td>    6.597</td> <td>    6.720</td>\n",
       "</tr>\n",
       "<tr>\n",
       "  <th>start_weekday_3.0</th>          <td>    7.2389</td> <td>    0.031</td> <td>  237.284</td> <td> 0.000</td> <td>    7.179</td> <td>    7.299</td>\n",
       "</tr>\n",
       "<tr>\n",
       "  <th>start_weekday_4.0</th>          <td>    7.2188</td> <td>    0.028</td> <td>  259.030</td> <td> 0.000</td> <td>    7.164</td> <td>    7.273</td>\n",
       "</tr>\n",
       "<tr>\n",
       "  <th>start_weekday_5.0</th>          <td>    6.9139</td> <td>    0.029</td> <td>  240.617</td> <td> 0.000</td> <td>    6.858</td> <td>    6.970</td>\n",
       "</tr>\n",
       "<tr>\n",
       "  <th>start_weekday_6.0</th>          <td>    6.6394</td> <td>    0.031</td> <td>  213.526</td> <td> 0.000</td> <td>    6.579</td> <td>    6.700</td>\n",
       "</tr>\n",
       "<tr>\n",
       "  <th>start_time_block_0.0</th>       <td>    4.9954</td> <td>    0.040</td> <td>  125.471</td> <td> 0.000</td> <td>    4.917</td> <td>    5.073</td>\n",
       "</tr>\n",
       "<tr>\n",
       "  <th>start_time_block_1.0</th>       <td>    9.1630</td> <td>    0.052</td> <td>  174.746</td> <td> 0.000</td> <td>    9.060</td> <td>    9.266</td>\n",
       "</tr>\n",
       "<tr>\n",
       "  <th>start_time_block_2.0</th>       <td>    7.0339</td> <td>    0.032</td> <td>  222.766</td> <td> 0.000</td> <td>    6.972</td> <td>    7.096</td>\n",
       "</tr>\n",
       "<tr>\n",
       "  <th>start_time_block_3.0</th>       <td>    5.7385</td> <td>    0.030</td> <td>  189.073</td> <td> 0.000</td> <td>    5.679</td> <td>    5.798</td>\n",
       "</tr>\n",
       "<tr>\n",
       "  <th>start_time_block_4.0</th>       <td>    5.9689</td> <td>    0.031</td> <td>  193.563</td> <td> 0.000</td> <td>    5.908</td> <td>    6.029</td>\n",
       "</tr>\n",
       "<tr>\n",
       "  <th>start_time_block_5.0</th>       <td>    5.9311</td> <td>    0.028</td> <td>  208.388</td> <td> 0.000</td> <td>    5.875</td> <td>    5.987</td>\n",
       "</tr>\n",
       "<tr>\n",
       "  <th>start_time_block_6.0</th>       <td>    4.8177</td> <td>    0.027</td> <td>  177.945</td> <td> 0.000</td> <td>    4.765</td> <td>    4.871</td>\n",
       "</tr>\n",
       "<tr>\n",
       "  <th>start_time_block_7.0</th>       <td>    4.8192</td> <td>    0.029</td> <td>  163.469</td> <td> 0.000</td> <td>    4.761</td> <td>    4.877</td>\n",
       "</tr>\n",
       "<tr>\n",
       "  <th>pickup_community_area_0.0</th>  <td>   12.9439</td> <td>    0.050</td> <td>  258.530</td> <td> 0.000</td> <td>   12.846</td> <td>   13.042</td>\n",
       "</tr>\n",
       "<tr>\n",
       "  <th>pickup_community_area_1.0</th>  <td>    0.2215</td> <td>    0.098</td> <td>    2.255</td> <td> 0.024</td> <td>    0.029</td> <td>    0.414</td>\n",
       "</tr>\n",
       "<tr>\n",
       "  <th>pickup_community_area_2.0</th>  <td>   -0.7594</td> <td>    0.116</td> <td>   -6.544</td> <td> 0.000</td> <td>   -0.987</td> <td>   -0.532</td>\n",
       "</tr>\n",
       "<tr>\n",
       "  <th>pickup_community_area_3.0</th>  <td>   -0.2985</td> <td>    0.076</td> <td>   -3.948</td> <td> 0.000</td> <td>   -0.447</td> <td>   -0.150</td>\n",
       "</tr>\n",
       "<tr>\n",
       "  <th>pickup_community_area_4.0</th>  <td>    0.1663</td> <td>    0.102</td> <td>    1.638</td> <td> 0.101</td> <td>   -0.033</td> <td>    0.365</td>\n",
       "</tr>\n",
       "<tr>\n",
       "  <th>pickup_community_area_5.0</th>  <td>   -0.0116</td> <td>    0.096</td> <td>   -0.121</td> <td> 0.904</td> <td>   -0.200</td> <td>    0.177</td>\n",
       "</tr>\n",
       "<tr>\n",
       "  <th>pickup_community_area_6.0</th>  <td>   -0.5926</td> <td>    0.047</td> <td>  -12.577</td> <td> 0.000</td> <td>   -0.685</td> <td>   -0.500</td>\n",
       "</tr>\n",
       "<tr>\n",
       "  <th>pickup_community_area_7.0</th>  <td>   -1.1456</td> <td>    0.051</td> <td>  -22.403</td> <td> 0.000</td> <td>   -1.246</td> <td>   -1.045</td>\n",
       "</tr>\n",
       "<tr>\n",
       "  <th>pickup_community_area_8.0</th>  <td>   -0.4377</td> <td>    0.036</td> <td>  -12.243</td> <td> 0.000</td> <td>   -0.508</td> <td>   -0.368</td>\n",
       "</tr>\n",
       "<tr>\n",
       "  <th>pickup_community_area_9.0</th>  <td>    2.0928</td> <td>    0.358</td> <td>    5.850</td> <td> 0.000</td> <td>    1.392</td> <td>    2.794</td>\n",
       "</tr>\n",
       "<tr>\n",
       "  <th>pickup_community_area_10.0</th> <td>    1.0819</td> <td>    0.196</td> <td>    5.520</td> <td> 0.000</td> <td>    0.698</td> <td>    1.466</td>\n",
       "</tr>\n",
       "<tr>\n",
       "  <th>pickup_community_area_11.0</th> <td>    0.8438</td> <td>    0.204</td> <td>    4.131</td> <td> 0.000</td> <td>    0.443</td> <td>    1.244</td>\n",
       "</tr>\n",
       "<tr>\n",
       "  <th>pickup_community_area_12.0</th> <td>    3.0744</td> <td>    0.302</td> <td>   10.166</td> <td> 0.000</td> <td>    2.482</td> <td>    3.667</td>\n",
       "</tr>\n",
       "<tr>\n",
       "  <th>pickup_community_area_13.0</th> <td>    0.0755</td> <td>    0.216</td> <td>    0.350</td> <td> 0.726</td> <td>   -0.347</td> <td>    0.498</td>\n",
       "</tr>\n",
       "<tr>\n",
       "  <th>pickup_community_area_14.0</th> <td>   -0.1029</td> <td>    0.131</td> <td>   -0.783</td> <td> 0.434</td> <td>   -0.361</td> <td>    0.155</td>\n",
       "</tr>\n",
       "<tr>\n",
       "  <th>pickup_community_area_15.0</th> <td>    0.4083</td> <td>    0.136</td> <td>    2.996</td> <td> 0.003</td> <td>    0.141</td> <td>    0.675</td>\n",
       "</tr>\n",
       "<tr>\n",
       "  <th>pickup_community_area_16.0</th> <td>   -0.0180</td> <td>    0.107</td> <td>   -0.169</td> <td> 0.866</td> <td>   -0.227</td> <td>    0.191</td>\n",
       "</tr>\n",
       "<tr>\n",
       "  <th>pickup_community_area_17.0</th> <td>    0.7635</td> <td>    0.212</td> <td>    3.597</td> <td> 0.000</td> <td>    0.347</td> <td>    1.180</td>\n",
       "</tr>\n",
       "<tr>\n",
       "  <th>pickup_community_area_18.0</th> <td>   -0.0433</td> <td>    0.316</td> <td>   -0.137</td> <td> 0.891</td> <td>   -0.663</td> <td>    0.576</td>\n",
       "</tr>\n",
       "<tr>\n",
       "  <th>pickup_community_area_19.0</th> <td>   -1.0394</td> <td>    0.126</td> <td>   -8.263</td> <td> 0.000</td> <td>   -1.286</td> <td>   -0.793</td>\n",
       "</tr>\n",
       "<tr>\n",
       "  <th>pickup_community_area_20.0</th> <td>   -0.7171</td> <td>    0.198</td> <td>   -3.615</td> <td> 0.000</td> <td>   -1.106</td> <td>   -0.328</td>\n",
       "</tr>\n",
       "<tr>\n",
       "  <th>pickup_community_area_21.0</th> <td>   -0.6902</td> <td>    0.100</td> <td>   -6.882</td> <td> 0.000</td> <td>   -0.887</td> <td>   -0.494</td>\n",
       "</tr>\n",
       "<tr>\n",
       "  <th>pickup_community_area_22.0</th> <td>   -1.0504</td> <td>    0.059</td> <td>  -17.891</td> <td> 0.000</td> <td>   -1.165</td> <td>   -0.935</td>\n",
       "</tr>\n",
       "<tr>\n",
       "  <th>pickup_community_area_23.0</th> <td>   -1.2455</td> <td>    0.116</td> <td>  -10.783</td> <td> 0.000</td> <td>   -1.472</td> <td>   -1.019</td>\n",
       "</tr>\n",
       "<tr>\n",
       "  <th>pickup_community_area_24.0</th> <td>   -1.4903</td> <td>    0.048</td> <td>  -31.046</td> <td> 0.000</td> <td>   -1.584</td> <td>   -1.396</td>\n",
       "</tr>\n",
       "<tr>\n",
       "  <th>pickup_community_area_25.0</th> <td>   -0.6220</td> <td>    0.099</td> <td>   -6.263</td> <td> 0.000</td> <td>   -0.817</td> <td>   -0.427</td>\n",
       "</tr>\n",
       "<tr>\n",
       "  <th>pickup_community_area_26.0</th> <td>   -1.4309</td> <td>    0.203</td> <td>   -7.063</td> <td> 0.000</td> <td>   -1.828</td> <td>   -1.034</td>\n",
       "</tr>\n",
       "<tr>\n",
       "  <th>pickup_community_area_27.0</th> <td>   -1.6068</td> <td>    0.159</td> <td>  -10.090</td> <td> 0.000</td> <td>   -1.919</td> <td>   -1.295</td>\n",
       "</tr>\n",
       "<tr>\n",
       "  <th>pickup_community_area_28.0</th> <td>   -0.9846</td> <td>    0.043</td> <td>  -22.956</td> <td> 0.000</td> <td>   -1.069</td> <td>   -0.901</td>\n",
       "</tr>\n",
       "<tr>\n",
       "  <th>pickup_community_area_29.0</th> <td>   -1.1604</td> <td>    0.129</td> <td>   -9.006</td> <td> 0.000</td> <td>   -1.413</td> <td>   -0.908</td>\n",
       "</tr>\n",
       "<tr>\n",
       "  <th>pickup_community_area_30.0</th> <td>   -0.8544</td> <td>    0.139</td> <td>   -6.155</td> <td> 0.000</td> <td>   -1.127</td> <td>   -0.582</td>\n",
       "</tr>\n",
       "<tr>\n",
       "  <th>pickup_community_area_31.0</th> <td>   -1.5503</td> <td>    0.097</td> <td>  -16.022</td> <td> 0.000</td> <td>   -1.740</td> <td>   -1.361</td>\n",
       "</tr>\n",
       "<tr>\n",
       "  <th>pickup_community_area_32.0</th> <td>    0.5406</td> <td>    0.044</td> <td>   12.409</td> <td> 0.000</td> <td>    0.455</td> <td>    0.626</td>\n",
       "</tr>\n",
       "<tr>\n",
       "  <th>pickup_community_area_33.0</th> <td>    1.1239</td> <td>    0.083</td> <td>   13.604</td> <td> 0.000</td> <td>    0.962</td> <td>    1.286</td>\n",
       "</tr>\n",
       "<tr>\n",
       "  <th>pickup_community_area_34.0</th> <td>   -1.0104</td> <td>    0.157</td> <td>   -6.438</td> <td> 0.000</td> <td>   -1.318</td> <td>   -0.703</td>\n",
       "</tr>\n",
       "<tr>\n",
       "  <th>pickup_community_area_35.0</th> <td>   -1.5098</td> <td>    0.129</td> <td>  -11.672</td> <td> 0.000</td> <td>   -1.763</td> <td>   -1.256</td>\n",
       "</tr>\n",
       "<tr>\n",
       "  <th>pickup_community_area_36.0</th> <td>   -0.9903</td> <td>    0.288</td> <td>   -3.437</td> <td> 0.001</td> <td>   -1.555</td> <td>   -0.426</td>\n",
       "</tr>\n",
       "<tr>\n",
       "  <th>pickup_community_area_37.0</th> <td>   -2.4112</td> <td>    0.342</td> <td>   -7.060</td> <td> 0.000</td> <td>   -3.081</td> <td>   -1.742</td>\n",
       "</tr>\n",
       "<tr>\n",
       "  <th>pickup_community_area_38.0</th> <td>   -1.5535</td> <td>    0.137</td> <td>  -11.321</td> <td> 0.000</td> <td>   -1.822</td> <td>   -1.285</td>\n",
       "</tr>\n",
       "<tr>\n",
       "  <th>pickup_community_area_39.0</th> <td>   -0.4444</td> <td>    0.154</td> <td>   -2.878</td> <td> 0.004</td> <td>   -0.747</td> <td>   -0.142</td>\n",
       "</tr>\n",
       "<tr>\n",
       "  <th>pickup_community_area_40.0</th> <td>   -1.6587</td> <td>    0.192</td> <td>   -8.655</td> <td> 0.000</td> <td>   -2.034</td> <td>   -1.283</td>\n",
       "</tr>\n",
       "<tr>\n",
       "  <th>pickup_community_area_41.0</th> <td>    0.3098</td> <td>    0.089</td> <td>    3.499</td> <td> 0.000</td> <td>    0.136</td> <td>    0.483</td>\n",
       "</tr>\n",
       "<tr>\n",
       "  <th>pickup_community_area_42.0</th> <td>   -0.6671</td> <td>    0.138</td> <td>   -4.825</td> <td> 0.000</td> <td>   -0.938</td> <td>   -0.396</td>\n",
       "</tr>\n",
       "<tr>\n",
       "  <th>pickup_community_area_43.0</th> <td>    0.1159</td> <td>    0.121</td> <td>    0.957</td> <td> 0.339</td> <td>   -0.122</td> <td>    0.353</td>\n",
       "</tr>\n",
       "<tr>\n",
       "  <th>pickup_community_area_44.0</th> <td>   -0.9603</td> <td>    0.138</td> <td>   -6.938</td> <td> 0.000</td> <td>   -1.232</td> <td>   -0.689</td>\n",
       "</tr>\n",
       "<tr>\n",
       "  <th>pickup_community_area_45.0</th> <td>    0.0286</td> <td>    0.313</td> <td>    0.092</td> <td> 0.927</td> <td>   -0.585</td> <td>    0.642</td>\n",
       "</tr>\n",
       "<tr>\n",
       "  <th>pickup_community_area_46.0</th> <td>    0.7257</td> <td>    0.207</td> <td>    3.501</td> <td> 0.000</td> <td>    0.319</td> <td>    1.132</td>\n",
       "</tr>\n",
       "<tr>\n",
       "  <th>pickup_community_area_47.0</th> <td>    0.1252</td> <td>    0.531</td> <td>    0.236</td> <td> 0.814</td> <td>   -0.916</td> <td>    1.166</td>\n",
       "</tr>\n",
       "<tr>\n",
       "  <th>pickup_community_area_48.0</th> <td>    0.7985</td> <td>    0.297</td> <td>    2.688</td> <td> 0.007</td> <td>    0.216</td> <td>    1.381</td>\n",
       "</tr>\n",
       "<tr>\n",
       "  <th>pickup_community_area_49.0</th> <td>    0.2740</td> <td>    0.151</td> <td>    1.817</td> <td> 0.069</td> <td>   -0.022</td> <td>    0.569</td>\n",
       "</tr>\n",
       "<tr>\n",
       "  <th>pickup_community_area_50.0</th> <td>   -0.0102</td> <td>    0.327</td> <td>   -0.031</td> <td> 0.975</td> <td>   -0.652</td> <td>    0.632</td>\n",
       "</tr>\n",
       "<tr>\n",
       "  <th>pickup_community_area_51.0</th> <td>    1.0885</td> <td>    0.290</td> <td>    3.751</td> <td> 0.000</td> <td>    0.520</td> <td>    1.657</td>\n",
       "</tr>\n",
       "<tr>\n",
       "  <th>pickup_community_area_52.0</th> <td>    4.5095</td> <td>    0.519</td> <td>    8.688</td> <td> 0.000</td> <td>    3.492</td> <td>    5.527</td>\n",
       "</tr>\n",
       "<tr>\n",
       "  <th>pickup_community_area_53.0</th> <td>    1.2412</td> <td>    0.232</td> <td>    5.347</td> <td> 0.000</td> <td>    0.786</td> <td>    1.696</td>\n",
       "</tr>\n",
       "<tr>\n",
       "  <th>pickup_community_area_54.0</th> <td>    3.3272</td> <td>    0.437</td> <td>    7.618</td> <td> 0.000</td> <td>    2.471</td> <td>    4.183</td>\n",
       "</tr>\n",
       "<tr>\n",
       "  <th>pickup_community_area_55.0</th> <td>    5.3613</td> <td>    0.626</td> <td>    8.566</td> <td> 0.000</td> <td>    4.135</td> <td>    6.588</td>\n",
       "</tr>\n",
       "<tr>\n",
       "  <th>pickup_community_area_56.0</th> <td>   17.5050</td> <td>    0.105</td> <td>  166.939</td> <td> 0.000</td> <td>   17.299</td> <td>   17.710</td>\n",
       "</tr>\n",
       "<tr>\n",
       "  <th>pickup_community_area_57.0</th> <td>   -0.8007</td> <td>    0.250</td> <td>   -3.209</td> <td> 0.001</td> <td>   -1.290</td> <td>   -0.312</td>\n",
       "</tr>\n",
       "<tr>\n",
       "  <th>pickup_community_area_58.0</th> <td>   -1.5998</td> <td>    0.166</td> <td>   -9.647</td> <td> 0.000</td> <td>   -1.925</td> <td>   -1.275</td>\n",
       "</tr>\n",
       "<tr>\n",
       "  <th>pickup_community_area_59.0</th> <td>   -1.2602</td> <td>    0.218</td> <td>   -5.784</td> <td> 0.000</td> <td>   -1.687</td> <td>   -0.833</td>\n",
       "</tr>\n",
       "<tr>\n",
       "  <th>pickup_community_area_60.0</th> <td>   -1.1049</td> <td>    0.140</td> <td>   -7.900</td> <td> 0.000</td> <td>   -1.379</td> <td>   -0.831</td>\n",
       "</tr>\n",
       "<tr>\n",
       "  <th>pickup_community_area_61.0</th> <td>   -1.4694</td> <td>    0.155</td> <td>   -9.501</td> <td> 0.000</td> <td>   -1.773</td> <td>   -1.166</td>\n",
       "</tr>\n",
       "<tr>\n",
       "  <th>pickup_community_area_62.0</th> <td>   -1.2559</td> <td>    0.290</td> <td>   -4.331</td> <td> 0.000</td> <td>   -1.824</td> <td>   -0.688</td>\n",
       "</tr>\n",
       "<tr>\n",
       "  <th>pickup_community_area_63.0</th> <td>   -1.0401</td> <td>    0.202</td> <td>   -5.153</td> <td> 0.000</td> <td>   -1.436</td> <td>   -0.645</td>\n",
       "</tr>\n",
       "<tr>\n",
       "  <th>pickup_community_area_64.0</th> <td>    1.1994</td> <td>    0.291</td> <td>    4.115</td> <td> 0.000</td> <td>    0.628</td> <td>    1.771</td>\n",
       "</tr>\n",
       "<tr>\n",
       "  <th>pickup_community_area_65.0</th> <td>   -0.6113</td> <td>    0.217</td> <td>   -2.821</td> <td> 0.005</td> <td>   -1.036</td> <td>   -0.187</td>\n",
       "</tr>\n",
       "<tr>\n",
       "  <th>pickup_community_area_66.0</th> <td>   -0.4306</td> <td>    0.158</td> <td>   -2.727</td> <td> 0.006</td> <td>   -0.740</td> <td>   -0.121</td>\n",
       "</tr>\n",
       "<tr>\n",
       "  <th>pickup_community_area_67.0</th> <td>   -1.0119</td> <td>    0.173</td> <td>   -5.849</td> <td> 0.000</td> <td>   -1.351</td> <td>   -0.673</td>\n",
       "</tr>\n",
       "<tr>\n",
       "  <th>pickup_community_area_68.0</th> <td>   -1.5498</td> <td>    0.159</td> <td>   -9.735</td> <td> 0.000</td> <td>   -1.862</td> <td>   -1.238</td>\n",
       "</tr>\n",
       "<tr>\n",
       "  <th>pickup_community_area_69.0</th> <td>   -1.3642</td> <td>    0.141</td> <td>   -9.641</td> <td> 0.000</td> <td>   -1.641</td> <td>   -1.087</td>\n",
       "</tr>\n",
       "<tr>\n",
       "  <th>pickup_community_area_70.0</th> <td>    0.6763</td> <td>    0.205</td> <td>    3.305</td> <td> 0.001</td> <td>    0.275</td> <td>    1.077</td>\n",
       "</tr>\n",
       "<tr>\n",
       "  <th>pickup_community_area_71.0</th> <td>   -0.3827</td> <td>    0.146</td> <td>   -2.627</td> <td> 0.009</td> <td>   -0.668</td> <td>   -0.097</td>\n",
       "</tr>\n",
       "<tr>\n",
       "  <th>pickup_community_area_72.0</th> <td>    2.4229</td> <td>    0.299</td> <td>    8.098</td> <td> 0.000</td> <td>    1.837</td> <td>    3.009</td>\n",
       "</tr>\n",
       "<tr>\n",
       "  <th>pickup_community_area_73.0</th> <td>    0.3923</td> <td>    0.206</td> <td>    1.905</td> <td> 0.057</td> <td>   -0.011</td> <td>    0.796</td>\n",
       "</tr>\n",
       "<tr>\n",
       "  <th>pickup_community_area_74.0</th> <td>    2.3330</td> <td>    0.387</td> <td>    6.022</td> <td> 0.000</td> <td>    1.574</td> <td>    3.092</td>\n",
       "</tr>\n",
       "<tr>\n",
       "  <th>pickup_community_area_75.0</th> <td>    1.1188</td> <td>    0.246</td> <td>    4.550</td> <td> 0.000</td> <td>    0.637</td> <td>    1.601</td>\n",
       "</tr>\n",
       "<tr>\n",
       "  <th>pickup_community_area_76.0</th> <td>   24.0190</td> <td>    0.064</td> <td>  374.295</td> <td> 0.000</td> <td>   23.893</td> <td>   24.145</td>\n",
       "</tr>\n",
       "<tr>\n",
       "  <th>pickup_community_area_77.0</th> <td>    0.5085</td> <td>    0.090</td> <td>    5.677</td> <td> 0.000</td> <td>    0.333</td> <td>    0.684</td>\n",
       "</tr>\n",
       "</table>\n",
       "<table class=\"simpletable\">\n",
       "<tr>\n",
       "  <th>Omnibus:</th>       <td>606392.152</td> <th>  Durbin-Watson:     </th>   <td>   1.998</td>  \n",
       "</tr>\n",
       "<tr>\n",
       "  <th>Prob(Omnibus):</th>   <td> 0.000</td>   <th>  Jarque-Bera (JB):  </th> <td>43772139.333</td>\n",
       "</tr>\n",
       "<tr>\n",
       "  <th>Skew:</th>            <td> 3.405</td>   <th>  Prob(JB):          </th>   <td>    0.00</td>  \n",
       "</tr>\n",
       "<tr>\n",
       "  <th>Kurtosis:</th>        <td>39.801</td>   <th>  Cond. No.          </th>   <td>1.00e+16</td>  \n",
       "</tr>\n",
       "</table><br/><br/>Warnings:<br/>[1] Standard Errors assume that the covariance matrix of the errors is correctly specified.<br/>[2] The smallest eigenvalue is  5e-24. This might indicate that there are<br/>strong multicollinearity problems or that the design matrix is singular."
      ],
      "text/plain": [
       "<class 'statsmodels.iolib.summary.Summary'>\n",
       "\"\"\"\n",
       "                            OLS Regression Results                            \n",
       "==============================================================================\n",
       "Dep. Variable:             trip_total   R-squared:                       0.269\n",
       "Model:                            OLS   Adj. R-squared:                  0.269\n",
       "Method:                 Least Squares   F-statistic:                     3037.\n",
       "Date:                Mon, 27 Jan 2020   Prob (F-statistic):               0.00\n",
       "Time:                        21:56:21   Log-Likelihood:            -2.7284e+06\n",
       "No. Observations:              750000   AIC:                         5.457e+06\n",
       "Df Residuals:                  749908   BIC:                         5.458e+06\n",
       "Df Model:                          91                                         \n",
       "Covariance Type:            nonrobust                                         \n",
       "==============================================================================================\n",
       "                                 coef    std err          t      P>|t|      [0.025      0.975]\n",
       "----------------------------------------------------------------------------------------------\n",
       "apparentTemperature            0.0106      0.001     14.707      0.000       0.009       0.012\n",
       "start_weekday_0.0              7.1448      0.032    222.256      0.000       7.082       7.208\n",
       "start_weekday_1.0              6.6537      0.031    214.975      0.000       6.593       6.714\n",
       "start_weekday_2.0              6.6582      0.031    211.626      0.000       6.597       6.720\n",
       "start_weekday_3.0              7.2389      0.031    237.284      0.000       7.179       7.299\n",
       "start_weekday_4.0              7.2188      0.028    259.030      0.000       7.164       7.273\n",
       "start_weekday_5.0              6.9139      0.029    240.617      0.000       6.858       6.970\n",
       "start_weekday_6.0              6.6394      0.031    213.526      0.000       6.579       6.700\n",
       "start_time_block_0.0           4.9954      0.040    125.471      0.000       4.917       5.073\n",
       "start_time_block_1.0           9.1630      0.052    174.746      0.000       9.060       9.266\n",
       "start_time_block_2.0           7.0339      0.032    222.766      0.000       6.972       7.096\n",
       "start_time_block_3.0           5.7385      0.030    189.073      0.000       5.679       5.798\n",
       "start_time_block_4.0           5.9689      0.031    193.563      0.000       5.908       6.029\n",
       "start_time_block_5.0           5.9311      0.028    208.388      0.000       5.875       5.987\n",
       "start_time_block_6.0           4.8177      0.027    177.945      0.000       4.765       4.871\n",
       "start_time_block_7.0           4.8192      0.029    163.469      0.000       4.761       4.877\n",
       "pickup_community_area_0.0     12.9439      0.050    258.530      0.000      12.846      13.042\n",
       "pickup_community_area_1.0      0.2215      0.098      2.255      0.024       0.029       0.414\n",
       "pickup_community_area_2.0     -0.7594      0.116     -6.544      0.000      -0.987      -0.532\n",
       "pickup_community_area_3.0     -0.2985      0.076     -3.948      0.000      -0.447      -0.150\n",
       "pickup_community_area_4.0      0.1663      0.102      1.638      0.101      -0.033       0.365\n",
       "pickup_community_area_5.0     -0.0116      0.096     -0.121      0.904      -0.200       0.177\n",
       "pickup_community_area_6.0     -0.5926      0.047    -12.577      0.000      -0.685      -0.500\n",
       "pickup_community_area_7.0     -1.1456      0.051    -22.403      0.000      -1.246      -1.045\n",
       "pickup_community_area_8.0     -0.4377      0.036    -12.243      0.000      -0.508      -0.368\n",
       "pickup_community_area_9.0      2.0928      0.358      5.850      0.000       1.392       2.794\n",
       "pickup_community_area_10.0     1.0819      0.196      5.520      0.000       0.698       1.466\n",
       "pickup_community_area_11.0     0.8438      0.204      4.131      0.000       0.443       1.244\n",
       "pickup_community_area_12.0     3.0744      0.302     10.166      0.000       2.482       3.667\n",
       "pickup_community_area_13.0     0.0755      0.216      0.350      0.726      -0.347       0.498\n",
       "pickup_community_area_14.0    -0.1029      0.131     -0.783      0.434      -0.361       0.155\n",
       "pickup_community_area_15.0     0.4083      0.136      2.996      0.003       0.141       0.675\n",
       "pickup_community_area_16.0    -0.0180      0.107     -0.169      0.866      -0.227       0.191\n",
       "pickup_community_area_17.0     0.7635      0.212      3.597      0.000       0.347       1.180\n",
       "pickup_community_area_18.0    -0.0433      0.316     -0.137      0.891      -0.663       0.576\n",
       "pickup_community_area_19.0    -1.0394      0.126     -8.263      0.000      -1.286      -0.793\n",
       "pickup_community_area_20.0    -0.7171      0.198     -3.615      0.000      -1.106      -0.328\n",
       "pickup_community_area_21.0    -0.6902      0.100     -6.882      0.000      -0.887      -0.494\n",
       "pickup_community_area_22.0    -1.0504      0.059    -17.891      0.000      -1.165      -0.935\n",
       "pickup_community_area_23.0    -1.2455      0.116    -10.783      0.000      -1.472      -1.019\n",
       "pickup_community_area_24.0    -1.4903      0.048    -31.046      0.000      -1.584      -1.396\n",
       "pickup_community_area_25.0    -0.6220      0.099     -6.263      0.000      -0.817      -0.427\n",
       "pickup_community_area_26.0    -1.4309      0.203     -7.063      0.000      -1.828      -1.034\n",
       "pickup_community_area_27.0    -1.6068      0.159    -10.090      0.000      -1.919      -1.295\n",
       "pickup_community_area_28.0    -0.9846      0.043    -22.956      0.000      -1.069      -0.901\n",
       "pickup_community_area_29.0    -1.1604      0.129     -9.006      0.000      -1.413      -0.908\n",
       "pickup_community_area_30.0    -0.8544      0.139     -6.155      0.000      -1.127      -0.582\n",
       "pickup_community_area_31.0    -1.5503      0.097    -16.022      0.000      -1.740      -1.361\n",
       "pickup_community_area_32.0     0.5406      0.044     12.409      0.000       0.455       0.626\n",
       "pickup_community_area_33.0     1.1239      0.083     13.604      0.000       0.962       1.286\n",
       "pickup_community_area_34.0    -1.0104      0.157     -6.438      0.000      -1.318      -0.703\n",
       "pickup_community_area_35.0    -1.5098      0.129    -11.672      0.000      -1.763      -1.256\n",
       "pickup_community_area_36.0    -0.9903      0.288     -3.437      0.001      -1.555      -0.426\n",
       "pickup_community_area_37.0    -2.4112      0.342     -7.060      0.000      -3.081      -1.742\n",
       "pickup_community_area_38.0    -1.5535      0.137    -11.321      0.000      -1.822      -1.285\n",
       "pickup_community_area_39.0    -0.4444      0.154     -2.878      0.004      -0.747      -0.142\n",
       "pickup_community_area_40.0    -1.6587      0.192     -8.655      0.000      -2.034      -1.283\n",
       "pickup_community_area_41.0     0.3098      0.089      3.499      0.000       0.136       0.483\n",
       "pickup_community_area_42.0    -0.6671      0.138     -4.825      0.000      -0.938      -0.396\n",
       "pickup_community_area_43.0     0.1159      0.121      0.957      0.339      -0.122       0.353\n",
       "pickup_community_area_44.0    -0.9603      0.138     -6.938      0.000      -1.232      -0.689\n",
       "pickup_community_area_45.0     0.0286      0.313      0.092      0.927      -0.585       0.642\n",
       "pickup_community_area_46.0     0.7257      0.207      3.501      0.000       0.319       1.132\n",
       "pickup_community_area_47.0     0.1252      0.531      0.236      0.814      -0.916       1.166\n",
       "pickup_community_area_48.0     0.7985      0.297      2.688      0.007       0.216       1.381\n",
       "pickup_community_area_49.0     0.2740      0.151      1.817      0.069      -0.022       0.569\n",
       "pickup_community_area_50.0    -0.0102      0.327     -0.031      0.975      -0.652       0.632\n",
       "pickup_community_area_51.0     1.0885      0.290      3.751      0.000       0.520       1.657\n",
       "pickup_community_area_52.0     4.5095      0.519      8.688      0.000       3.492       5.527\n",
       "pickup_community_area_53.0     1.2412      0.232      5.347      0.000       0.786       1.696\n",
       "pickup_community_area_54.0     3.3272      0.437      7.618      0.000       2.471       4.183\n",
       "pickup_community_area_55.0     5.3613      0.626      8.566      0.000       4.135       6.588\n",
       "pickup_community_area_56.0    17.5050      0.105    166.939      0.000      17.299      17.710\n",
       "pickup_community_area_57.0    -0.8007      0.250     -3.209      0.001      -1.290      -0.312\n",
       "pickup_community_area_58.0    -1.5998      0.166     -9.647      0.000      -1.925      -1.275\n",
       "pickup_community_area_59.0    -1.2602      0.218     -5.784      0.000      -1.687      -0.833\n",
       "pickup_community_area_60.0    -1.1049      0.140     -7.900      0.000      -1.379      -0.831\n",
       "pickup_community_area_61.0    -1.4694      0.155     -9.501      0.000      -1.773      -1.166\n",
       "pickup_community_area_62.0    -1.2559      0.290     -4.331      0.000      -1.824      -0.688\n",
       "pickup_community_area_63.0    -1.0401      0.202     -5.153      0.000      -1.436      -0.645\n",
       "pickup_community_area_64.0     1.1994      0.291      4.115      0.000       0.628       1.771\n",
       "pickup_community_area_65.0    -0.6113      0.217     -2.821      0.005      -1.036      -0.187\n",
       "pickup_community_area_66.0    -0.4306      0.158     -2.727      0.006      -0.740      -0.121\n",
       "pickup_community_area_67.0    -1.0119      0.173     -5.849      0.000      -1.351      -0.673\n",
       "pickup_community_area_68.0    -1.5498      0.159     -9.735      0.000      -1.862      -1.238\n",
       "pickup_community_area_69.0    -1.3642      0.141     -9.641      0.000      -1.641      -1.087\n",
       "pickup_community_area_70.0     0.6763      0.205      3.305      0.001       0.275       1.077\n",
       "pickup_community_area_71.0    -0.3827      0.146     -2.627      0.009      -0.668      -0.097\n",
       "pickup_community_area_72.0     2.4229      0.299      8.098      0.000       1.837       3.009\n",
       "pickup_community_area_73.0     0.3923      0.206      1.905      0.057      -0.011       0.796\n",
       "pickup_community_area_74.0     2.3330      0.387      6.022      0.000       1.574       3.092\n",
       "pickup_community_area_75.0     1.1188      0.246      4.550      0.000       0.637       1.601\n",
       "pickup_community_area_76.0    24.0190      0.064    374.295      0.000      23.893      24.145\n",
       "pickup_community_area_77.0     0.5085      0.090      5.677      0.000       0.333       0.684\n",
       "==============================================================================\n",
       "Omnibus:                   606392.152   Durbin-Watson:                   1.998\n",
       "Prob(Omnibus):                  0.000   Jarque-Bera (JB):         43772139.333\n",
       "Skew:                           3.405   Prob(JB):                         0.00\n",
       "Kurtosis:                      39.801   Cond. No.                     1.00e+16\n",
       "==============================================================================\n",
       "\n",
       "Warnings:\n",
       "[1] Standard Errors assume that the covariance matrix of the errors is correctly specified.\n",
       "[2] The smallest eigenvalue is  5e-24. This might indicate that there are\n",
       "strong multicollinearity problems or that the design matrix is singular.\n",
       "\"\"\""
      ]
     },
     "execution_count": 9,
     "metadata": {},
     "output_type": "execute_result"
    }
   ],
   "source": [
    "OLS(y_train, X_train)"
   ]
  },
  {
   "cell_type": "markdown",
   "metadata": {},
   "source": [
    "Looking at the p-values for the coefficients, we can see that most of the variables are significant. \n",
    "\n",
    "However, our model does suffer from issues with the Jarque-Bera test, as well as the F-statistic, indicating that errors are not likely to be normally distributed, and the homoscedasticity assumption is likely to be violated. We need to focus on addressing these issues in our future analysis, perhaps using log transformations as a starting point."
   ]
  },
  {
   "cell_type": "markdown",
   "metadata": {},
   "source": [
    "### Ridge & Lasso via scikit-learn\n",
    "\n",
    "We attempted to see whether we could get any improvement in predictive by using Ridge or Lasso to reduce model variance. Unfortunately, neither one helped us, no matter the value of lambda/alpha with Lasso canceling every variable but one, yielding an R-squared of essentially 0, and Ridge making little to no changes to our model coefficients or R-squared."
   ]
  },
  {
   "cell_type": "code",
   "execution_count": 10,
   "metadata": {},
   "outputs": [
    {
     "name": "stdout",
     "output_type": "stream",
     "text": [
      "Training r^2: 0.00015629742404010827\n",
      "Training MSE: 115.73685735520652\n"
     ]
    },
    {
     "data": {
      "text/plain": [
       "array([ 0.00555097,  0.        , -0.        , -0.        ,  0.        ,\n",
       "        0.        , -0.        , -0.        , -0.        ,  0.        ,\n",
       "        0.        ,  0.        ,  0.        ,  0.        , -0.        ,\n",
       "       -0.        ,  0.        , -0.        , -0.        , -0.        ,\n",
       "       -0.        , -0.        , -0.        , -0.        , -0.        ,\n",
       "        0.        ,  0.        , -0.        ,  0.        , -0.        ,\n",
       "       -0.        , -0.        , -0.        , -0.        , -0.        ,\n",
       "       -0.        , -0.        , -0.        , -0.        , -0.        ,\n",
       "       -0.        , -0.        , -0.        , -0.        , -0.        ,\n",
       "       -0.        , -0.        , -0.        , -0.        , -0.        ,\n",
       "       -0.        , -0.        , -0.        , -0.        , -0.        ,\n",
       "       -0.        , -0.        , -0.        , -0.        , -0.        ,\n",
       "       -0.        , -0.        , -0.        , -0.        , -0.        ,\n",
       "       -0.        , -0.        ,  0.        ,  0.        ,  0.        ,\n",
       "        0.        ,  0.        ,  0.        , -0.        , -0.        ,\n",
       "       -0.        , -0.        , -0.        , -0.        , -0.        ,\n",
       "        0.        , -0.        , -0.        , -0.        , -0.        ,\n",
       "       -0.        , -0.        , -0.        ,  0.        , -0.        ,\n",
       "        0.        , -0.        ,  0.        , -0.        ])"
      ]
     },
     "execution_count": 10,
     "metadata": {},
     "output_type": "execute_result"
    }
   ],
   "source": [
    "lasso = Lasso(X_train, y_train)\n",
    "lasso.coef_"
   ]
  },
  {
   "cell_type": "code",
   "execution_count": 11,
   "metadata": {},
   "outputs": [
    {
     "name": "stdout",
     "output_type": "stream",
     "text": [
      "Training r^2: 0.2692902385915754\n",
      "Training MSE: 84.58327157164737\n"
     ]
    },
    {
     "data": {
      "text/plain": [
       "array([ 1.05576264e-02,  2.21042414e-01, -2.70227372e-01, -2.65692166e-01,\n",
       "        3.14968946e-01,  2.94689337e-01, -1.03219767e-02, -2.84459183e-01,\n",
       "       -1.06267420e+00,  3.10343578e+00,  9.74937337e-01, -3.19881915e-01,\n",
       "       -8.93876836e-02, -1.27223404e-01, -1.24041991e+00, -1.23878601e+00,\n",
       "        1.23232163e+01, -3.95874045e-01, -1.37505760e+00, -9.15758656e-01,\n",
       "       -4.51003752e-01, -6.28851295e-01, -1.21026874e+00, -1.76300105e+00,\n",
       "       -1.05548774e+00,  1.45253068e+00,  4.62014873e-01,  2.24839512e-01,\n",
       "        2.42983252e+00, -5.39341343e-01, -7.19261087e-01, -2.09075913e-01,\n",
       "       -6.35044790e-01,  1.44935946e-01, -6.53255928e-01, -1.65416258e+00,\n",
       "       -1.32862825e+00, -1.30655847e+00, -1.66766202e+00, -1.86047660e+00,\n",
       "       -2.10776124e+00, -1.23839977e+00, -2.03876907e+00, -2.21791627e+00,\n",
       "       -1.60225262e+00, -1.77482253e+00, -1.46891109e+00, -2.16582911e+00,\n",
       "       -7.73026088e-02,  5.05695204e-01, -1.62357059e+00, -2.12351611e+00,\n",
       "       -1.59215971e+00, -2.98704747e+00, -2.16653462e+00, -1.05919508e+00,\n",
       "       -2.26656395e+00, -3.07775937e-01, -1.28208740e+00, -5.01075807e-01,\n",
       "       -1.57462359e+00, -5.82318894e-01,  1.07287583e-01, -4.76421199e-01,\n",
       "        1.78777655e-01, -3.42929603e-01, -6.20068625e-01,  4.65910594e-01,\n",
       "        3.76897612e+00,  6.19375891e-01,  2.64838120e+00,  4.52888579e+00,\n",
       "        1.68657359e+01, -1.40798981e+00, -2.21042173e+00, -1.86739343e+00,\n",
       "       -1.71879734e+00, -2.08136933e+00, -1.85496535e+00, -1.64990555e+00,\n",
       "        5.75710653e-01, -1.22224597e+00, -1.04531411e+00, -1.62397703e+00,\n",
       "       -2.16114977e+00, -1.97735693e+00,  5.82159714e-02, -9.98050810e-01,\n",
       "        1.78579842e+00, -2.24345583e-01,  1.68464714e+00,  4.97353968e-01,\n",
       "        2.33909994e+01, -1.09215910e-01])"
      ]
     },
     "execution_count": 11,
     "metadata": {},
     "output_type": "execute_result"
    }
   ],
   "source": [
    "ridge = Ridge(X_train, y_train)\n",
    "ridge.coef_"
   ]
  },
  {
   "cell_type": "markdown",
   "metadata": {},
   "source": [
    "[Back to Top ↑](#top)"
   ]
  },
  {
   "cell_type": "markdown",
   "metadata": {},
   "source": [
    "<a id='findings'></a>\n",
    "### Findings"
   ]
  },
  {
   "cell_type": "markdown",
   "metadata": {},
   "source": [
    "1. **Drivers can earn the most at 5 am.** Peak fares occur between 4-6am on a daily basis. Across all the 7 days of the week, the peak earning time for drivers is always between 4-6 am. Factors that can help explain this trend is the fact that to earn more drivers are looking at driving long distances in less amount of time, early mornings provide an opportunity for long distances mostly to airports and relatively less traffic hence distance can be covered in shorter periods of time.<p>\n",
    "\n",
    "2. **Airport pickups lead to higher earnings.** The 2 airports in Chicago are by far the highest earning pickup community areas, Neighborhoods that are far from the airport and with limited public transport lead the rest of the other community areas.<p>\n",
    "\n",
    "3. **Day of week alone does not significantly affect expected fare.** Average fares tend to fall in the same range when viewed at the daily level. We need to combine with other predictors to get a better sense of the true relationships.<p>\n",
    "\n",
    "4. **Strong relationship between temperature and trip fare. Of the independent variables used, Temperature has the strongest correlation with Fares. The colder it gets the more average fares increase**<p>\n",
    "\n",
    "\n",
    "\n",
    "[Back to Top ↑](#top)"
   ]
  },
  {
   "cell_type": "markdown",
   "metadata": {},
   "source": [
    "<a id='visualizations'></a>\n",
    "### Visualizations\n",
    "\n",
    "Let's further illustrate our findings via the illustrations below.\n",
    "\n",
    "### Peak fares occur between 4am - 6am"
   ]
  },
  {
   "cell_type": "code",
   "execution_count": 12,
   "metadata": {},
   "outputs": [
    {
     "data": {
      "image/png": "[encoded data removed]",
      "text/plain": [
       "<Figure size 1080x720 with 1 Axes>"
      ]
     },
     "metadata": {
      "needs_background": "light"
     },
     "output_type": "display_data"
    }
   ],
   "source": [
    "barplot(df.groupby('start_hour')['trip_total'].mean(), title='Peak fares occur between 4am - 6am', \n",
    "                                                       xlabel='Pickup Time (24 Hour Clock)', ylabel='Total Fare ($)', figsize=(15,10));"
   ]
  },
  {
   "cell_type": "markdown",
   "metadata": {},
   "source": [
    "### Airport pickups yield the highest fares\n",
    "\n"
   ]
  },
  {
   "cell_type": "code",
   "execution_count": 13,
   "metadata": {},
   "outputs": [
    {
     "data": {
      "image/png": "[encoded data removed]",
      "text/plain": [
       "<Figure size 1440x864 with 1 Axes>"
      ]
     },
     "metadata": {
      "needs_background": "light"
     },
     "output_type": "display_data"
    }
   ],
   "source": [
    "barplot(df.groupby('pickup_community_area')['trip_total'].mean(), title='Airport pickups yield the highest fares', \n",
    "                                                                  xlabel='Pickup Community Area', ylabel='Total Fare ($)', figsize=(20, 12));"
   ]
  },
  {
   "cell_type": "markdown",
   "metadata": {},
   "source": [
    "### Day of week alone does not significantly affect expected fare"
   ]
  },
  {
   "cell_type": "code",
   "execution_count": 14,
   "metadata": {},
   "outputs": [
    {
     "data": {
      "image/png": "[encoded data removed]",
      "text/plain": [
       "<Figure size 1080x720 with 1 Axes>"
      ]
     },
     "metadata": {
      "needs_background": "light"
     },
     "output_type": "display_data"
    }
   ],
   "source": [
    "barplot(df.groupby('start_weekday')['trip_total'].mean(), title='Day of week alone does not significantly affect expected fare', \n",
    "                                                          xlabel='Day of Week', ylabel='Total Fare ($)', figsize=(15, 10));\n",
    "plt.xticks(range(7), ('Monday', 'Tuesday', 'Wednesday', 'Thursday', 'Friday', 'Saturday', 'Sunday'));\n"
   ]
  },
  {
   "cell_type": "markdown",
   "metadata": {},
   "source": [
    "\n",
    "[Back to Top ↑](#top)"
   ]
  },
  {
   "cell_type": "markdown",
   "metadata": {},
   "source": [
    "<a id='nextsteps'></a>\n",
    "### Next Steps"
   ]
  },
  {
   "cell_type": "markdown",
   "metadata": {},
   "source": [
    "1. **Further refine the model to provide recommendations of ideal pickup location given time & weather.** To be able to provide drivers realtime predictions of where and when to be in order to earn the most, using their location, weather conditions, time and day of the week.<p>\n",
    "\n",
    "2. **Finding additional and more correct independent variables to increase models predictive power** that may include events and activities going on in Chicago, emergencies, data on airport arrivals and delays, etc.<p>\n",
    "\n",
    "3. **Extend our model to help different groups such as riders & competing rideshare companies.** Can we design models that can help riders to determine when a fee will drop and by how much to help them make better decisions of when to take a ride that will save them the most money?<p>\n",
    "\n",
    "\n",
    "\n",
    "[Back to Top ↑](#top)"
   ]
  }
 ],
 "metadata": {
  "kernelspec": {
   "display_name": "Python 3",
   "language": "python",
   "name": "python3"
  },
  "language_info": {
   "codemirror_mode": {
    "name": "ipython",
    "version": 3
   },
   "file_extension": ".py",
   "mimetype": "text/x-python",
   "name": "python",
   "nbconvert_exporter": "python",
   "pygments_lexer": "ipython3",
   "version": "3.7.4"
  }
 },
 "nbformat": 4,
 "nbformat_minor": 4
}
