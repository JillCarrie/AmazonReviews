{
 "cells": [
  {
   "cell_type": "code",
   "execution_count": 115,
   "metadata": {},
   "outputs": [],
   "source": [
    "# !pip install vaderSentiment\n",
    "# !pip install imblearn\n",
    "# !pip install xgboost"
   ]
  },
  {
   "cell_type": "code",
   "execution_count": 116,
   "metadata": {},
   "outputs": [],
   "source": [
    "import numpy as np\n",
    "import pandas as pd\n",
    "# from xgboost import XGBClassifier\n",
    "from imblearn.over_sampling import SMOTE\n",
    "from sklearn.tree import DecisionTreeClassifier \n",
    "from sklearn.neighbors import KNeighborsClassifier\n",
    "from sklearn.linear_model import LogisticRegression\n",
    "from sklearn.model_selection import train_test_split\n",
    "from sklearn.metrics import confusion_matrix, classification_report\n",
    "from vaderSentiment.vaderSentiment import SentimentIntensityAnalyzer\n",
    "from sklearn.ensemble import BaggingClassifier, RandomForestClassifier, AdaBoostClassifier, GradientBoostingClassifier"
   ]
  },
  {
   "cell_type": "code",
   "execution_count": 31,
   "metadata": {},
   "outputs": [
    {
     "name": "stderr",
     "output_type": "stream",
     "text": [
      "b'Skipping line 8704: expected 15 fields, saw 22\\nSkipping line 16933: expected 15 fields, saw 22\\nSkipping line 23726: expected 15 fields, saw 22\\n'\n",
      "b'Skipping line 85637: expected 15 fields, saw 22\\n'\n",
      "b'Skipping line 132136: expected 15 fields, saw 22\\nSkipping line 158070: expected 15 fields, saw 22\\nSkipping line 166007: expected 15 fields, saw 22\\nSkipping line 171877: expected 15 fields, saw 22\\nSkipping line 177756: expected 15 fields, saw 22\\nSkipping line 181773: expected 15 fields, saw 22\\nSkipping line 191085: expected 15 fields, saw 22\\nSkipping line 196273: expected 15 fields, saw 22\\nSkipping line 196331: expected 15 fields, saw 22\\n'\n",
      "b'Skipping line 197000: expected 15 fields, saw 22\\nSkipping line 197011: expected 15 fields, saw 22\\nSkipping line 197432: expected 15 fields, saw 22\\nSkipping line 208016: expected 15 fields, saw 22\\nSkipping line 214110: expected 15 fields, saw 22\\nSkipping line 244328: expected 15 fields, saw 22\\nSkipping line 248519: expected 15 fields, saw 22\\nSkipping line 254936: expected 15 fields, saw 22\\n'\n",
      "b'Skipping line 272057: expected 15 fields, saw 22\\nSkipping line 293214: expected 15 fields, saw 22\\nSkipping line 310507: expected 15 fields, saw 22\\nSkipping line 312306: expected 15 fields, saw 22\\nSkipping line 316296: expected 15 fields, saw 22\\n'\n",
      "b'Skipping line 336028: expected 15 fields, saw 22\\nSkipping line 344885: expected 15 fields, saw 22\\nSkipping line 352551: expected 15 fields, saw 22\\n'\n",
      "b'Skipping line 408773: expected 15 fields, saw 22\\nSkipping line 434535: expected 15 fields, saw 22\\n'\n",
      "b'Skipping line 581593: expected 15 fields, saw 22\\n'\n",
      "b'Skipping line 652409: expected 15 fields, saw 22\\n'\n"
     ]
    },
    {
     "data": {
      "text/html": [
       "<div>\n",
       "<style scoped>\n",
       "    .dataframe tbody tr th:only-of-type {\n",
       "        vertical-align: middle;\n",
       "    }\n",
       "\n",
       "    .dataframe tbody tr th {\n",
       "        vertical-align: top;\n",
       "    }\n",
       "\n",
       "    .dataframe thead th {\n",
       "        text-align: right;\n",
       "    }\n",
       "</style>\n",
       "<table border=\"1\" class=\"dataframe\">\n",
       "  <thead>\n",
       "    <tr style=\"text-align: right;\">\n",
       "      <th></th>\n",
       "      <th>marketplace</th>\n",
       "      <th>customer_id</th>\n",
       "      <th>review_id</th>\n",
       "      <th>product_id</th>\n",
       "      <th>product_parent</th>\n",
       "      <th>product_title</th>\n",
       "      <th>product_category</th>\n",
       "      <th>star_rating</th>\n",
       "      <th>helpful_votes</th>\n",
       "      <th>total_votes</th>\n",
       "      <th>vine</th>\n",
       "      <th>verified_purchase</th>\n",
       "      <th>review_headline</th>\n",
       "      <th>review_body</th>\n",
       "      <th>review_date</th>\n",
       "    </tr>\n",
       "  </thead>\n",
       "  <tbody>\n",
       "    <tr>\n",
       "      <td>0</td>\n",
       "      <td>US</td>\n",
       "      <td>3653882</td>\n",
       "      <td>R3O9SGZBVQBV76</td>\n",
       "      <td>B00FALQ1ZC</td>\n",
       "      <td>937001370</td>\n",
       "      <td>Invicta Women's 15150 \"Angel\" 18k Yellow Gold ...</td>\n",
       "      <td>Watches</td>\n",
       "      <td>5</td>\n",
       "      <td>0</td>\n",
       "      <td>0</td>\n",
       "      <td>N</td>\n",
       "      <td>Y</td>\n",
       "      <td>Five Stars</td>\n",
       "      <td>Absolutely love this watch! Get compliments al...</td>\n",
       "      <td>2015-08-31</td>\n",
       "    </tr>\n",
       "    <tr>\n",
       "      <td>1</td>\n",
       "      <td>US</td>\n",
       "      <td>14661224</td>\n",
       "      <td>RKH8BNC3L5DLF</td>\n",
       "      <td>B00D3RGO20</td>\n",
       "      <td>484010722</td>\n",
       "      <td>Kenneth Cole New York Women's KC4944 Automatic...</td>\n",
       "      <td>Watches</td>\n",
       "      <td>5</td>\n",
       "      <td>0</td>\n",
       "      <td>0</td>\n",
       "      <td>N</td>\n",
       "      <td>Y</td>\n",
       "      <td>I love thiswatch it keeps time wonderfully</td>\n",
       "      <td>I love this watch it keeps time wonderfully.</td>\n",
       "      <td>2015-08-31</td>\n",
       "    </tr>\n",
       "    <tr>\n",
       "      <td>2</td>\n",
       "      <td>US</td>\n",
       "      <td>27324930</td>\n",
       "      <td>R2HLE8WKZSU3NL</td>\n",
       "      <td>B00DKYC7TK</td>\n",
       "      <td>361166390</td>\n",
       "      <td>Ritche 22mm Black Stainless Steel Bracelet Wat...</td>\n",
       "      <td>Watches</td>\n",
       "      <td>2</td>\n",
       "      <td>1</td>\n",
       "      <td>1</td>\n",
       "      <td>N</td>\n",
       "      <td>Y</td>\n",
       "      <td>Two Stars</td>\n",
       "      <td>Scratches</td>\n",
       "      <td>2015-08-31</td>\n",
       "    </tr>\n",
       "    <tr>\n",
       "      <td>3</td>\n",
       "      <td>US</td>\n",
       "      <td>7211452</td>\n",
       "      <td>R31U3UH5AZ42LL</td>\n",
       "      <td>B000EQS1JW</td>\n",
       "      <td>958035625</td>\n",
       "      <td>Citizen Men's BM8180-03E Eco-Drive Stainless S...</td>\n",
       "      <td>Watches</td>\n",
       "      <td>5</td>\n",
       "      <td>0</td>\n",
       "      <td>0</td>\n",
       "      <td>N</td>\n",
       "      <td>Y</td>\n",
       "      <td>Five Stars</td>\n",
       "      <td>It works well on me. However, I found cheaper ...</td>\n",
       "      <td>2015-08-31</td>\n",
       "    </tr>\n",
       "    <tr>\n",
       "      <td>4</td>\n",
       "      <td>US</td>\n",
       "      <td>12733322</td>\n",
       "      <td>R2SV659OUJ945Y</td>\n",
       "      <td>B00A6GFD7S</td>\n",
       "      <td>765328221</td>\n",
       "      <td>Orient ER27009B Men's Symphony Automatic Stain...</td>\n",
       "      <td>Watches</td>\n",
       "      <td>4</td>\n",
       "      <td>0</td>\n",
       "      <td>0</td>\n",
       "      <td>N</td>\n",
       "      <td>Y</td>\n",
       "      <td>Beautiful face, but cheap sounding links</td>\n",
       "      <td>Beautiful watch face.  The band looks nice all...</td>\n",
       "      <td>2015-08-31</td>\n",
       "    </tr>\n",
       "    <tr>\n",
       "      <td>...</td>\n",
       "      <td>...</td>\n",
       "      <td>...</td>\n",
       "      <td>...</td>\n",
       "      <td>...</td>\n",
       "      <td>...</td>\n",
       "      <td>...</td>\n",
       "      <td>...</td>\n",
       "      <td>...</td>\n",
       "      <td>...</td>\n",
       "      <td>...</td>\n",
       "      <td>...</td>\n",
       "      <td>...</td>\n",
       "      <td>...</td>\n",
       "      <td>...</td>\n",
       "      <td>...</td>\n",
       "    </tr>\n",
       "    <tr>\n",
       "      <td>960199</td>\n",
       "      <td>US</td>\n",
       "      <td>39508379</td>\n",
       "      <td>REH8UQZAXQS40</td>\n",
       "      <td>B00005OT9I</td>\n",
       "      <td>2153632</td>\n",
       "      <td>Xhilaration&amp;#174; Silver Dial Bangle Watch</td>\n",
       "      <td>Watches</td>\n",
       "      <td>2</td>\n",
       "      <td>17</td>\n",
       "      <td>17</td>\n",
       "      <td>N</td>\n",
       "      <td>N</td>\n",
       "      <td>Great prize - but size??</td>\n",
       "      <td>It's a great watch - but you don't have a chan...</td>\n",
       "      <td>2001-12-13</td>\n",
       "    </tr>\n",
       "    <tr>\n",
       "      <td>960200</td>\n",
       "      <td>US</td>\n",
       "      <td>44704251</td>\n",
       "      <td>RJ14QPZEOI9P8</td>\n",
       "      <td>B00005QEM6</td>\n",
       "      <td>903687397</td>\n",
       "      <td>Armitron Men's Titanium 3 Eye Sport Analog Chr...</td>\n",
       "      <td>Watches</td>\n",
       "      <td>5</td>\n",
       "      <td>9</td>\n",
       "      <td>10</td>\n",
       "      <td>N</td>\n",
       "      <td>N</td>\n",
       "      <td>A very classy watch!</td>\n",
       "      <td>Well worth the price. This is a light weight, ...</td>\n",
       "      <td>2001-11-08</td>\n",
       "    </tr>\n",
       "    <tr>\n",
       "      <td>960201</td>\n",
       "      <td>US</td>\n",
       "      <td>40571775</td>\n",
       "      <td>R2B1G5650WWFCE</td>\n",
       "      <td>B00005QEME</td>\n",
       "      <td>252821780</td>\n",
       "      <td>Men's Timex Internet Messenger Sport Watch</td>\n",
       "      <td>Watches</td>\n",
       "      <td>5</td>\n",
       "      <td>3</td>\n",
       "      <td>16</td>\n",
       "      <td>N</td>\n",
       "      <td>N</td>\n",
       "      <td>This is a great watch</td>\n",
       "      <td>Dear Targeteers,&lt;BR&gt;This watch is exelent. it ...</td>\n",
       "      <td>2001-11-06</td>\n",
       "    </tr>\n",
       "    <tr>\n",
       "      <td>960202</td>\n",
       "      <td>US</td>\n",
       "      <td>44474855</td>\n",
       "      <td>R2MMGPUWXXOFI2</td>\n",
       "      <td>B00004YK0H</td>\n",
       "      <td>118389241</td>\n",
       "      <td>Energizer 393 Button Cell Battery</td>\n",
       "      <td>Watches</td>\n",
       "      <td>4</td>\n",
       "      <td>0</td>\n",
       "      <td>0</td>\n",
       "      <td>N</td>\n",
       "      <td>N</td>\n",
       "      <td>Now watt a minute here.</td>\n",
       "      <td>In the old days, the common hearing battery in...</td>\n",
       "      <td>2001-04-05</td>\n",
       "    </tr>\n",
       "    <tr>\n",
       "      <td>960203</td>\n",
       "      <td>US</td>\n",
       "      <td>44474855</td>\n",
       "      <td>R2BZMVAERMRUDE</td>\n",
       "      <td>B00004YK0H</td>\n",
       "      <td>118389241</td>\n",
       "      <td>Energizer 393 Button Cell Battery</td>\n",
       "      <td>Watches</td>\n",
       "      <td>4</td>\n",
       "      <td>5</td>\n",
       "      <td>7</td>\n",
       "      <td>N</td>\n",
       "      <td>N</td>\n",
       "      <td>1/10 Watt difference for hearing aids</td>\n",
       "      <td>I have found that a #393 watch battery is the ...</td>\n",
       "      <td>2001-04-05</td>\n",
       "    </tr>\n",
       "  </tbody>\n",
       "</table>\n",
       "<p>960204 rows × 15 columns</p>\n",
       "</div>"
      ],
      "text/plain": [
       "       marketplace  customer_id       review_id  product_id  product_parent  \\\n",
       "0               US      3653882  R3O9SGZBVQBV76  B00FALQ1ZC       937001370   \n",
       "1               US     14661224   RKH8BNC3L5DLF  B00D3RGO20       484010722   \n",
       "2               US     27324930  R2HLE8WKZSU3NL  B00DKYC7TK       361166390   \n",
       "3               US      7211452  R31U3UH5AZ42LL  B000EQS1JW       958035625   \n",
       "4               US     12733322  R2SV659OUJ945Y  B00A6GFD7S       765328221   \n",
       "...            ...          ...             ...         ...             ...   \n",
       "960199          US     39508379   REH8UQZAXQS40  B00005OT9I         2153632   \n",
       "960200          US     44704251   RJ14QPZEOI9P8  B00005QEM6       903687397   \n",
       "960201          US     40571775  R2B1G5650WWFCE  B00005QEME       252821780   \n",
       "960202          US     44474855  R2MMGPUWXXOFI2  B00004YK0H       118389241   \n",
       "960203          US     44474855  R2BZMVAERMRUDE  B00004YK0H       118389241   \n",
       "\n",
       "                                            product_title product_category  \\\n",
       "0       Invicta Women's 15150 \"Angel\" 18k Yellow Gold ...          Watches   \n",
       "1       Kenneth Cole New York Women's KC4944 Automatic...          Watches   \n",
       "2       Ritche 22mm Black Stainless Steel Bracelet Wat...          Watches   \n",
       "3       Citizen Men's BM8180-03E Eco-Drive Stainless S...          Watches   \n",
       "4       Orient ER27009B Men's Symphony Automatic Stain...          Watches   \n",
       "...                                                   ...              ...   \n",
       "960199         Xhilaration&#174; Silver Dial Bangle Watch          Watches   \n",
       "960200  Armitron Men's Titanium 3 Eye Sport Analog Chr...          Watches   \n",
       "960201         Men's Timex Internet Messenger Sport Watch          Watches   \n",
       "960202                  Energizer 393 Button Cell Battery          Watches   \n",
       "960203                  Energizer 393 Button Cell Battery          Watches   \n",
       "\n",
       "        star_rating  helpful_votes  total_votes vine verified_purchase  \\\n",
       "0                 5              0            0    N                 Y   \n",
       "1                 5              0            0    N                 Y   \n",
       "2                 2              1            1    N                 Y   \n",
       "3                 5              0            0    N                 Y   \n",
       "4                 4              0            0    N                 Y   \n",
       "...             ...            ...          ...  ...               ...   \n",
       "960199            2             17           17    N                 N   \n",
       "960200            5              9           10    N                 N   \n",
       "960201            5              3           16    N                 N   \n",
       "960202            4              0            0    N                 N   \n",
       "960203            4              5            7    N                 N   \n",
       "\n",
       "                                   review_headline  \\\n",
       "0                                       Five Stars   \n",
       "1       I love thiswatch it keeps time wonderfully   \n",
       "2                                        Two Stars   \n",
       "3                                       Five Stars   \n",
       "4         Beautiful face, but cheap sounding links   \n",
       "...                                            ...   \n",
       "960199                    Great prize - but size??   \n",
       "960200                        A very classy watch!   \n",
       "960201                       This is a great watch   \n",
       "960202                     Now watt a minute here.   \n",
       "960203       1/10 Watt difference for hearing aids   \n",
       "\n",
       "                                              review_body review_date  \n",
       "0       Absolutely love this watch! Get compliments al...  2015-08-31  \n",
       "1            I love this watch it keeps time wonderfully.  2015-08-31  \n",
       "2                                               Scratches  2015-08-31  \n",
       "3       It works well on me. However, I found cheaper ...  2015-08-31  \n",
       "4       Beautiful watch face.  The band looks nice all...  2015-08-31  \n",
       "...                                                   ...         ...  \n",
       "960199  It's a great watch - but you don't have a chan...  2001-12-13  \n",
       "960200  Well worth the price. This is a light weight, ...  2001-11-08  \n",
       "960201  Dear Targeteers,<BR>This watch is exelent. it ...  2001-11-06  \n",
       "960202  In the old days, the common hearing battery in...  2001-04-05  \n",
       "960203  I have found that a #393 watch battery is the ...  2001-04-05  \n",
       "\n",
       "[960204 rows x 15 columns]"
      ]
     },
     "execution_count": 31,
     "metadata": {},
     "output_type": "execute_result"
    }
   ],
   "source": [
    "# Health & Personal Care Category\n",
    "# df = pd.read_csv('https://s3.amazonaws.com/amazon-reviews-pds/tsv/amazon_reviews_us_Health_Personal_Care_v1_00.tsv.gz', sep='\\t', error_bad_lines=False)\n",
    "\n",
    "# Watches Category\n",
    "df = pd.read_csv('https://s3.amazonaws.com/amazon-reviews-pds/tsv/amazon_reviews_us_Watches_v1_00.tsv.gz', sep='\\t', error_bad_lines=False)\n",
    "df"
   ]
  },
  {
   "cell_type": "code",
   "execution_count": 32,
   "metadata": {},
   "outputs": [
    {
     "name": "stdout",
     "output_type": "stream",
     "text": [
      "<class 'pandas.core.frame.DataFrame'>\n",
      "RangeIndex: 960204 entries, 0 to 960203\n",
      "Data columns (total 15 columns):\n",
      "marketplace          960204 non-null object\n",
      "customer_id          960204 non-null int64\n",
      "review_id            960204 non-null object\n",
      "product_id           960204 non-null object\n",
      "product_parent       960204 non-null int64\n",
      "product_title        960202 non-null object\n",
      "product_category     960204 non-null object\n",
      "star_rating          960204 non-null int64\n",
      "helpful_votes        960204 non-null int64\n",
      "total_votes          960204 non-null int64\n",
      "vine                 960204 non-null object\n",
      "verified_purchase    960204 non-null object\n",
      "review_headline      960197 non-null object\n",
      "review_body          960056 non-null object\n",
      "review_date          960200 non-null object\n",
      "dtypes: int64(5), object(10)\n",
      "memory usage: 109.9+ MB\n"
     ]
    }
   ],
   "source": [
    "df.info()"
   ]
  },
  {
   "cell_type": "code",
   "execution_count": 42,
   "metadata": {},
   "outputs": [
    {
     "name": "stderr",
     "output_type": "stream",
     "text": [
      "/opt/anaconda3/lib/python3.7/site-packages/ipykernel_launcher.py:5: SettingWithCopyWarning: \n",
      "A value is trying to be set on a copy of a slice from a DataFrame.\n",
      "Try using .loc[row_indexer,col_indexer] = value instead\n",
      "\n",
      "See the caveats in the documentation: http://pandas.pydata.org/pandas-docs/stable/user_guide/indexing.html#returning-a-view-versus-a-copy\n",
      "  \"\"\"\n",
      "/opt/anaconda3/lib/python3.7/site-packages/ipykernel_launcher.py:6: SettingWithCopyWarning: \n",
      "A value is trying to be set on a copy of a slice from a DataFrame.\n",
      "Try using .loc[row_indexer,col_indexer] = value instead\n",
      "\n",
      "See the caveats in the documentation: http://pandas.pydata.org/pandas-docs/stable/user_guide/indexing.html#returning-a-view-versus-a-copy\n",
      "  \n",
      "/opt/anaconda3/lib/python3.7/site-packages/ipykernel_launcher.py:7: SettingWithCopyWarning: \n",
      "A value is trying to be set on a copy of a slice from a DataFrame.\n",
      "Try using .loc[row_indexer,col_indexer] = value instead\n",
      "\n",
      "See the caveats in the documentation: http://pandas.pydata.org/pandas-docs/stable/user_guide/indexing.html#returning-a-view-versus-a-copy\n",
      "  import sys\n",
      "/opt/anaconda3/lib/python3.7/site-packages/ipykernel_launcher.py:9: SettingWithCopyWarning: \n",
      "A value is trying to be set on a copy of a slice from a DataFrame.\n",
      "Try using .loc[row_indexer,col_indexer] = value instead\n",
      "\n",
      "See the caveats in the documentation: http://pandas.pydata.org/pandas-docs/stable/user_guide/indexing.html#returning-a-view-versus-a-copy\n",
      "  if __name__ == '__main__':\n",
      "/opt/anaconda3/lib/python3.7/site-packages/ipykernel_launcher.py:10: SettingWithCopyWarning: \n",
      "A value is trying to be set on a copy of a slice from a DataFrame.\n",
      "Try using .loc[row_indexer,col_indexer] = value instead\n",
      "\n",
      "See the caveats in the documentation: http://pandas.pydata.org/pandas-docs/stable/user_guide/indexing.html#returning-a-view-versus-a-copy\n",
      "  # Remove the CWD from sys.path while we load stuff.\n",
      "/opt/anaconda3/lib/python3.7/site-packages/ipykernel_launcher.py:11: SettingWithCopyWarning: \n",
      "A value is trying to be set on a copy of a slice from a DataFrame.\n",
      "Try using .loc[row_indexer,col_indexer] = value instead\n",
      "\n",
      "See the caveats in the documentation: http://pandas.pydata.org/pandas-docs/stable/user_guide/indexing.html#returning-a-view-versus-a-copy\n",
      "  # This is added back by InteractiveShellApp.init_path()\n"
     ]
    },
    {
     "name": "stdout",
     "output_type": "stream",
     "text": [
      "<class 'pandas.core.frame.DataFrame'>\n",
      "RangeIndex: 20000 entries, 0 to 19999\n",
      "Data columns (total 20 columns):\n",
      "marketplace          20000 non-null object\n",
      "customer_id          20000 non-null int64\n",
      "review_id            20000 non-null object\n",
      "product_id           20000 non-null object\n",
      "product_parent       20000 non-null int64\n",
      "product_title        20000 non-null object\n",
      "product_category     20000 non-null object\n",
      "star_rating          20000 non-null int64\n",
      "helpful_votes        20000 non-null int64\n",
      "total_votes          20000 non-null int64\n",
      "vine                 20000 non-null object\n",
      "verified_purchase    20000 non-null object\n",
      "review_headline      20000 non-null object\n",
      "review_body          20000 non-null object\n",
      "review_date          20000 non-null object\n",
      "review_fulltext      20000 non-null object\n",
      "neg                  20000 non-null float64\n",
      "neu                  20000 non-null float64\n",
      "pos                  20000 non-null float64\n",
      "compound             20000 non-null float64\n",
      "dtypes: float64(4), int64(5), object(11)\n",
      "memory usage: 3.1+ MB\n"
     ]
    },
    {
     "name": "stderr",
     "output_type": "stream",
     "text": [
      "/opt/anaconda3/lib/python3.7/site-packages/ipykernel_launcher.py:12: SettingWithCopyWarning: \n",
      "A value is trying to be set on a copy of a slice from a DataFrame.\n",
      "Try using .loc[row_indexer,col_indexer] = value instead\n",
      "\n",
      "See the caveats in the documentation: http://pandas.pydata.org/pandas-docs/stable/user_guide/indexing.html#returning-a-view-versus-a-copy\n",
      "  if sys.path[0] == '':\n"
     ]
    }
   ],
   "source": [
    "df_small = df[:20000]\n",
    "\n",
    "# Deal with missing values for any of the columns we will be using\n",
    "# df_small['star_rating'] = df_small['star_rating'].astype(int)\n",
    "df_small['review_headline'] = df_small['review_headline'].fillna('.')\n",
    "df_small['review_body'] = df_small['review_body'].fillna('.')\n",
    "df_small['review_fulltext'] = df_small['review_headline'] + '. ' + df_small['review_body']\n",
    "\n",
    "df_small['neg'] = df_small['review_fulltext'].apply(sentiment_analyzer_scores_neg)\n",
    "df_small['neu'] = df_small['review_fulltext'].apply(sentiment_analyzer_scores_neu)\n",
    "df_small['pos'] = df_small['review_fulltext'].apply(sentiment_analyzer_scores_pos)\n",
    "df_small['compound'] = df_small['review_fulltext'].apply(sentiment_analyzer_scores_compound)\n",
    "\n",
    "df_small.info()"
   ]
  },
  {
   "cell_type": "code",
   "execution_count": 43,
   "metadata": {},
   "outputs": [],
   "source": [
    "analyzer = SentimentIntensityAnalyzer()"
   ]
  },
  {
   "cell_type": "code",
   "execution_count": 44,
   "metadata": {},
   "outputs": [],
   "source": [
    "# Return dictionary of VADER sentiment scores for given sentence. Keys: 'neg', 'neu', 'pos', 'compound'\n",
    "def sentiment_analyzer_scores(sentence, verbose=False):\n",
    "    score = analyzer.polarity_scores(sentence)\n",
    "    if verbose: print(\"{}\".format(str(score)))\n",
    "    \n",
    "    return score\n",
    "    \n",
    "def sentiment_analyzer_scores_neg(sentence):\n",
    "    return sentiment_analyzer_scores(sentence)['neg']\n",
    "\n",
    "def sentiment_analyzer_scores_neu(sentence):\n",
    "    return sentiment_analyzer_scores(sentence)['neu']\n",
    "\n",
    "def sentiment_analyzer_scores_pos(sentence):\n",
    "    return sentiment_analyzer_scores(sentence)['pos']\n",
    "\n",
    "def sentiment_analyzer_scores_compound(sentence):\n",
    "    return sentiment_analyzer_scores(sentence)['compound']"
   ]
  },
  {
   "cell_type": "code",
   "execution_count": 45,
   "metadata": {},
   "outputs": [
    {
     "data": {
      "text/plain": [
       "5    12114\n",
       "4     3316\n",
       "1     1940\n",
       "3     1579\n",
       "2     1051\n",
       "Name: star_rating, dtype: int64"
      ]
     },
     "execution_count": 45,
     "metadata": {},
     "output_type": "execute_result"
    }
   ],
   "source": [
    "df_small['star_rating'].value_counts()\n",
    "# df_small['verified_purchase'].value_counts()"
   ]
  },
  {
   "cell_type": "code",
   "execution_count": 46,
   "metadata": {},
   "outputs": [
    {
     "name": "stdout",
     "output_type": "stream",
     "text": [
      "<class 'pandas.core.frame.DataFrame'>\n",
      "RangeIndex: 20000 entries, 0 to 19999\n",
      "Data columns (total 9 columns):\n",
      "customer_id       20000 non-null int64\n",
      "product_parent    20000 non-null int64\n",
      "star_rating       20000 non-null int64\n",
      "helpful_votes     20000 non-null int64\n",
      "total_votes       20000 non-null int64\n",
      "neg               20000 non-null float64\n",
      "neu               20000 non-null float64\n",
      "pos               20000 non-null float64\n",
      "compound          20000 non-null float64\n",
      "dtypes: float64(4), int64(5)\n",
      "memory usage: 1.4 MB\n"
     ]
    },
    {
     "data": {
      "text/html": [
       "<div>\n",
       "<style scoped>\n",
       "    .dataframe tbody tr th:only-of-type {\n",
       "        vertical-align: middle;\n",
       "    }\n",
       "\n",
       "    .dataframe tbody tr th {\n",
       "        vertical-align: top;\n",
       "    }\n",
       "\n",
       "    .dataframe thead th {\n",
       "        text-align: right;\n",
       "    }\n",
       "</style>\n",
       "<table border=\"1\" class=\"dataframe\">\n",
       "  <thead>\n",
       "    <tr style=\"text-align: right;\">\n",
       "      <th></th>\n",
       "      <th>customer_id</th>\n",
       "      <th>product_parent</th>\n",
       "      <th>star_rating</th>\n",
       "      <th>helpful_votes</th>\n",
       "      <th>total_votes</th>\n",
       "      <th>neg</th>\n",
       "      <th>neu</th>\n",
       "      <th>pos</th>\n",
       "      <th>compound</th>\n",
       "    </tr>\n",
       "  </thead>\n",
       "  <tbody>\n",
       "    <tr>\n",
       "      <td>0</td>\n",
       "      <td>3653882</td>\n",
       "      <td>937001370</td>\n",
       "      <td>5</td>\n",
       "      <td>0</td>\n",
       "      <td>0</td>\n",
       "      <td>0.000</td>\n",
       "      <td>0.616</td>\n",
       "      <td>0.384</td>\n",
       "      <td>0.8169</td>\n",
       "    </tr>\n",
       "    <tr>\n",
       "      <td>1</td>\n",
       "      <td>14661224</td>\n",
       "      <td>484010722</td>\n",
       "      <td>5</td>\n",
       "      <td>0</td>\n",
       "      <td>0</td>\n",
       "      <td>0.000</td>\n",
       "      <td>0.357</td>\n",
       "      <td>0.643</td>\n",
       "      <td>0.9531</td>\n",
       "    </tr>\n",
       "    <tr>\n",
       "      <td>2</td>\n",
       "      <td>27324930</td>\n",
       "      <td>361166390</td>\n",
       "      <td>2</td>\n",
       "      <td>1</td>\n",
       "      <td>1</td>\n",
       "      <td>0.000</td>\n",
       "      <td>1.000</td>\n",
       "      <td>0.000</td>\n",
       "      <td>0.0000</td>\n",
       "    </tr>\n",
       "    <tr>\n",
       "      <td>3</td>\n",
       "      <td>7211452</td>\n",
       "      <td>958035625</td>\n",
       "      <td>5</td>\n",
       "      <td>0</td>\n",
       "      <td>0</td>\n",
       "      <td>0.000</td>\n",
       "      <td>0.890</td>\n",
       "      <td>0.110</td>\n",
       "      <td>0.2732</td>\n",
       "    </tr>\n",
       "    <tr>\n",
       "      <td>4</td>\n",
       "      <td>12733322</td>\n",
       "      <td>765328221</td>\n",
       "      <td>4</td>\n",
       "      <td>0</td>\n",
       "      <td>0</td>\n",
       "      <td>0.024</td>\n",
       "      <td>0.715</td>\n",
       "      <td>0.261</td>\n",
       "      <td>0.9886</td>\n",
       "    </tr>\n",
       "    <tr>\n",
       "      <td>...</td>\n",
       "      <td>...</td>\n",
       "      <td>...</td>\n",
       "      <td>...</td>\n",
       "      <td>...</td>\n",
       "      <td>...</td>\n",
       "      <td>...</td>\n",
       "      <td>...</td>\n",
       "      <td>...</td>\n",
       "      <td>...</td>\n",
       "    </tr>\n",
       "    <tr>\n",
       "      <td>19995</td>\n",
       "      <td>32167840</td>\n",
       "      <td>354933056</td>\n",
       "      <td>5</td>\n",
       "      <td>0</td>\n",
       "      <td>0</td>\n",
       "      <td>0.000</td>\n",
       "      <td>0.754</td>\n",
       "      <td>0.246</td>\n",
       "      <td>0.7351</td>\n",
       "    </tr>\n",
       "    <tr>\n",
       "      <td>19996</td>\n",
       "      <td>2194392</td>\n",
       "      <td>649128875</td>\n",
       "      <td>4</td>\n",
       "      <td>0</td>\n",
       "      <td>0</td>\n",
       "      <td>0.068</td>\n",
       "      <td>0.777</td>\n",
       "      <td>0.155</td>\n",
       "      <td>0.4215</td>\n",
       "    </tr>\n",
       "    <tr>\n",
       "      <td>19997</td>\n",
       "      <td>15315799</td>\n",
       "      <td>811352940</td>\n",
       "      <td>5</td>\n",
       "      <td>0</td>\n",
       "      <td>0</td>\n",
       "      <td>0.000</td>\n",
       "      <td>0.682</td>\n",
       "      <td>0.318</td>\n",
       "      <td>0.4215</td>\n",
       "    </tr>\n",
       "    <tr>\n",
       "      <td>19998</td>\n",
       "      <td>40994978</td>\n",
       "      <td>714629498</td>\n",
       "      <td>5</td>\n",
       "      <td>0</td>\n",
       "      <td>0</td>\n",
       "      <td>0.000</td>\n",
       "      <td>0.517</td>\n",
       "      <td>0.483</td>\n",
       "      <td>0.4215</td>\n",
       "    </tr>\n",
       "    <tr>\n",
       "      <td>19999</td>\n",
       "      <td>33885997</td>\n",
       "      <td>439507467</td>\n",
       "      <td>2</td>\n",
       "      <td>2</td>\n",
       "      <td>2</td>\n",
       "      <td>0.152</td>\n",
       "      <td>0.778</td>\n",
       "      <td>0.070</td>\n",
       "      <td>-0.5543</td>\n",
       "    </tr>\n",
       "  </tbody>\n",
       "</table>\n",
       "<p>20000 rows × 9 columns</p>\n",
       "</div>"
      ],
      "text/plain": [
       "       customer_id  product_parent  star_rating  helpful_votes  total_votes  \\\n",
       "0          3653882       937001370            5              0            0   \n",
       "1         14661224       484010722            5              0            0   \n",
       "2         27324930       361166390            2              1            1   \n",
       "3          7211452       958035625            5              0            0   \n",
       "4         12733322       765328221            4              0            0   \n",
       "...            ...             ...          ...            ...          ...   \n",
       "19995     32167840       354933056            5              0            0   \n",
       "19996      2194392       649128875            4              0            0   \n",
       "19997     15315799       811352940            5              0            0   \n",
       "19998     40994978       714629498            5              0            0   \n",
       "19999     33885997       439507467            2              2            2   \n",
       "\n",
       "         neg    neu    pos  compound  \n",
       "0      0.000  0.616  0.384    0.8169  \n",
       "1      0.000  0.357  0.643    0.9531  \n",
       "2      0.000  1.000  0.000    0.0000  \n",
       "3      0.000  0.890  0.110    0.2732  \n",
       "4      0.024  0.715  0.261    0.9886  \n",
       "...      ...    ...    ...       ...  \n",
       "19995  0.000  0.754  0.246    0.7351  \n",
       "19996  0.068  0.777  0.155    0.4215  \n",
       "19997  0.000  0.682  0.318    0.4215  \n",
       "19998  0.000  0.517  0.483    0.4215  \n",
       "19999  0.152  0.778  0.070   -0.5543  \n",
       "\n",
       "[20000 rows x 9 columns]"
      ]
     },
     "execution_count": 46,
     "metadata": {},
     "output_type": "execute_result"
    }
   ],
   "source": [
    "df_numer = df_small.select_dtypes(include='number')\n",
    "df_numer.info()\n",
    "df_numer"
   ]
  },
  {
   "cell_type": "code",
   "execution_count": 47,
   "metadata": {},
   "outputs": [],
   "source": [
    "X = df_small.loc[:, ['helpful_votes', 'total_votes', 'neg', 'neu', 'pos', 'compound']]\n",
    "y = df_small.loc[:, 'star_rating']"
   ]
  },
  {
   "cell_type": "code",
   "execution_count": 48,
   "metadata": {},
   "outputs": [],
   "source": [
    "X_train, X_test, y_train, y_test = train_test_split(X, y, test_size = 0.25)"
   ]
  },
  {
   "cell_type": "code",
   "execution_count": 49,
   "metadata": {},
   "outputs": [
    {
     "data": {
      "text/plain": [
       "5    9072\n",
       "4    2481\n",
       "1    1470\n",
       "3    1198\n",
       "2     779\n",
       "Name: star_rating, dtype: int64"
      ]
     },
     "execution_count": 49,
     "metadata": {},
     "output_type": "execute_result"
    }
   ],
   "source": [
    "y_train.value_counts()"
   ]
  },
  {
   "cell_type": "code",
   "execution_count": 50,
   "metadata": {},
   "outputs": [
    {
     "data": {
      "text/plain": [
       "5    9072\n",
       "4    9072\n",
       "3    9072\n",
       "2    9072\n",
       "1    9072\n",
       "Name: star_rating, dtype: int64"
      ]
     },
     "execution_count": 50,
     "metadata": {},
     "output_type": "execute_result"
    }
   ],
   "source": [
    "smote = SMOTE()\n",
    "X_train_resampled, y_train_resampled = smote.fit_sample(X_train, y_train) \n",
    "y_train_resampled.value_counts()"
   ]
  },
  {
   "cell_type": "code",
   "execution_count": 51,
   "metadata": {},
   "outputs": [
    {
     "data": {
      "text/plain": [
       "LogisticRegression(C=1000000000000.0, class_weight=None, dual=False,\n",
       "                   fit_intercept=True, intercept_scaling=1, l1_ratio=None,\n",
       "                   max_iter=100, multi_class='auto', n_jobs=None, penalty='l2',\n",
       "                   random_state=None, solver='liblinear', tol=0.0001, verbose=0,\n",
       "                   warm_start=False)"
      ]
     },
     "execution_count": 51,
     "metadata": {},
     "output_type": "execute_result"
    }
   ],
   "source": [
    "# Test out different classification algorithms\n",
    "# Logistic Regression\n",
    "\n",
    "logreg = LogisticRegression(fit_intercept=True, C=1e12, solver='liblinear', )\n",
    "model_log = logreg.fit(X_train_resampled, y_train_resampled)\n",
    "model_log"
   ]
  },
  {
   "cell_type": "code",
   "execution_count": 52,
   "metadata": {},
   "outputs": [],
   "source": [
    "y_hat_test = logreg.predict(X_test)\n",
    "y_hat_train = logreg.predict(X_train_resampled)"
   ]
  },
  {
   "cell_type": "code",
   "execution_count": 53,
   "metadata": {},
   "outputs": [
    {
     "name": "stdout",
     "output_type": "stream",
     "text": [
      "0    18101\n",
      "1    17739\n",
      "2     7053\n",
      "3     2126\n",
      "4      341\n",
      "Name: star_rating, dtype: int64\n",
      "0    0.399052\n",
      "1    0.391071\n",
      "2    0.155489\n",
      "3    0.046869\n",
      "4    0.007518\n",
      "Name: star_rating, dtype: float64\n"
     ]
    }
   ],
   "source": [
    "# We could subtract the two columns. If values or equal, difference will be zero. Then count number of zeros \n",
    "residuals = np.abs(y_train_resampled - y_hat_train)\n",
    "print(pd.Series(residuals).value_counts())\n",
    "print(pd.Series(residuals).value_counts(normalize=True))"
   ]
  },
  {
   "cell_type": "code",
   "execution_count": 54,
   "metadata": {},
   "outputs": [
    {
     "name": "stdout",
     "output_type": "stream",
     "text": [
      "0    2738\n",
      "1    1455\n",
      "2     433\n",
      "3     287\n",
      "4      87\n",
      "Name: star_rating, dtype: int64\n",
      "0    0.5476\n",
      "1    0.2910\n",
      "2    0.0866\n",
      "3    0.0574\n",
      "4    0.0174\n",
      "Name: star_rating, dtype: float64\n"
     ]
    }
   ],
   "source": [
    "residuals = np.abs(y_test - y_hat_test)\n",
    "print(pd.Series(residuals).value_counts())\n",
    "print(pd.Series(residuals).value_counts(normalize=True))"
   ]
  },
  {
   "cell_type": "code",
   "execution_count": 57,
   "metadata": {},
   "outputs": [
    {
     "data": {
      "text/plain": [
       "array([[5667, 1644,  970,  656,  135],\n",
       "       [4098, 1936, 1536, 1078,  424],\n",
       "       [2290, 1519, 1754, 1923, 1586],\n",
       "       [ 495,  707, 1092, 2566, 4212],\n",
       "       [ 206,  551,  422, 1715, 6178]])"
      ]
     },
     "execution_count": 57,
     "metadata": {},
     "output_type": "execute_result"
    }
   ],
   "source": [
    "# Confusion Matrix for training set - Logistic Regression\n",
    "cf = confusion_matrix(y_train_resampled, y_hat_train)\n",
    "cf"
   ]
  },
  {
   "cell_type": "code",
   "execution_count": 65,
   "metadata": {},
   "outputs": [
    {
     "name": "stdout",
     "output_type": "stream",
     "text": [
      "              precision    recall  f1-score   support\n",
      "\n",
      "           1       0.44      0.62      0.52      9072\n",
      "           2       0.30      0.21      0.25      9072\n",
      "           3       0.30      0.19      0.24      9072\n",
      "           4       0.32      0.28      0.30      9072\n",
      "           5       0.49      0.68      0.57      9072\n",
      "\n",
      "    accuracy                           0.40     45360\n",
      "   macro avg       0.37      0.40      0.38     45360\n",
      "weighted avg       0.37      0.40      0.38     45360\n",
      "\n"
     ]
    }
   ],
   "source": [
    "print(classification_report(y_train_resampled, y_hat_train))"
   ]
  },
  {
   "cell_type": "code",
   "execution_count": null,
   "metadata": {},
   "outputs": [],
   "source": [
    "# ROC Curve"
   ]
  },
  {
   "cell_type": "code",
   "execution_count": null,
   "metadata": {},
   "outputs": [],
   "source": []
  },
  {
   "cell_type": "code",
   "execution_count": null,
   "metadata": {},
   "outputs": [],
   "source": []
  },
  {
   "cell_type": "code",
   "execution_count": null,
   "metadata": {},
   "outputs": [],
   "source": []
  },
  {
   "cell_type": "code",
   "execution_count": null,
   "metadata": {},
   "outputs": [],
   "source": []
  },
  {
   "cell_type": "code",
   "execution_count": null,
   "metadata": {},
   "outputs": [],
   "source": []
  },
  {
   "cell_type": "code",
   "execution_count": 75,
   "metadata": {},
   "outputs": [
    {
     "data": {
      "text/plain": [
       "array([[8082,  541,  245,  145,   59],\n",
       "       [1520, 7048,  261,  154,   89],\n",
       "       [1321,  472, 6428,  367,  484],\n",
       "       [ 626,  377,  508, 6014, 1547],\n",
       "       [ 768,  429,  659, 1350, 5866]])"
      ]
     },
     "execution_count": 75,
     "metadata": {},
     "output_type": "execute_result"
    }
   ],
   "source": [
    "# K Nearest Neighbors\n",
    "\n",
    "# Instantiate KNeighborsClassifier\n",
    "clf_knn = KNeighborsClassifier()\n",
    "\n",
    "# Fit the classifier\n",
    "clf_knn.fit(X_train_resampled, y_train_resampled)\n",
    "\n",
    "# Predict on the training set\n",
    "y_hat_knn = clf_knn.predict(X_train_resampled)\n",
    "\n",
    "cm_knn = confusion_matrix(y_train_resampled, y_hat_knn)\n",
    "cm_knn"
   ]
  },
  {
   "cell_type": "code",
   "execution_count": 72,
   "metadata": {},
   "outputs": [
    {
     "name": "stdout",
     "output_type": "stream",
     "text": [
      "              precision    recall  f1-score   support\n",
      "\n",
      "           1       0.66      0.89      0.76      9072\n",
      "           2       0.79      0.78      0.79      9072\n",
      "           3       0.79      0.71      0.75      9072\n",
      "           4       0.75      0.66      0.70      9072\n",
      "           5       0.73      0.65      0.69      9072\n",
      "\n",
      "    accuracy                           0.74     45360\n",
      "   macro avg       0.74      0.74      0.74     45360\n",
      "weighted avg       0.74      0.74      0.74     45360\n",
      "\n"
     ]
    }
   ],
   "source": [
    "print(classification_report(y_train_resampled, y_hat_knn))"
   ]
  },
  {
   "cell_type": "code",
   "execution_count": null,
   "metadata": {},
   "outputs": [],
   "source": [
    "# Improve model performance by finding the best value for K"
   ]
  },
  {
   "cell_type": "code",
   "execution_count": null,
   "metadata": {},
   "outputs": [],
   "source": []
  },
  {
   "cell_type": "code",
   "execution_count": null,
   "metadata": {},
   "outputs": [],
   "source": []
  },
  {
   "cell_type": "code",
   "execution_count": 78,
   "metadata": {},
   "outputs": [
    {
     "data": {
      "text/plain": [
       "array([[8091,  969,    1,    7,    4],\n",
       "       [ 177, 8883,    1,    2,    9],\n",
       "       [ 106,  907, 7884,  152,   23],\n",
       "       [  10,  428,  101, 8163,  370],\n",
       "       [  61,  447,  116,  424, 8024]])"
      ]
     },
     "execution_count": 78,
     "metadata": {},
     "output_type": "execute_result"
    }
   ],
   "source": [
    "# Decision Trees\n",
    "\n",
    "clf_dt = DecisionTreeClassifier(criterion='entropy')\n",
    "\n",
    "clf_dt.fit(X_train_resampled, y_train_resampled)\n",
    "\n",
    "# Predict on the training set\n",
    "y_hat_dt = clf_dt.predict(X_train_resampled)\n",
    "\n",
    "cm_dt = confusion_matrix(y_train_resampled, y_hat_dt)\n",
    "cm_dt"
   ]
  },
  {
   "cell_type": "code",
   "execution_count": 79,
   "metadata": {},
   "outputs": [
    {
     "name": "stdout",
     "output_type": "stream",
     "text": [
      "              precision    recall  f1-score   support\n",
      "\n",
      "           1       0.96      0.89      0.92      9072\n",
      "           2       0.76      0.98      0.86      9072\n",
      "           3       0.97      0.87      0.92      9072\n",
      "           4       0.93      0.90      0.92      9072\n",
      "           5       0.95      0.88      0.92      9072\n",
      "\n",
      "    accuracy                           0.90     45360\n",
      "   macro avg       0.92      0.90      0.91     45360\n",
      "weighted avg       0.92      0.90      0.91     45360\n",
      "\n"
     ]
    }
   ],
   "source": [
    "print(classification_report(y_train_resampled, y_hat_dt))"
   ]
  },
  {
   "cell_type": "code",
   "execution_count": null,
   "metadata": {},
   "outputs": [],
   "source": []
  },
  {
   "cell_type": "code",
   "execution_count": null,
   "metadata": {},
   "outputs": [],
   "source": []
  },
  {
   "cell_type": "code",
   "execution_count": 91,
   "metadata": {},
   "outputs": [
    {
     "data": {
      "text/plain": [
       "0.49852292768959433"
      ]
     },
     "execution_count": 91,
     "metadata": {},
     "output_type": "execute_result"
    }
   ],
   "source": [
    "# Bagged Trees\n",
    "\n",
    "# Instantiate a BaggingClassifier\n",
    "bagged_tree =  BaggingClassifier(DecisionTreeClassifier(criterion='gini', max_leaf_nodes=100), \n",
    "                                 n_estimators=20)\n",
    "\n",
    "# Fit to the training data\n",
    "bagged_tree.fit(X_train_resampled, y_train_resampled)\n",
    "\n",
    "bagged_tree.score(X_train_resampled, y_train_resampled)"
   ]
  },
  {
   "cell_type": "code",
   "execution_count": 92,
   "metadata": {},
   "outputs": [
    {
     "data": {
      "text/plain": [
       "array([[5543, 1987, 1081,  391,   70],\n",
       "       [2174, 4787, 1214,  604,  293],\n",
       "       [1381, 1843, 3339, 1685,  824],\n",
       "       [ 419,  984, 1351, 3382, 2936],\n",
       "       [ 191,  683,  661, 1975, 5562]])"
      ]
     },
     "execution_count": 92,
     "metadata": {},
     "output_type": "execute_result"
    }
   ],
   "source": [
    "y_hat_bagged = bagged_tree.predict(X_train_resampled)\n",
    "\n",
    "cm_bagged = confusion_matrix(y_train_resampled, y_hat_bagged)\n",
    "cm_bagged"
   ]
  },
  {
   "cell_type": "code",
   "execution_count": 93,
   "metadata": {},
   "outputs": [
    {
     "name": "stdout",
     "output_type": "stream",
     "text": [
      "              precision    recall  f1-score   support\n",
      "\n",
      "           1       0.57      0.61      0.59      9072\n",
      "           2       0.47      0.53      0.49      9072\n",
      "           3       0.44      0.37      0.40      9072\n",
      "           4       0.42      0.37      0.40      9072\n",
      "           5       0.57      0.61      0.59      9072\n",
      "\n",
      "    accuracy                           0.50     45360\n",
      "   macro avg       0.49      0.50      0.49     45360\n",
      "weighted avg       0.49      0.50      0.49     45360\n",
      "\n"
     ]
    }
   ],
   "source": [
    "print(classification_report(y_train_resampled, y_hat_bagged))"
   ]
  },
  {
   "cell_type": "code",
   "execution_count": null,
   "metadata": {},
   "outputs": [],
   "source": []
  },
  {
   "cell_type": "code",
   "execution_count": null,
   "metadata": {},
   "outputs": [],
   "source": [
    "# Random Forest"
   ]
  },
  {
   "cell_type": "code",
   "execution_count": 95,
   "metadata": {},
   "outputs": [
    {
     "data": {
      "text/plain": [
       "0.6006834215167548"
      ]
     },
     "execution_count": 95,
     "metadata": {},
     "output_type": "execute_result"
    }
   ],
   "source": [
    "# Instantiate and fit a RandomForestClassifier\n",
    "forest = RandomForestClassifier(n_estimators=100, max_depth = 10)\n",
    "forest.fit(X_train_resampled, y_train_resampled)\n",
    "forest.score(X_train_resampled, y_train_resampled)"
   ]
  },
  {
   "cell_type": "code",
   "execution_count": 96,
   "metadata": {},
   "outputs": [
    {
     "data": {
      "text/plain": [
       "array([[6109, 1816,  609,  445,   93],\n",
       "       [1390, 6273,  617,  509,  283],\n",
       "       [ 954, 1676, 4468, 1077,  897],\n",
       "       [ 312, 1012,  935, 4262, 2551],\n",
       "       [ 180,  694,  548, 1515, 6135]])"
      ]
     },
     "execution_count": 96,
     "metadata": {},
     "output_type": "execute_result"
    }
   ],
   "source": [
    "y_hat_forest = forest.predict(X_train_resampled)\n",
    "\n",
    "cm_forest = confusion_matrix(y_train_resampled, y_hat_forest)\n",
    "cm_forest"
   ]
  },
  {
   "cell_type": "code",
   "execution_count": 97,
   "metadata": {},
   "outputs": [
    {
     "name": "stdout",
     "output_type": "stream",
     "text": [
      "              precision    recall  f1-score   support\n",
      "\n",
      "           1       0.68      0.67      0.68      9072\n",
      "           2       0.55      0.69      0.61      9072\n",
      "           3       0.62      0.49      0.55      9072\n",
      "           4       0.55      0.47      0.50      9072\n",
      "           5       0.62      0.68      0.64      9072\n",
      "\n",
      "    accuracy                           0.60     45360\n",
      "   macro avg       0.60      0.60      0.60     45360\n",
      "weighted avg       0.60      0.60      0.60     45360\n",
      "\n"
     ]
    }
   ],
   "source": [
    "print(classification_report(y_train_resampled, y_hat_forest))"
   ]
  },
  {
   "cell_type": "code",
   "execution_count": null,
   "metadata": {},
   "outputs": [],
   "source": [
    "# Grid Search / Random Search to find optimal parameters"
   ]
  },
  {
   "cell_type": "code",
   "execution_count": null,
   "metadata": {},
   "outputs": [],
   "source": []
  },
  {
   "cell_type": "code",
   "execution_count": null,
   "metadata": {},
   "outputs": [],
   "source": []
  },
  {
   "cell_type": "code",
   "execution_count": null,
   "metadata": {},
   "outputs": [],
   "source": [
    "# SVM / Linear SVC"
   ]
  },
  {
   "cell_type": "code",
   "execution_count": null,
   "metadata": {},
   "outputs": [],
   "source": [
    "# Naive Bayes?"
   ]
  },
  {
   "cell_type": "code",
   "execution_count": null,
   "metadata": {},
   "outputs": [],
   "source": [
    "# SVC?"
   ]
  },
  {
   "cell_type": "code",
   "execution_count": null,
   "metadata": {},
   "outputs": [],
   "source": [
    "# Ensemble Classifiers"
   ]
  },
  {
   "cell_type": "code",
   "execution_count": 99,
   "metadata": {},
   "outputs": [
    {
     "data": {
      "text/plain": [
       "0.4135361552028219"
      ]
     },
     "execution_count": 99,
     "metadata": {},
     "output_type": "execute_result"
    }
   ],
   "source": [
    "# Adaboost\n",
    "# Instantiate an AdaBoostClassifier\n",
    "clf_ab = AdaBoostClassifier()\n",
    "\n",
    "clf_ab.fit(X_train_resampled, y_train_resampled)\n",
    "clf_ab.score(X_train_resampled, y_train_resampled)"
   ]
  },
  {
   "cell_type": "code",
   "execution_count": 100,
   "metadata": {},
   "outputs": [
    {
     "data": {
      "text/plain": [
       "array([[5671, 2031,  893,  381,   96],\n",
       "       [4092, 2694, 1266,  729,  291],\n",
       "       [2465, 1916, 1980, 1407, 1304],\n",
       "       [ 788,  887, 1277, 2525, 3595],\n",
       "       [ 627,  313,  604, 1640, 5888]])"
      ]
     },
     "execution_count": 100,
     "metadata": {},
     "output_type": "execute_result"
    }
   ],
   "source": [
    "y_hat_ab = clf_ab.predict(X_train_resampled)\n",
    "\n",
    "cm_ab = confusion_matrix(y_train_resampled, y_hat_ab)\n",
    "cm_ab"
   ]
  },
  {
   "cell_type": "code",
   "execution_count": 101,
   "metadata": {},
   "outputs": [
    {
     "name": "stdout",
     "output_type": "stream",
     "text": [
      "              precision    recall  f1-score   support\n",
      "\n",
      "           1       0.42      0.63      0.50      9072\n",
      "           2       0.34      0.30      0.32      9072\n",
      "           3       0.33      0.22      0.26      9072\n",
      "           4       0.38      0.28      0.32      9072\n",
      "           5       0.53      0.65      0.58      9072\n",
      "\n",
      "    accuracy                           0.41     45360\n",
      "   macro avg       0.40      0.41      0.40     45360\n",
      "weighted avg       0.40      0.41      0.40     45360\n",
      "\n"
     ]
    }
   ],
   "source": [
    "print(classification_report(y_train_resampled, y_hat_ab))"
   ]
  },
  {
   "cell_type": "code",
   "execution_count": null,
   "metadata": {},
   "outputs": [],
   "source": []
  },
  {
   "cell_type": "code",
   "execution_count": null,
   "metadata": {},
   "outputs": [],
   "source": []
  },
  {
   "cell_type": "code",
   "execution_count": null,
   "metadata": {},
   "outputs": [],
   "source": []
  },
  {
   "cell_type": "code",
   "execution_count": 102,
   "metadata": {},
   "outputs": [
    {
     "data": {
      "text/plain": [
       "0.47872574955908287"
      ]
     },
     "execution_count": 102,
     "metadata": {},
     "output_type": "execute_result"
    }
   ],
   "source": [
    "# Instantiate an GradientBoostingClassifier\n",
    "clf_gb = GradientBoostingClassifier()\n",
    "\n",
    "clf_gb.fit(X_train_resampled, y_train_resampled)\n",
    "clf_gb.score(X_train_resampled, y_train_resampled)"
   ]
  },
  {
   "cell_type": "code",
   "execution_count": 103,
   "metadata": {},
   "outputs": [
    {
     "data": {
      "text/plain": [
       "array([[5006, 2510,  981,  484,   91],\n",
       "       [2230, 4487, 1328,  724,  303],\n",
       "       [1283, 2270, 2888, 1642,  989],\n",
       "       [ 312, 1100, 1260, 3366, 3034],\n",
       "       [ 198,  646,  617, 1643, 5968]])"
      ]
     },
     "execution_count": 103,
     "metadata": {},
     "output_type": "execute_result"
    }
   ],
   "source": [
    "y_hat_gb = clf_gb.predict(X_train_resampled)\n",
    "\n",
    "cm_gb = confusion_matrix(y_train_resampled, y_hat_gb)\n",
    "cm_gb"
   ]
  },
  {
   "cell_type": "code",
   "execution_count": 104,
   "metadata": {},
   "outputs": [
    {
     "name": "stdout",
     "output_type": "stream",
     "text": [
      "              precision    recall  f1-score   support\n",
      "\n",
      "           1       0.55      0.55      0.55      9072\n",
      "           2       0.41      0.49      0.45      9072\n",
      "           3       0.41      0.32      0.36      9072\n",
      "           4       0.43      0.37      0.40      9072\n",
      "           5       0.57      0.66      0.61      9072\n",
      "\n",
      "    accuracy                           0.48     45360\n",
      "   macro avg       0.47      0.48      0.47     45360\n",
      "weighted avg       0.47      0.48      0.47     45360\n",
      "\n"
     ]
    }
   ],
   "source": [
    "print(classification_report(y_train_resampled, y_hat_gb))"
   ]
  },
  {
   "cell_type": "code",
   "execution_count": null,
   "metadata": {},
   "outputs": [],
   "source": []
  },
  {
   "cell_type": "code",
   "execution_count": null,
   "metadata": {},
   "outputs": [],
   "source": []
  },
  {
   "cell_type": "code",
   "execution_count": null,
   "metadata": {},
   "outputs": [],
   "source": []
  },
  {
   "cell_type": "code",
   "execution_count": null,
   "metadata": {},
   "outputs": [],
   "source": [
    "# XGBoost"
   ]
  },
  {
   "cell_type": "code",
   "execution_count": null,
   "metadata": {},
   "outputs": [],
   "source": [
    "# SGD?"
   ]
  },
  {
   "cell_type": "code",
   "execution_count": null,
   "metadata": {},
   "outputs": [],
   "source": [
    "# Kernel Approximation?"
   ]
  },
  {
   "cell_type": "code",
   "execution_count": null,
   "metadata": {},
   "outputs": [],
   "source": []
  },
  {
   "cell_type": "code",
   "execution_count": 24,
   "metadata": {},
   "outputs": [
    {
     "name": "stderr",
     "output_type": "stream",
     "text": [
      "b'Skipping line 8704: expected 15 fields, saw 22\\nSkipping line 16933: expected 15 fields, saw 22\\nSkipping line 23726: expected 15 fields, saw 22\\n'\n",
      "b'Skipping line 85637: expected 15 fields, saw 22\\n'\n",
      "b'Skipping line 132136: expected 15 fields, saw 22\\nSkipping line 158070: expected 15 fields, saw 22\\nSkipping line 166007: expected 15 fields, saw 22\\nSkipping line 171877: expected 15 fields, saw 22\\nSkipping line 177756: expected 15 fields, saw 22\\nSkipping line 181773: expected 15 fields, saw 22\\nSkipping line 191085: expected 15 fields, saw 22\\nSkipping line 196273: expected 15 fields, saw 22\\nSkipping line 196331: expected 15 fields, saw 22\\n'\n",
      "b'Skipping line 197000: expected 15 fields, saw 22\\nSkipping line 197011: expected 15 fields, saw 22\\nSkipping line 197432: expected 15 fields, saw 22\\nSkipping line 208016: expected 15 fields, saw 22\\nSkipping line 214110: expected 15 fields, saw 22\\nSkipping line 244328: expected 15 fields, saw 22\\nSkipping line 248519: expected 15 fields, saw 22\\nSkipping line 254936: expected 15 fields, saw 22\\n'\n",
      "b'Skipping line 272057: expected 15 fields, saw 22\\nSkipping line 293214: expected 15 fields, saw 22\\nSkipping line 310507: expected 15 fields, saw 22\\nSkipping line 312306: expected 15 fields, saw 22\\nSkipping line 316296: expected 15 fields, saw 22\\n'\n",
      "b'Skipping line 336028: expected 15 fields, saw 22\\nSkipping line 344885: expected 15 fields, saw 22\\nSkipping line 352551: expected 15 fields, saw 22\\n'\n",
      "b'Skipping line 408773: expected 15 fields, saw 22\\nSkipping line 434535: expected 15 fields, saw 22\\n'\n",
      "b'Skipping line 581593: expected 15 fields, saw 22\\n'\n",
      "b'Skipping line 652409: expected 15 fields, saw 22\\n'\n"
     ]
    }
   ],
   "source": [
    "df_watch = pd.read_csv('https://s3.amazonaws.com/amazon-reviews-pds/tsv/amazon_reviews_us_Watches_v1_00.tsv.gz', sep='\\t', error_bad_lines=False)"
   ]
  },
  {
   "cell_type": "code",
   "execution_count": 27,
   "metadata": {},
   "outputs": [
    {
     "data": {
      "text/html": [
       "<div>\n",
       "<style scoped>\n",
       "    .dataframe tbody tr th:only-of-type {\n",
       "        vertical-align: middle;\n",
       "    }\n",
       "\n",
       "    .dataframe tbody tr th {\n",
       "        vertical-align: top;\n",
       "    }\n",
       "\n",
       "    .dataframe thead th {\n",
       "        text-align: right;\n",
       "    }\n",
       "</style>\n",
       "<table border=\"1\" class=\"dataframe\">\n",
       "  <thead>\n",
       "    <tr style=\"text-align: right;\">\n",
       "      <th></th>\n",
       "      <th>marketplace</th>\n",
       "      <th>customer_id</th>\n",
       "      <th>review_id</th>\n",
       "      <th>product_id</th>\n",
       "      <th>product_parent</th>\n",
       "      <th>product_title</th>\n",
       "      <th>product_category</th>\n",
       "      <th>star_rating</th>\n",
       "      <th>helpful_votes</th>\n",
       "      <th>total_votes</th>\n",
       "      <th>vine</th>\n",
       "      <th>verified_purchase</th>\n",
       "      <th>review_headline</th>\n",
       "      <th>review_body</th>\n",
       "      <th>review_date</th>\n",
       "    </tr>\n",
       "  </thead>\n",
       "  <tbody>\n",
       "    <tr>\n",
       "      <td>7</td>\n",
       "      <td>US</td>\n",
       "      <td>49401598</td>\n",
       "      <td>R2RHFJV0UYBK3Y</td>\n",
       "      <td>B00A4EYBR0</td>\n",
       "      <td>844009113</td>\n",
       "      <td>INFANTRY Mens Night Vision Analog Quartz Wrist...</td>\n",
       "      <td>Watches</td>\n",
       "      <td>1</td>\n",
       "      <td>1</td>\n",
       "      <td>5</td>\n",
       "      <td>N</td>\n",
       "      <td>N</td>\n",
       "      <td>I was about to buy this thinking it was a ...</td>\n",
       "      <td>I was about to buy this thinking it was a Swis...</td>\n",
       "      <td>2015-08-31</td>\n",
       "    </tr>\n",
       "    <tr>\n",
       "      <td>11</td>\n",
       "      <td>US</td>\n",
       "      <td>16097204</td>\n",
       "      <td>R361XSS37V0NCZ</td>\n",
       "      <td>B0039UT5OU</td>\n",
       "      <td>685450910</td>\n",
       "      <td>Casio General Men's Watches Sporty Digital AE-...</td>\n",
       "      <td>Watches</td>\n",
       "      <td>1</td>\n",
       "      <td>0</td>\n",
       "      <td>0</td>\n",
       "      <td>N</td>\n",
       "      <td>N</td>\n",
       "      <td>I do not think this watch is a good product. D...</td>\n",
       "      <td>I bought this watch on 2013, the screen had a ...</td>\n",
       "      <td>2015-08-31</td>\n",
       "    </tr>\n",
       "    <tr>\n",
       "      <td>37</td>\n",
       "      <td>US</td>\n",
       "      <td>10356300</td>\n",
       "      <td>R364RU42RZ606Z</td>\n",
       "      <td>B00F8AWMXA</td>\n",
       "      <td>397647155</td>\n",
       "      <td>Invicta Men's 15256 I-Force Gunmetal Ion-Plate...</td>\n",
       "      <td>Watches</td>\n",
       "      <td>1</td>\n",
       "      <td>0</td>\n",
       "      <td>0</td>\n",
       "      <td>N</td>\n",
       "      <td>Y</td>\n",
       "      <td>One Star</td>\n",
       "      <td>crap</td>\n",
       "      <td>2015-08-31</td>\n",
       "    </tr>\n",
       "    <tr>\n",
       "      <td>41</td>\n",
       "      <td>US</td>\n",
       "      <td>19983148</td>\n",
       "      <td>RQ70UFZVX7UVJ</td>\n",
       "      <td>B00S69FO0I</td>\n",
       "      <td>406011595</td>\n",
       "      <td>U.S. Polo Assn. Sport Men's US9506 Analog-Digi...</td>\n",
       "      <td>Watches</td>\n",
       "      <td>1</td>\n",
       "      <td>0</td>\n",
       "      <td>0</td>\n",
       "      <td>N</td>\n",
       "      <td>Y</td>\n",
       "      <td>poor quality</td>\n",
       "      <td>Metal color was changed after the first use , ...</td>\n",
       "      <td>2015-08-31</td>\n",
       "    </tr>\n",
       "    <tr>\n",
       "      <td>53</td>\n",
       "      <td>US</td>\n",
       "      <td>1196727</td>\n",
       "      <td>R1SOUO6DCO4X5H</td>\n",
       "      <td>B00QBTQX50</td>\n",
       "      <td>29617990</td>\n",
       "      <td>iStrap Calfskin Leather Watch Band Replacement...</td>\n",
       "      <td>Watches</td>\n",
       "      <td>1</td>\n",
       "      <td>0</td>\n",
       "      <td>1</td>\n",
       "      <td>N</td>\n",
       "      <td>Y</td>\n",
       "      <td>One Star</td>\n",
       "      <td>It was bad it didnt fit my 22mm retro casio</td>\n",
       "      <td>2015-08-31</td>\n",
       "    </tr>\n",
       "    <tr>\n",
       "      <td>...</td>\n",
       "      <td>...</td>\n",
       "      <td>...</td>\n",
       "      <td>...</td>\n",
       "      <td>...</td>\n",
       "      <td>...</td>\n",
       "      <td>...</td>\n",
       "      <td>...</td>\n",
       "      <td>...</td>\n",
       "      <td>...</td>\n",
       "      <td>...</td>\n",
       "      <td>...</td>\n",
       "      <td>...</td>\n",
       "      <td>...</td>\n",
       "      <td>...</td>\n",
       "      <td>...</td>\n",
       "    </tr>\n",
       "    <tr>\n",
       "      <td>960179</td>\n",
       "      <td>US</td>\n",
       "      <td>52789057</td>\n",
       "      <td>R2SPXCB6TMIG7E</td>\n",
       "      <td>B00005QVXH</td>\n",
       "      <td>401515404</td>\n",
       "      <td>Timex Women's Fashion Watch 01017</td>\n",
       "      <td>Watches</td>\n",
       "      <td>1</td>\n",
       "      <td>2</td>\n",
       "      <td>2</td>\n",
       "      <td>N</td>\n",
       "      <td>N</td>\n",
       "      <td>Timepiece</td>\n",
       "      <td>Looks great! Does not keep time or have any in...</td>\n",
       "      <td>2002-10-22</td>\n",
       "    </tr>\n",
       "    <tr>\n",
       "      <td>960180</td>\n",
       "      <td>US</td>\n",
       "      <td>36726250</td>\n",
       "      <td>R1HEEW0HDPP0YH</td>\n",
       "      <td>B00005OT9I</td>\n",
       "      <td>2153632</td>\n",
       "      <td>Xhilaration&amp;#174; Silver Dial Bangle Watch</td>\n",
       "      <td>Watches</td>\n",
       "      <td>1</td>\n",
       "      <td>4</td>\n",
       "      <td>4</td>\n",
       "      <td>N</td>\n",
       "      <td>N</td>\n",
       "      <td>Cheaply Made.....</td>\n",
       "      <td>This watch looks good &amp;amp; is very attractive...</td>\n",
       "      <td>2002-10-12</td>\n",
       "    </tr>\n",
       "    <tr>\n",
       "      <td>960183</td>\n",
       "      <td>US</td>\n",
       "      <td>38105554</td>\n",
       "      <td>R1721LXOWD6H3C</td>\n",
       "      <td>B00005OT8Z</td>\n",
       "      <td>122254165</td>\n",
       "      <td>Timex Ironman Triathlon Digital Heart Rate Mon...</td>\n",
       "      <td>Watches</td>\n",
       "      <td>1</td>\n",
       "      <td>11</td>\n",
       "      <td>27</td>\n",
       "      <td>N</td>\n",
       "      <td>N</td>\n",
       "      <td>I was excited</td>\n",
       "      <td>I was very excited about this product when I p...</td>\n",
       "      <td>2002-09-18</td>\n",
       "    </tr>\n",
       "    <tr>\n",
       "      <td>960191</td>\n",
       "      <td>US</td>\n",
       "      <td>49987382</td>\n",
       "      <td>RPAY64ZST7TE3</td>\n",
       "      <td>B00005OT91</td>\n",
       "      <td>458246193</td>\n",
       "      <td>Timex Men's T44661 Expedition Metal Tech Watch</td>\n",
       "      <td>Watches</td>\n",
       "      <td>1</td>\n",
       "      <td>10</td>\n",
       "      <td>11</td>\n",
       "      <td>N</td>\n",
       "      <td>N</td>\n",
       "      <td>Piece of [stuff]</td>\n",
       "      <td>It is suppossed to take a lickin.. BUT IT DOES...</td>\n",
       "      <td>2002-05-15</td>\n",
       "    </tr>\n",
       "    <tr>\n",
       "      <td>960195</td>\n",
       "      <td>US</td>\n",
       "      <td>50318278</td>\n",
       "      <td>R1W6TRBVZSPGCJ</td>\n",
       "      <td>B00005OT9I</td>\n",
       "      <td>2153632</td>\n",
       "      <td>Xhilaration&amp;#174; Silver Dial Bangle Watch</td>\n",
       "      <td>Watches</td>\n",
       "      <td>1</td>\n",
       "      <td>20</td>\n",
       "      <td>20</td>\n",
       "      <td>N</td>\n",
       "      <td>N</td>\n",
       "      <td>this is not a cool item</td>\n",
       "      <td>This item is very cool looking and is comforta...</td>\n",
       "      <td>2002-02-24</td>\n",
       "    </tr>\n",
       "  </tbody>\n",
       "</table>\n",
       "<p>85126 rows × 15 columns</p>\n",
       "</div>"
      ],
      "text/plain": [
       "       marketplace  customer_id       review_id  product_id  product_parent  \\\n",
       "7               US     49401598  R2RHFJV0UYBK3Y  B00A4EYBR0       844009113   \n",
       "11              US     16097204  R361XSS37V0NCZ  B0039UT5OU       685450910   \n",
       "37              US     10356300  R364RU42RZ606Z  B00F8AWMXA       397647155   \n",
       "41              US     19983148   RQ70UFZVX7UVJ  B00S69FO0I       406011595   \n",
       "53              US      1196727  R1SOUO6DCO4X5H  B00QBTQX50        29617990   \n",
       "...            ...          ...             ...         ...             ...   \n",
       "960179          US     52789057  R2SPXCB6TMIG7E  B00005QVXH       401515404   \n",
       "960180          US     36726250  R1HEEW0HDPP0YH  B00005OT9I         2153632   \n",
       "960183          US     38105554  R1721LXOWD6H3C  B00005OT8Z       122254165   \n",
       "960191          US     49987382   RPAY64ZST7TE3  B00005OT91       458246193   \n",
       "960195          US     50318278  R1W6TRBVZSPGCJ  B00005OT9I         2153632   \n",
       "\n",
       "                                            product_title product_category  \\\n",
       "7       INFANTRY Mens Night Vision Analog Quartz Wrist...          Watches   \n",
       "11      Casio General Men's Watches Sporty Digital AE-...          Watches   \n",
       "37      Invicta Men's 15256 I-Force Gunmetal Ion-Plate...          Watches   \n",
       "41      U.S. Polo Assn. Sport Men's US9506 Analog-Digi...          Watches   \n",
       "53      iStrap Calfskin Leather Watch Band Replacement...          Watches   \n",
       "...                                                   ...              ...   \n",
       "960179                  Timex Women's Fashion Watch 01017          Watches   \n",
       "960180         Xhilaration&#174; Silver Dial Bangle Watch          Watches   \n",
       "960183  Timex Ironman Triathlon Digital Heart Rate Mon...          Watches   \n",
       "960191     Timex Men's T44661 Expedition Metal Tech Watch          Watches   \n",
       "960195         Xhilaration&#174; Silver Dial Bangle Watch          Watches   \n",
       "\n",
       "        star_rating  helpful_votes  total_votes vine verified_purchase  \\\n",
       "7                 1              1            5    N                 N   \n",
       "11                1              0            0    N                 N   \n",
       "37                1              0            0    N                 Y   \n",
       "41                1              0            0    N                 Y   \n",
       "53                1              0            1    N                 Y   \n",
       "...             ...            ...          ...  ...               ...   \n",
       "960179            1              2            2    N                 N   \n",
       "960180            1              4            4    N                 N   \n",
       "960183            1             11           27    N                 N   \n",
       "960191            1             10           11    N                 N   \n",
       "960195            1             20           20    N                 N   \n",
       "\n",
       "                                          review_headline  \\\n",
       "7           I was about to buy this thinking it was a ...   \n",
       "11      I do not think this watch is a good product. D...   \n",
       "37                                               One Star   \n",
       "41                                           poor quality   \n",
       "53                                               One Star   \n",
       "...                                                   ...   \n",
       "960179                                          Timepiece   \n",
       "960180                                  Cheaply Made.....   \n",
       "960183                                      I was excited   \n",
       "960191                                   Piece of [stuff]   \n",
       "960195                            this is not a cool item   \n",
       "\n",
       "                                              review_body review_date  \n",
       "7       I was about to buy this thinking it was a Swis...  2015-08-31  \n",
       "11      I bought this watch on 2013, the screen had a ...  2015-08-31  \n",
       "37                                                   crap  2015-08-31  \n",
       "41      Metal color was changed after the first use , ...  2015-08-31  \n",
       "53            It was bad it didnt fit my 22mm retro casio  2015-08-31  \n",
       "...                                                   ...         ...  \n",
       "960179  Looks great! Does not keep time or have any in...  2002-10-22  \n",
       "960180  This watch looks good &amp; is very attractive...  2002-10-12  \n",
       "960183  I was very excited about this product when I p...  2002-09-18  \n",
       "960191  It is suppossed to take a lickin.. BUT IT DOES...  2002-05-15  \n",
       "960195  This item is very cool looking and is comforta...  2002-02-24  \n",
       "\n",
       "[85126 rows x 15 columns]"
      ]
     },
     "execution_count": 27,
     "metadata": {},
     "output_type": "execute_result"
    }
   ],
   "source": [
    "df_watch.loc[df_watch['star_rating'] == 1]"
   ]
  },
  {
   "cell_type": "code",
   "execution_count": 28,
   "metadata": {},
   "outputs": [
    {
     "data": {
      "text/plain": [
       "5    571173\n",
       "4    172781\n",
       "1     85126\n",
       "3     79116\n",
       "2     52008\n",
       "Name: star_rating, dtype: int64"
      ]
     },
     "execution_count": 28,
     "metadata": {},
     "output_type": "execute_result"
    }
   ],
   "source": [
    "df_watch['star_rating'].value_counts()"
   ]
  },
  {
   "cell_type": "code",
   "execution_count": null,
   "metadata": {},
   "outputs": [],
   "source": []
  },
  {
   "cell_type": "code",
   "execution_count": null,
   "metadata": {},
   "outputs": [],
   "source": []
  },
  {
   "cell_type": "code",
   "execution_count": null,
   "metadata": {},
   "outputs": [],
   "source": []
  },
  {
   "cell_type": "code",
   "execution_count": null,
   "metadata": {},
   "outputs": [],
   "source": []
  },
  {
   "cell_type": "code",
   "execution_count": null,
   "metadata": {},
   "outputs": [],
   "source": []
  },
  {
   "cell_type": "code",
   "execution_count": null,
   "metadata": {},
   "outputs": [],
   "source": []
  },
  {
   "cell_type": "code",
   "execution_count": null,
   "metadata": {},
   "outputs": [],
   "source": []
  },
  {
   "cell_type": "code",
   "execution_count": null,
   "metadata": {},
   "outputs": [],
   "source": []
  },
  {
   "cell_type": "code",
   "execution_count": 15,
   "metadata": {},
   "outputs": [
    {
     "ename": "NameError",
     "evalue": "name 'calinski_harabasz_score' is not defined",
     "output_type": "error",
     "traceback": [
      "\u001b[0;31m---------------------------------------------------------------------------\u001b[0m",
      "\u001b[0;31mNameError\u001b[0m                                 Traceback (most recent call last)",
      "\u001b[0;32m<ipython-input-15-f6c3facb0fd8>\u001b[0m in \u001b[0;36m<module>\u001b[0;34m\u001b[0m\n\u001b[1;32m     15\u001b[0m     \u001b[0mcluster_assignments\u001b[0m \u001b[0;34m=\u001b[0m \u001b[0mk_means\u001b[0m\u001b[0;34m.\u001b[0m\u001b[0mpredict\u001b[0m\u001b[0;34m(\u001b[0m\u001b[0mdf_numer\u001b[0m\u001b[0;34m)\u001b[0m\u001b[0;34m\u001b[0m\u001b[0;34m\u001b[0m\u001b[0m\n\u001b[1;32m     16\u001b[0m \u001b[0;34m\u001b[0m\u001b[0m\n\u001b[0;32m---> 17\u001b[0;31m     \u001b[0mprint\u001b[0m\u001b[0;34m(\u001b[0m\u001b[0mn\u001b[0m\u001b[0;34m,\u001b[0m \u001b[0mcalinski_harabasz_score\u001b[0m\u001b[0;34m(\u001b[0m\u001b[0mdf_numer\u001b[0m\u001b[0;34m,\u001b[0m \u001b[0mcluster_assignments\u001b[0m\u001b[0;34m)\u001b[0m\u001b[0;34m)\u001b[0m\u001b[0;34m\u001b[0m\u001b[0;34m\u001b[0m\u001b[0m\n\u001b[0m",
      "\u001b[0;31mNameError\u001b[0m: name 'calinski_harabasz_score' is not defined"
     ]
    }
   ],
   "source": [
    "# Clustering\n",
    "\n",
    "from sklearn.cluster import KMeans\n",
    "\n",
    "num_clusters = np.arange(2, 50)\n",
    "\n",
    "# Set number of clusters at initialization time\n",
    "for n in num_clusters:\n",
    "    k_means = KMeans(n_clusters=n) \n",
    "\n",
    "    # Run the clustering algorithm\n",
    "    k_means.fit(df_numer) \n",
    "\n",
    "    # Generate cluster index values for each row\n",
    "    cluster_assignments = k_means.predict(df_numer)\n",
    "    \n",
    "    print(n, calinski_harabasz_score(df_numer, cluster_assignments))"
   ]
  },
  {
   "cell_type": "code",
   "execution_count": null,
   "metadata": {},
   "outputs": [],
   "source": [
    "cluster_assignments"
   ]
  },
  {
   "cell_type": "code",
   "execution_count": null,
   "metadata": {},
   "outputs": [],
   "source": [
    "k_means.labels_"
   ]
  },
  {
   "cell_type": "code",
   "execution_count": null,
   "metadata": {},
   "outputs": [],
   "source": [
    "# This code builds on the previous example\n",
    "from sklearn.metrics import calinski_harabasz_score\n",
    "\n",
    "# Note that we could also pass in k_means.labels_ instead of cluster_assignments\n",
    "print(calinski_harabasz_score(df_numer, cluster_assignments))"
   ]
  },
  {
   "cell_type": "code",
   "execution_count": null,
   "metadata": {},
   "outputs": [],
   "source": []
  },
  {
   "cell_type": "code",
   "execution_count": null,
   "metadata": {},
   "outputs": [],
   "source": []
  }
 ],
 "metadata": {
  "kernelspec": {
   "display_name": "Python 3",
   "language": "python",
   "name": "python3"
  },
  "language_info": {
   "codemirror_mode": {
    "name": "ipython",
    "version": 3
   },
   "file_extension": ".py",
   "mimetype": "text/x-python",
   "name": "python",
   "nbconvert_exporter": "python",
   "pygments_lexer": "ipython3",
   "version": "3.7.4"
  }
 },
 "nbformat": 4,
 "nbformat_minor": 4
}
