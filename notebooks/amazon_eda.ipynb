{
 "cells": [
  {
   "cell_type": "code",
   "execution_count": 4,
   "metadata": {},
   "outputs": [],
   "source": [
    "# !pip install vaderSentiment\n",
    "# !pip install imblearn\n",
    "# !pip install xgboost"
   ]
  },
  {
   "cell_type": "code",
   "execution_count": 101,
   "metadata": {},
   "outputs": [],
   "source": [
    "import numpy as np\n",
    "import pandas as pd\n",
    "from sklearn.svm import SVC\n",
    "from imblearn.over_sampling import SMOTE\n",
    "from sklearn.tree import DecisionTreeClassifier \n",
    "from sklearn.neighbors import KNeighborsClassifier\n",
    "from sklearn.linear_model import LogisticRegression\n",
    "from sklearn.model_selection import train_test_split\n",
    "from vaderSentiment.vaderSentiment import SentimentIntensityAnalyzer\n",
    "from sklearn.metrics import confusion_matrix, classification_report, plot_confusion_matrix\n",
    "from sklearn.ensemble import BaggingClassifier, RandomForestClassifier, AdaBoostClassifier, GradientBoostingClassifier\n",
    "\n",
    "from nltk.corpus import stopwords\n",
    "from nltk.stem import WordNetLemmatizer\n",
    "from nltk.tokenize import RegexpTokenizer, sent_tokenize\n",
    "from sklearn.feature_extraction.text import CountVectorizer, TfidfVectorizer"
   ]
  },
  {
   "cell_type": "code",
   "execution_count": 10,
   "metadata": {},
   "outputs": [
    {
     "name": "stderr",
     "output_type": "stream",
     "text": [
      "b'Skipping line 8704: expected 15 fields, saw 22\\nSkipping line 16933: expected 15 fields, saw 22\\nSkipping line 23726: expected 15 fields, saw 22\\n'\n",
      "b'Skipping line 85637: expected 15 fields, saw 22\\n'\n",
      "b'Skipping line 132136: expected 15 fields, saw 22\\nSkipping line 158070: expected 15 fields, saw 22\\nSkipping line 166007: expected 15 fields, saw 22\\nSkipping line 171877: expected 15 fields, saw 22\\nSkipping line 177756: expected 15 fields, saw 22\\nSkipping line 181773: expected 15 fields, saw 22\\nSkipping line 191085: expected 15 fields, saw 22\\nSkipping line 196273: expected 15 fields, saw 22\\nSkipping line 196331: expected 15 fields, saw 22\\n'\n",
      "b'Skipping line 197000: expected 15 fields, saw 22\\nSkipping line 197011: expected 15 fields, saw 22\\nSkipping line 197432: expected 15 fields, saw 22\\nSkipping line 208016: expected 15 fields, saw 22\\nSkipping line 214110: expected 15 fields, saw 22\\nSkipping line 244328: expected 15 fields, saw 22\\nSkipping line 248519: expected 15 fields, saw 22\\nSkipping line 254936: expected 15 fields, saw 22\\n'\n",
      "b'Skipping line 272057: expected 15 fields, saw 22\\nSkipping line 293214: expected 15 fields, saw 22\\nSkipping line 310507: expected 15 fields, saw 22\\nSkipping line 312306: expected 15 fields, saw 22\\nSkipping line 316296: expected 15 fields, saw 22\\n'\n",
      "b'Skipping line 336028: expected 15 fields, saw 22\\nSkipping line 344885: expected 15 fields, saw 22\\nSkipping line 352551: expected 15 fields, saw 22\\n'\n",
      "b'Skipping line 408773: expected 15 fields, saw 22\\nSkipping line 434535: expected 15 fields, saw 22\\n'\n",
      "b'Skipping line 581593: expected 15 fields, saw 22\\n'\n",
      "b'Skipping line 652409: expected 15 fields, saw 22\\n'\n"
     ]
    },
    {
     "data": {
      "text/html": [
       "<div>\n",
       "<style scoped>\n",
       "    .dataframe tbody tr th:only-of-type {\n",
       "        vertical-align: middle;\n",
       "    }\n",
       "\n",
       "    .dataframe tbody tr th {\n",
       "        vertical-align: top;\n",
       "    }\n",
       "\n",
       "    .dataframe thead th {\n",
       "        text-align: right;\n",
       "    }\n",
       "</style>\n",
       "<table border=\"1\" class=\"dataframe\">\n",
       "  <thead>\n",
       "    <tr style=\"text-align: right;\">\n",
       "      <th></th>\n",
       "      <th>marketplace</th>\n",
       "      <th>customer_id</th>\n",
       "      <th>review_id</th>\n",
       "      <th>product_id</th>\n",
       "      <th>product_parent</th>\n",
       "      <th>product_title</th>\n",
       "      <th>product_category</th>\n",
       "      <th>star_rating</th>\n",
       "      <th>helpful_votes</th>\n",
       "      <th>total_votes</th>\n",
       "      <th>vine</th>\n",
       "      <th>verified_purchase</th>\n",
       "      <th>review_headline</th>\n",
       "      <th>review_body</th>\n",
       "      <th>review_date</th>\n",
       "    </tr>\n",
       "  </thead>\n",
       "  <tbody>\n",
       "    <tr>\n",
       "      <td>0</td>\n",
       "      <td>US</td>\n",
       "      <td>3653882</td>\n",
       "      <td>R3O9SGZBVQBV76</td>\n",
       "      <td>B00FALQ1ZC</td>\n",
       "      <td>937001370</td>\n",
       "      <td>Invicta Women's 15150 \"Angel\" 18k Yellow Gold ...</td>\n",
       "      <td>Watches</td>\n",
       "      <td>5</td>\n",
       "      <td>0</td>\n",
       "      <td>0</td>\n",
       "      <td>N</td>\n",
       "      <td>Y</td>\n",
       "      <td>Five Stars</td>\n",
       "      <td>Absolutely love this watch! Get compliments al...</td>\n",
       "      <td>2015-08-31</td>\n",
       "    </tr>\n",
       "    <tr>\n",
       "      <td>1</td>\n",
       "      <td>US</td>\n",
       "      <td>14661224</td>\n",
       "      <td>RKH8BNC3L5DLF</td>\n",
       "      <td>B00D3RGO20</td>\n",
       "      <td>484010722</td>\n",
       "      <td>Kenneth Cole New York Women's KC4944 Automatic...</td>\n",
       "      <td>Watches</td>\n",
       "      <td>5</td>\n",
       "      <td>0</td>\n",
       "      <td>0</td>\n",
       "      <td>N</td>\n",
       "      <td>Y</td>\n",
       "      <td>I love thiswatch it keeps time wonderfully</td>\n",
       "      <td>I love this watch it keeps time wonderfully.</td>\n",
       "      <td>2015-08-31</td>\n",
       "    </tr>\n",
       "    <tr>\n",
       "      <td>2</td>\n",
       "      <td>US</td>\n",
       "      <td>27324930</td>\n",
       "      <td>R2HLE8WKZSU3NL</td>\n",
       "      <td>B00DKYC7TK</td>\n",
       "      <td>361166390</td>\n",
       "      <td>Ritche 22mm Black Stainless Steel Bracelet Wat...</td>\n",
       "      <td>Watches</td>\n",
       "      <td>2</td>\n",
       "      <td>1</td>\n",
       "      <td>1</td>\n",
       "      <td>N</td>\n",
       "      <td>Y</td>\n",
       "      <td>Two Stars</td>\n",
       "      <td>Scratches</td>\n",
       "      <td>2015-08-31</td>\n",
       "    </tr>\n",
       "    <tr>\n",
       "      <td>3</td>\n",
       "      <td>US</td>\n",
       "      <td>7211452</td>\n",
       "      <td>R31U3UH5AZ42LL</td>\n",
       "      <td>B000EQS1JW</td>\n",
       "      <td>958035625</td>\n",
       "      <td>Citizen Men's BM8180-03E Eco-Drive Stainless S...</td>\n",
       "      <td>Watches</td>\n",
       "      <td>5</td>\n",
       "      <td>0</td>\n",
       "      <td>0</td>\n",
       "      <td>N</td>\n",
       "      <td>Y</td>\n",
       "      <td>Five Stars</td>\n",
       "      <td>It works well on me. However, I found cheaper ...</td>\n",
       "      <td>2015-08-31</td>\n",
       "    </tr>\n",
       "    <tr>\n",
       "      <td>4</td>\n",
       "      <td>US</td>\n",
       "      <td>12733322</td>\n",
       "      <td>R2SV659OUJ945Y</td>\n",
       "      <td>B00A6GFD7S</td>\n",
       "      <td>765328221</td>\n",
       "      <td>Orient ER27009B Men's Symphony Automatic Stain...</td>\n",
       "      <td>Watches</td>\n",
       "      <td>4</td>\n",
       "      <td>0</td>\n",
       "      <td>0</td>\n",
       "      <td>N</td>\n",
       "      <td>Y</td>\n",
       "      <td>Beautiful face, but cheap sounding links</td>\n",
       "      <td>Beautiful watch face.  The band looks nice all...</td>\n",
       "      <td>2015-08-31</td>\n",
       "    </tr>\n",
       "    <tr>\n",
       "      <td>...</td>\n",
       "      <td>...</td>\n",
       "      <td>...</td>\n",
       "      <td>...</td>\n",
       "      <td>...</td>\n",
       "      <td>...</td>\n",
       "      <td>...</td>\n",
       "      <td>...</td>\n",
       "      <td>...</td>\n",
       "      <td>...</td>\n",
       "      <td>...</td>\n",
       "      <td>...</td>\n",
       "      <td>...</td>\n",
       "      <td>...</td>\n",
       "      <td>...</td>\n",
       "      <td>...</td>\n",
       "    </tr>\n",
       "    <tr>\n",
       "      <td>960199</td>\n",
       "      <td>US</td>\n",
       "      <td>39508379</td>\n",
       "      <td>REH8UQZAXQS40</td>\n",
       "      <td>B00005OT9I</td>\n",
       "      <td>2153632</td>\n",
       "      <td>Xhilaration&amp;#174; Silver Dial Bangle Watch</td>\n",
       "      <td>Watches</td>\n",
       "      <td>2</td>\n",
       "      <td>17</td>\n",
       "      <td>17</td>\n",
       "      <td>N</td>\n",
       "      <td>N</td>\n",
       "      <td>Great prize - but size??</td>\n",
       "      <td>It's a great watch - but you don't have a chan...</td>\n",
       "      <td>2001-12-13</td>\n",
       "    </tr>\n",
       "    <tr>\n",
       "      <td>960200</td>\n",
       "      <td>US</td>\n",
       "      <td>44704251</td>\n",
       "      <td>RJ14QPZEOI9P8</td>\n",
       "      <td>B00005QEM6</td>\n",
       "      <td>903687397</td>\n",
       "      <td>Armitron Men's Titanium 3 Eye Sport Analog Chr...</td>\n",
       "      <td>Watches</td>\n",
       "      <td>5</td>\n",
       "      <td>9</td>\n",
       "      <td>10</td>\n",
       "      <td>N</td>\n",
       "      <td>N</td>\n",
       "      <td>A very classy watch!</td>\n",
       "      <td>Well worth the price. This is a light weight, ...</td>\n",
       "      <td>2001-11-08</td>\n",
       "    </tr>\n",
       "    <tr>\n",
       "      <td>960201</td>\n",
       "      <td>US</td>\n",
       "      <td>40571775</td>\n",
       "      <td>R2B1G5650WWFCE</td>\n",
       "      <td>B00005QEME</td>\n",
       "      <td>252821780</td>\n",
       "      <td>Men's Timex Internet Messenger Sport Watch</td>\n",
       "      <td>Watches</td>\n",
       "      <td>5</td>\n",
       "      <td>3</td>\n",
       "      <td>16</td>\n",
       "      <td>N</td>\n",
       "      <td>N</td>\n",
       "      <td>This is a great watch</td>\n",
       "      <td>Dear Targeteers,&lt;BR&gt;This watch is exelent. it ...</td>\n",
       "      <td>2001-11-06</td>\n",
       "    </tr>\n",
       "    <tr>\n",
       "      <td>960202</td>\n",
       "      <td>US</td>\n",
       "      <td>44474855</td>\n",
       "      <td>R2MMGPUWXXOFI2</td>\n",
       "      <td>B00004YK0H</td>\n",
       "      <td>118389241</td>\n",
       "      <td>Energizer 393 Button Cell Battery</td>\n",
       "      <td>Watches</td>\n",
       "      <td>4</td>\n",
       "      <td>0</td>\n",
       "      <td>0</td>\n",
       "      <td>N</td>\n",
       "      <td>N</td>\n",
       "      <td>Now watt a minute here.</td>\n",
       "      <td>In the old days, the common hearing battery in...</td>\n",
       "      <td>2001-04-05</td>\n",
       "    </tr>\n",
       "    <tr>\n",
       "      <td>960203</td>\n",
       "      <td>US</td>\n",
       "      <td>44474855</td>\n",
       "      <td>R2BZMVAERMRUDE</td>\n",
       "      <td>B00004YK0H</td>\n",
       "      <td>118389241</td>\n",
       "      <td>Energizer 393 Button Cell Battery</td>\n",
       "      <td>Watches</td>\n",
       "      <td>4</td>\n",
       "      <td>5</td>\n",
       "      <td>7</td>\n",
       "      <td>N</td>\n",
       "      <td>N</td>\n",
       "      <td>1/10 Watt difference for hearing aids</td>\n",
       "      <td>I have found that a #393 watch battery is the ...</td>\n",
       "      <td>2001-04-05</td>\n",
       "    </tr>\n",
       "  </tbody>\n",
       "</table>\n",
       "<p>960204 rows × 15 columns</p>\n",
       "</div>"
      ],
      "text/plain": [
       "       marketplace  customer_id       review_id  product_id  product_parent  \\\n",
       "0               US      3653882  R3O9SGZBVQBV76  B00FALQ1ZC       937001370   \n",
       "1               US     14661224   RKH8BNC3L5DLF  B00D3RGO20       484010722   \n",
       "2               US     27324930  R2HLE8WKZSU3NL  B00DKYC7TK       361166390   \n",
       "3               US      7211452  R31U3UH5AZ42LL  B000EQS1JW       958035625   \n",
       "4               US     12733322  R2SV659OUJ945Y  B00A6GFD7S       765328221   \n",
       "...            ...          ...             ...         ...             ...   \n",
       "960199          US     39508379   REH8UQZAXQS40  B00005OT9I         2153632   \n",
       "960200          US     44704251   RJ14QPZEOI9P8  B00005QEM6       903687397   \n",
       "960201          US     40571775  R2B1G5650WWFCE  B00005QEME       252821780   \n",
       "960202          US     44474855  R2MMGPUWXXOFI2  B00004YK0H       118389241   \n",
       "960203          US     44474855  R2BZMVAERMRUDE  B00004YK0H       118389241   \n",
       "\n",
       "                                            product_title product_category  \\\n",
       "0       Invicta Women's 15150 \"Angel\" 18k Yellow Gold ...          Watches   \n",
       "1       Kenneth Cole New York Women's KC4944 Automatic...          Watches   \n",
       "2       Ritche 22mm Black Stainless Steel Bracelet Wat...          Watches   \n",
       "3       Citizen Men's BM8180-03E Eco-Drive Stainless S...          Watches   \n",
       "4       Orient ER27009B Men's Symphony Automatic Stain...          Watches   \n",
       "...                                                   ...              ...   \n",
       "960199         Xhilaration&#174; Silver Dial Bangle Watch          Watches   \n",
       "960200  Armitron Men's Titanium 3 Eye Sport Analog Chr...          Watches   \n",
       "960201         Men's Timex Internet Messenger Sport Watch          Watches   \n",
       "960202                  Energizer 393 Button Cell Battery          Watches   \n",
       "960203                  Energizer 393 Button Cell Battery          Watches   \n",
       "\n",
       "        star_rating  helpful_votes  total_votes vine verified_purchase  \\\n",
       "0                 5              0            0    N                 Y   \n",
       "1                 5              0            0    N                 Y   \n",
       "2                 2              1            1    N                 Y   \n",
       "3                 5              0            0    N                 Y   \n",
       "4                 4              0            0    N                 Y   \n",
       "...             ...            ...          ...  ...               ...   \n",
       "960199            2             17           17    N                 N   \n",
       "960200            5              9           10    N                 N   \n",
       "960201            5              3           16    N                 N   \n",
       "960202            4              0            0    N                 N   \n",
       "960203            4              5            7    N                 N   \n",
       "\n",
       "                                   review_headline  \\\n",
       "0                                       Five Stars   \n",
       "1       I love thiswatch it keeps time wonderfully   \n",
       "2                                        Two Stars   \n",
       "3                                       Five Stars   \n",
       "4         Beautiful face, but cheap sounding links   \n",
       "...                                            ...   \n",
       "960199                    Great prize - but size??   \n",
       "960200                        A very classy watch!   \n",
       "960201                       This is a great watch   \n",
       "960202                     Now watt a minute here.   \n",
       "960203       1/10 Watt difference for hearing aids   \n",
       "\n",
       "                                              review_body review_date  \n",
       "0       Absolutely love this watch! Get compliments al...  2015-08-31  \n",
       "1            I love this watch it keeps time wonderfully.  2015-08-31  \n",
       "2                                               Scratches  2015-08-31  \n",
       "3       It works well on me. However, I found cheaper ...  2015-08-31  \n",
       "4       Beautiful watch face.  The band looks nice all...  2015-08-31  \n",
       "...                                                   ...         ...  \n",
       "960199  It's a great watch - but you don't have a chan...  2001-12-13  \n",
       "960200  Well worth the price. This is a light weight, ...  2001-11-08  \n",
       "960201  Dear Targeteers,<BR>This watch is exelent. it ...  2001-11-06  \n",
       "960202  In the old days, the common hearing battery in...  2001-04-05  \n",
       "960203  I have found that a #393 watch battery is the ...  2001-04-05  \n",
       "\n",
       "[960204 rows x 15 columns]"
      ]
     },
     "execution_count": 10,
     "metadata": {},
     "output_type": "execute_result"
    }
   ],
   "source": [
    "# Health & Personal Care Category\n",
    "# df = pd.read_csv('https://s3.amazonaws.com/amazon-reviews-pds/tsv/amazon_reviews_us_Health_Personal_Care_v1_00.tsv.gz', sep='\\t', error_bad_lines=False)\n",
    "\n",
    "# Watches Category\n",
    "df = pd.read_csv('https://s3.amazonaws.com/amazon-reviews-pds/tsv/amazon_reviews_us_Watches_v1_00.tsv.gz', sep='\\t', error_bad_lines=False)\n",
    "df"
   ]
  },
  {
   "cell_type": "code",
   "execution_count": 11,
   "metadata": {},
   "outputs": [
    {
     "name": "stdout",
     "output_type": "stream",
     "text": [
      "<class 'pandas.core.frame.DataFrame'>\n",
      "RangeIndex: 960204 entries, 0 to 960203\n",
      "Data columns (total 15 columns):\n",
      "marketplace          960204 non-null object\n",
      "customer_id          960204 non-null int64\n",
      "review_id            960204 non-null object\n",
      "product_id           960204 non-null object\n",
      "product_parent       960204 non-null int64\n",
      "product_title        960202 non-null object\n",
      "product_category     960204 non-null object\n",
      "star_rating          960204 non-null int64\n",
      "helpful_votes        960204 non-null int64\n",
      "total_votes          960204 non-null int64\n",
      "vine                 960204 non-null object\n",
      "verified_purchase    960204 non-null object\n",
      "review_headline      960197 non-null object\n",
      "review_body          960056 non-null object\n",
      "review_date          960200 non-null object\n",
      "dtypes: int64(5), object(10)\n",
      "memory usage: 109.9+ MB\n"
     ]
    }
   ],
   "source": [
    "df.info()"
   ]
  },
  {
   "cell_type": "code",
   "execution_count": 12,
   "metadata": {},
   "outputs": [],
   "source": [
    "analyzer = SentimentIntensityAnalyzer()"
   ]
  },
  {
   "cell_type": "code",
   "execution_count": 13,
   "metadata": {},
   "outputs": [],
   "source": [
    "# Return dictionary of VADER sentiment scores for given sentence. Keys: 'neg', 'neu', 'pos', 'compound'\n",
    "def sentiment_analyzer_scores(sentence, verbose=False):\n",
    "    score = analyzer.polarity_scores(sentence)\n",
    "    if verbose: print(\"{}\".format(str(score)))\n",
    "    \n",
    "    return score\n",
    "    \n",
    "def sentiment_analyzer_scores_neg(sentence):\n",
    "    return sentiment_analyzer_scores(sentence)['neg']\n",
    "\n",
    "def sentiment_analyzer_scores_neu(sentence):\n",
    "    return sentiment_analyzer_scores(sentence)['neu']\n",
    "\n",
    "def sentiment_analyzer_scores_pos(sentence):\n",
    "    return sentiment_analyzer_scores(sentence)['pos']\n",
    "\n",
    "def sentiment_analyzer_scores_compound(sentence):\n",
    "    return sentiment_analyzer_scores(sentence)['compound']"
   ]
  },
  {
   "cell_type": "code",
   "execution_count": 100,
   "metadata": {},
   "outputs": [
    {
     "name": "stdout",
     "output_type": "stream",
     "text": [
      "<class 'pandas.core.frame.DataFrame'>\n",
      "Int64Index: 20000 entries, 457332 to 572346\n",
      "Data columns (total 20 columns):\n",
      "marketplace          20000 non-null object\n",
      "customer_id          20000 non-null int64\n",
      "review_id            20000 non-null object\n",
      "product_id           20000 non-null object\n",
      "product_parent       20000 non-null int64\n",
      "product_title        20000 non-null object\n",
      "product_category     20000 non-null object\n",
      "star_rating          20000 non-null int64\n",
      "helpful_votes        20000 non-null int64\n",
      "total_votes          20000 non-null int64\n",
      "vine                 20000 non-null object\n",
      "verified_purchase    20000 non-null object\n",
      "review_headline      20000 non-null object\n",
      "review_body          20000 non-null object\n",
      "review_date          20000 non-null object\n",
      "review_fulltext      20000 non-null object\n",
      "neg                  20000 non-null float64\n",
      "neu                  20000 non-null float64\n",
      "pos                  20000 non-null float64\n",
      "compound             20000 non-null float64\n",
      "dtypes: float64(4), int64(5), object(11)\n",
      "memory usage: 3.2+ MB\n"
     ]
    }
   ],
   "source": [
    "df_small = df.sample(n=20000)\n",
    "\n",
    "# Deal with missing values for any of the columns we will be using\n",
    "# df_small['star_rating'] = df_small['star_rating'].astype(int)\n",
    "df_small['review_headline'] = df_small['review_headline'].fillna('.')\n",
    "df_small['review_body'] = df_small['review_body'].fillna('.')\n",
    "df_small['review_fulltext'] = df_small['review_headline'] + '. ' + df_small['review_body']\n",
    "\n",
    "df_small['neg'] = df_small['review_fulltext'].apply(sentiment_analyzer_scores_neg)\n",
    "df_small['neu'] = df_small['review_fulltext'].apply(sentiment_analyzer_scores_neu)\n",
    "df_small['pos'] = df_small['review_fulltext'].apply(sentiment_analyzer_scores_pos)\n",
    "df_small['compound'] = df_small['review_fulltext'].apply(sentiment_analyzer_scores_compound)\n",
    "\n",
    "df_small.info()"
   ]
  },
  {
   "cell_type": "code",
   "execution_count": 142,
   "metadata": {},
   "outputs": [
    {
     "data": {
      "text/plain": [
       "5    11871\n",
       "4     3621\n",
       "1     1743\n",
       "3     1703\n",
       "2     1062\n",
       "Name: star_rating, dtype: int64"
      ]
     },
     "execution_count": 142,
     "metadata": {},
     "output_type": "execute_result"
    }
   ],
   "source": [
    "df_small['star_rating'].value_counts()"
   ]
  },
  {
   "cell_type": "code",
   "execution_count": 103,
   "metadata": {},
   "outputs": [
    {
     "name": "stdout",
     "output_type": "stream",
     "text": [
      "<class 'pandas.core.frame.DataFrame'>\n",
      "Int64Index: 20000 entries, 457332 to 572346\n",
      "Data columns (total 9 columns):\n",
      "customer_id       20000 non-null int64\n",
      "product_parent    20000 non-null int64\n",
      "star_rating       20000 non-null int64\n",
      "helpful_votes     20000 non-null int64\n",
      "total_votes       20000 non-null int64\n",
      "neg               20000 non-null float64\n",
      "neu               20000 non-null float64\n",
      "pos               20000 non-null float64\n",
      "compound          20000 non-null float64\n",
      "dtypes: float64(4), int64(5)\n",
      "memory usage: 1.5 MB\n"
     ]
    },
    {
     "data": {
      "text/html": [
       "<div>\n",
       "<style scoped>\n",
       "    .dataframe tbody tr th:only-of-type {\n",
       "        vertical-align: middle;\n",
       "    }\n",
       "\n",
       "    .dataframe tbody tr th {\n",
       "        vertical-align: top;\n",
       "    }\n",
       "\n",
       "    .dataframe thead th {\n",
       "        text-align: right;\n",
       "    }\n",
       "</style>\n",
       "<table border=\"1\" class=\"dataframe\">\n",
       "  <thead>\n",
       "    <tr style=\"text-align: right;\">\n",
       "      <th></th>\n",
       "      <th>customer_id</th>\n",
       "      <th>product_parent</th>\n",
       "      <th>star_rating</th>\n",
       "      <th>helpful_votes</th>\n",
       "      <th>total_votes</th>\n",
       "      <th>neg</th>\n",
       "      <th>neu</th>\n",
       "      <th>pos</th>\n",
       "      <th>compound</th>\n",
       "    </tr>\n",
       "  </thead>\n",
       "  <tbody>\n",
       "    <tr>\n",
       "      <td>457332</td>\n",
       "      <td>49815900</td>\n",
       "      <td>481655606</td>\n",
       "      <td>5</td>\n",
       "      <td>0</td>\n",
       "      <td>0</td>\n",
       "      <td>0.000</td>\n",
       "      <td>0.542</td>\n",
       "      <td>0.458</td>\n",
       "      <td>0.9451</td>\n",
       "    </tr>\n",
       "    <tr>\n",
       "      <td>434668</td>\n",
       "      <td>37775518</td>\n",
       "      <td>688076877</td>\n",
       "      <td>5</td>\n",
       "      <td>0</td>\n",
       "      <td>0</td>\n",
       "      <td>0.000</td>\n",
       "      <td>1.000</td>\n",
       "      <td>0.000</td>\n",
       "      <td>0.0000</td>\n",
       "    </tr>\n",
       "    <tr>\n",
       "      <td>257077</td>\n",
       "      <td>17515479</td>\n",
       "      <td>118540561</td>\n",
       "      <td>5</td>\n",
       "      <td>0</td>\n",
       "      <td>0</td>\n",
       "      <td>0.000</td>\n",
       "      <td>0.589</td>\n",
       "      <td>0.411</td>\n",
       "      <td>0.6360</td>\n",
       "    </tr>\n",
       "    <tr>\n",
       "      <td>959686</td>\n",
       "      <td>40148190</td>\n",
       "      <td>655235200</td>\n",
       "      <td>5</td>\n",
       "      <td>0</td>\n",
       "      <td>0</td>\n",
       "      <td>0.000</td>\n",
       "      <td>0.667</td>\n",
       "      <td>0.333</td>\n",
       "      <td>0.9775</td>\n",
       "    </tr>\n",
       "    <tr>\n",
       "      <td>476647</td>\n",
       "      <td>15255826</td>\n",
       "      <td>49398577</td>\n",
       "      <td>5</td>\n",
       "      <td>0</td>\n",
       "      <td>0</td>\n",
       "      <td>0.000</td>\n",
       "      <td>0.744</td>\n",
       "      <td>0.256</td>\n",
       "      <td>0.9504</td>\n",
       "    </tr>\n",
       "    <tr>\n",
       "      <td>...</td>\n",
       "      <td>...</td>\n",
       "      <td>...</td>\n",
       "      <td>...</td>\n",
       "      <td>...</td>\n",
       "      <td>...</td>\n",
       "      <td>...</td>\n",
       "      <td>...</td>\n",
       "      <td>...</td>\n",
       "      <td>...</td>\n",
       "    </tr>\n",
       "    <tr>\n",
       "      <td>138878</td>\n",
       "      <td>53093486</td>\n",
       "      <td>911471808</td>\n",
       "      <td>5</td>\n",
       "      <td>0</td>\n",
       "      <td>0</td>\n",
       "      <td>0.121</td>\n",
       "      <td>0.720</td>\n",
       "      <td>0.159</td>\n",
       "      <td>0.3273</td>\n",
       "    </tr>\n",
       "    <tr>\n",
       "      <td>202392</td>\n",
       "      <td>10077685</td>\n",
       "      <td>221647894</td>\n",
       "      <td>1</td>\n",
       "      <td>0</td>\n",
       "      <td>1</td>\n",
       "      <td>0.289</td>\n",
       "      <td>0.410</td>\n",
       "      <td>0.301</td>\n",
       "      <td>0.0232</td>\n",
       "    </tr>\n",
       "    <tr>\n",
       "      <td>539090</td>\n",
       "      <td>36517701</td>\n",
       "      <td>819153640</td>\n",
       "      <td>5</td>\n",
       "      <td>2</td>\n",
       "      <td>2</td>\n",
       "      <td>0.014</td>\n",
       "      <td>0.712</td>\n",
       "      <td>0.273</td>\n",
       "      <td>0.9932</td>\n",
       "    </tr>\n",
       "    <tr>\n",
       "      <td>234147</td>\n",
       "      <td>9951879</td>\n",
       "      <td>345771086</td>\n",
       "      <td>4</td>\n",
       "      <td>0</td>\n",
       "      <td>0</td>\n",
       "      <td>0.055</td>\n",
       "      <td>0.770</td>\n",
       "      <td>0.175</td>\n",
       "      <td>0.9469</td>\n",
       "    </tr>\n",
       "    <tr>\n",
       "      <td>572346</td>\n",
       "      <td>51334579</td>\n",
       "      <td>630099725</td>\n",
       "      <td>1</td>\n",
       "      <td>1</td>\n",
       "      <td>1</td>\n",
       "      <td>0.178</td>\n",
       "      <td>0.708</td>\n",
       "      <td>0.114</td>\n",
       "      <td>-0.4588</td>\n",
       "    </tr>\n",
       "  </tbody>\n",
       "</table>\n",
       "<p>20000 rows × 9 columns</p>\n",
       "</div>"
      ],
      "text/plain": [
       "        customer_id  product_parent  star_rating  helpful_votes  total_votes  \\\n",
       "457332     49815900       481655606            5              0            0   \n",
       "434668     37775518       688076877            5              0            0   \n",
       "257077     17515479       118540561            5              0            0   \n",
       "959686     40148190       655235200            5              0            0   \n",
       "476647     15255826        49398577            5              0            0   \n",
       "...             ...             ...          ...            ...          ...   \n",
       "138878     53093486       911471808            5              0            0   \n",
       "202392     10077685       221647894            1              0            1   \n",
       "539090     36517701       819153640            5              2            2   \n",
       "234147      9951879       345771086            4              0            0   \n",
       "572346     51334579       630099725            1              1            1   \n",
       "\n",
       "          neg    neu    pos  compound  \n",
       "457332  0.000  0.542  0.458    0.9451  \n",
       "434668  0.000  1.000  0.000    0.0000  \n",
       "257077  0.000  0.589  0.411    0.6360  \n",
       "959686  0.000  0.667  0.333    0.9775  \n",
       "476647  0.000  0.744  0.256    0.9504  \n",
       "...       ...    ...    ...       ...  \n",
       "138878  0.121  0.720  0.159    0.3273  \n",
       "202392  0.289  0.410  0.301    0.0232  \n",
       "539090  0.014  0.712  0.273    0.9932  \n",
       "234147  0.055  0.770  0.175    0.9469  \n",
       "572346  0.178  0.708  0.114   -0.4588  \n",
       "\n",
       "[20000 rows x 9 columns]"
      ]
     },
     "execution_count": 103,
     "metadata": {},
     "output_type": "execute_result"
    }
   ],
   "source": [
    "df_numer = df_small.select_dtypes(include='number')\n",
    "df_numer.info()\n",
    "df_numer"
   ]
  },
  {
   "cell_type": "code",
   "execution_count": 143,
   "metadata": {},
   "outputs": [],
   "source": [
    "word_tokenizer = RegexpTokenizer(r'\\w+')\n",
    "df_small['review_wordlist'] = df_small['review_fulltext'].map(lambda x: word_tokenizer.tokenize(x.lower()))"
   ]
  },
  {
   "cell_type": "code",
   "execution_count": 144,
   "metadata": {},
   "outputs": [
    {
     "data": {
      "text/html": [
       "<div>\n",
       "<style scoped>\n",
       "    .dataframe tbody tr th:only-of-type {\n",
       "        vertical-align: middle;\n",
       "    }\n",
       "\n",
       "    .dataframe tbody tr th {\n",
       "        vertical-align: top;\n",
       "    }\n",
       "\n",
       "    .dataframe thead th {\n",
       "        text-align: right;\n",
       "    }\n",
       "</style>\n",
       "<table border=\"1\" class=\"dataframe\">\n",
       "  <thead>\n",
       "    <tr style=\"text-align: right;\">\n",
       "      <th></th>\n",
       "      <th>marketplace</th>\n",
       "      <th>customer_id</th>\n",
       "      <th>review_id</th>\n",
       "      <th>product_id</th>\n",
       "      <th>product_parent</th>\n",
       "      <th>product_title</th>\n",
       "      <th>product_category</th>\n",
       "      <th>star_rating</th>\n",
       "      <th>helpful_votes</th>\n",
       "      <th>total_votes</th>\n",
       "      <th>...</th>\n",
       "      <th>verified_purchase</th>\n",
       "      <th>review_headline</th>\n",
       "      <th>review_body</th>\n",
       "      <th>review_date</th>\n",
       "      <th>review_fulltext</th>\n",
       "      <th>neg</th>\n",
       "      <th>neu</th>\n",
       "      <th>pos</th>\n",
       "      <th>compound</th>\n",
       "      <th>review_wordlist</th>\n",
       "    </tr>\n",
       "  </thead>\n",
       "  <tbody>\n",
       "    <tr>\n",
       "      <td>457332</td>\n",
       "      <td>US</td>\n",
       "      <td>49815900</td>\n",
       "      <td>RVJTRSWKOWD56</td>\n",
       "      <td>B00590XSI2</td>\n",
       "      <td>481655606</td>\n",
       "      <td>DKNY Crystals Mother-of-pearl Dial Women's wat...</td>\n",
       "      <td>Watches</td>\n",
       "      <td>5</td>\n",
       "      <td>0</td>\n",
       "      <td>0</td>\n",
       "      <td>...</td>\n",
       "      <td>N</td>\n",
       "      <td>love it</td>\n",
       "      <td>I love it.  I wear it every day.  The silver i...</td>\n",
       "      <td>2014-06-26</td>\n",
       "      <td>love it. I love it.  I wear it every day.  The...</td>\n",
       "      <td>0.000</td>\n",
       "      <td>0.542</td>\n",
       "      <td>0.458</td>\n",
       "      <td>0.9451</td>\n",
       "      <td>[love, it, i, love, it, i, wear, it, every, da...</td>\n",
       "    </tr>\n",
       "    <tr>\n",
       "      <td>434668</td>\n",
       "      <td>US</td>\n",
       "      <td>37775518</td>\n",
       "      <td>RHXPB767LAIQ0</td>\n",
       "      <td>B000T9VK56</td>\n",
       "      <td>688076877</td>\n",
       "      <td>SE JT6216 21-Piece Watch Repair Kit</td>\n",
       "      <td>Watches</td>\n",
       "      <td>5</td>\n",
       "      <td>0</td>\n",
       "      <td>0</td>\n",
       "      <td>...</td>\n",
       "      <td>Y</td>\n",
       "      <td>I bought this so that I could replace my own ...</td>\n",
       "      <td>I bought this so that I could replace my own b...</td>\n",
       "      <td>2014-07-23</td>\n",
       "      <td>I bought this so that I could replace my own ....</td>\n",
       "      <td>0.000</td>\n",
       "      <td>1.000</td>\n",
       "      <td>0.000</td>\n",
       "      <td>0.0000</td>\n",
       "      <td>[i, bought, this, so, that, i, could, replace,...</td>\n",
       "    </tr>\n",
       "    <tr>\n",
       "      <td>257077</td>\n",
       "      <td>US</td>\n",
       "      <td>17515479</td>\n",
       "      <td>R35FUC607LKY25</td>\n",
       "      <td>B009459OYA</td>\n",
       "      <td>118540561</td>\n",
       "      <td>Camille Women's Chronograph Watch</td>\n",
       "      <td>Watches</td>\n",
       "      <td>5</td>\n",
       "      <td>0</td>\n",
       "      <td>0</td>\n",
       "      <td>...</td>\n",
       "      <td>Y</td>\n",
       "      <td>Five Stars</td>\n",
       "      <td>My son loved this watch!</td>\n",
       "      <td>2015-01-09</td>\n",
       "      <td>Five Stars. My son loved this watch!</td>\n",
       "      <td>0.000</td>\n",
       "      <td>0.589</td>\n",
       "      <td>0.411</td>\n",
       "      <td>0.6360</td>\n",
       "      <td>[five, stars, my, son, loved, this, watch]</td>\n",
       "    </tr>\n",
       "    <tr>\n",
       "      <td>959686</td>\n",
       "      <td>US</td>\n",
       "      <td>40148190</td>\n",
       "      <td>RPSUT1Z8NB9MX</td>\n",
       "      <td>B0002J26JW</td>\n",
       "      <td>655235200</td>\n",
       "      <td>WOMENS FOSSIL BIG TIC OCEAN WAVES WATCH FREE T...</td>\n",
       "      <td>Watches</td>\n",
       "      <td>5</td>\n",
       "      <td>0</td>\n",
       "      <td>0</td>\n",
       "      <td>...</td>\n",
       "      <td>N</td>\n",
       "      <td>This Watch Is So ME!!!</td>\n",
       "      <td>I just got this watch for Christmas and I LOVE...</td>\n",
       "      <td>2004-12-21</td>\n",
       "      <td>This Watch Is So ME!!!. I just got this watch ...</td>\n",
       "      <td>0.000</td>\n",
       "      <td>0.667</td>\n",
       "      <td>0.333</td>\n",
       "      <td>0.9775</td>\n",
       "      <td>[this, watch, is, so, me, i, just, got, this, ...</td>\n",
       "    </tr>\n",
       "    <tr>\n",
       "      <td>476647</td>\n",
       "      <td>US</td>\n",
       "      <td>15255826</td>\n",
       "      <td>R15CWWYSMQDXA9</td>\n",
       "      <td>B00AXUAXCM</td>\n",
       "      <td>49398577</td>\n",
       "      <td>Hello Kitty Large Face Quartz Watch, Black Ban...</td>\n",
       "      <td>Watches</td>\n",
       "      <td>5</td>\n",
       "      <td>0</td>\n",
       "      <td>0</td>\n",
       "      <td>...</td>\n",
       "      <td>Y</td>\n",
       "      <td>Great deal!</td>\n",
       "      <td>This is the second time I have purchased a Hel...</td>\n",
       "      <td>2014-05-22</td>\n",
       "      <td>Great deal!. This is the second time I have pu...</td>\n",
       "      <td>0.000</td>\n",
       "      <td>0.744</td>\n",
       "      <td>0.256</td>\n",
       "      <td>0.9504</td>\n",
       "      <td>[great, deal, this, is, the, second, time, i, ...</td>\n",
       "    </tr>\n",
       "    <tr>\n",
       "      <td>...</td>\n",
       "      <td>...</td>\n",
       "      <td>...</td>\n",
       "      <td>...</td>\n",
       "      <td>...</td>\n",
       "      <td>...</td>\n",
       "      <td>...</td>\n",
       "      <td>...</td>\n",
       "      <td>...</td>\n",
       "      <td>...</td>\n",
       "      <td>...</td>\n",
       "      <td>...</td>\n",
       "      <td>...</td>\n",
       "      <td>...</td>\n",
       "      <td>...</td>\n",
       "      <td>...</td>\n",
       "      <td>...</td>\n",
       "      <td>...</td>\n",
       "      <td>...</td>\n",
       "      <td>...</td>\n",
       "      <td>...</td>\n",
       "      <td>...</td>\n",
       "    </tr>\n",
       "    <tr>\n",
       "      <td>138878</td>\n",
       "      <td>US</td>\n",
       "      <td>53093486</td>\n",
       "      <td>R2AAK1ER06JNEE</td>\n",
       "      <td>B0080GQBTU</td>\n",
       "      <td>911471808</td>\n",
       "      <td>Panasonic CTL1616 Solar Rechargeable CTL 1616 ...</td>\n",
       "      <td>Watches</td>\n",
       "      <td>5</td>\n",
       "      <td>0</td>\n",
       "      <td>0</td>\n",
       "      <td>...</td>\n",
       "      <td>N</td>\n",
       "      <td>... came fully charged and ready for my Casio ...</td>\n",
       "      <td>My CTL1616 cell came fully charged and ready f...</td>\n",
       "      <td>2015-04-19</td>\n",
       "      <td>... came fully charged and ready for my Casio ...</td>\n",
       "      <td>0.121</td>\n",
       "      <td>0.720</td>\n",
       "      <td>0.159</td>\n",
       "      <td>0.3273</td>\n",
       "      <td>[came, fully, charged, and, ready, for, my, ca...</td>\n",
       "    </tr>\n",
       "    <tr>\n",
       "      <td>202392</td>\n",
       "      <td>US</td>\n",
       "      <td>10077685</td>\n",
       "      <td>R3A4RZKIZNIYFK</td>\n",
       "      <td>B001GUKPGC</td>\n",
       "      <td>221647894</td>\n",
       "      <td>Timex Expedition Shock Digital Compass Watch</td>\n",
       "      <td>Watches</td>\n",
       "      <td>1</td>\n",
       "      <td>0</td>\n",
       "      <td>1</td>\n",
       "      <td>...</td>\n",
       "      <td>Y</td>\n",
       "      <td>ok</td>\n",
       "      <td>didn't like the color</td>\n",
       "      <td>2015-02-21</td>\n",
       "      <td>ok. didn't like the color</td>\n",
       "      <td>0.289</td>\n",
       "      <td>0.410</td>\n",
       "      <td>0.301</td>\n",
       "      <td>0.0232</td>\n",
       "      <td>[ok, didn, t, like, the, color]</td>\n",
       "    </tr>\n",
       "    <tr>\n",
       "      <td>539090</td>\n",
       "      <td>US</td>\n",
       "      <td>36517701</td>\n",
       "      <td>R2U8GLTAV09SPO</td>\n",
       "      <td>B003SCNDQU</td>\n",
       "      <td>819153640</td>\n",
       "      <td>Raymond Weil Women's 5799-STS-00995 \"Tango\" Di...</td>\n",
       "      <td>Watches</td>\n",
       "      <td>5</td>\n",
       "      <td>2</td>\n",
       "      <td>2</td>\n",
       "      <td>...</td>\n",
       "      <td>Y</td>\n",
       "      <td>Love my watch!</td>\n",
       "      <td>I was unfamiliar with the name Raymond  Weil b...</td>\n",
       "      <td>2014-02-06</td>\n",
       "      <td>Love my watch!. I was unfamiliar with the name...</td>\n",
       "      <td>0.014</td>\n",
       "      <td>0.712</td>\n",
       "      <td>0.273</td>\n",
       "      <td>0.9932</td>\n",
       "      <td>[love, my, watch, i, was, unfamiliar, with, th...</td>\n",
       "    </tr>\n",
       "    <tr>\n",
       "      <td>234147</td>\n",
       "      <td>US</td>\n",
       "      <td>9951879</td>\n",
       "      <td>R3TLWAKM14LKB</td>\n",
       "      <td>B0058VJWTQ</td>\n",
       "      <td>345771086</td>\n",
       "      <td>Seiko Men's SNK795 Seiko 5 Automatic Stainless...</td>\n",
       "      <td>Watches</td>\n",
       "      <td>4</td>\n",
       "      <td>0</td>\n",
       "      <td>0</td>\n",
       "      <td>...</td>\n",
       "      <td>Y</td>\n",
       "      <td>Great watch for the price</td>\n",
       "      <td>I have only had it for a week or so, but am ha...</td>\n",
       "      <td>2015-01-26</td>\n",
       "      <td>Great watch for the price. I have only had it ...</td>\n",
       "      <td>0.055</td>\n",
       "      <td>0.770</td>\n",
       "      <td>0.175</td>\n",
       "      <td>0.9469</td>\n",
       "      <td>[great, watch, for, the, price, i, have, only,...</td>\n",
       "    </tr>\n",
       "    <tr>\n",
       "      <td>572346</td>\n",
       "      <td>US</td>\n",
       "      <td>51334579</td>\n",
       "      <td>R1W67LPOK228MY</td>\n",
       "      <td>B000UYIWKG</td>\n",
       "      <td>630099725</td>\n",
       "      <td>SE 88 Watch Wrench, Adjustable In Box</td>\n",
       "      <td>Watches</td>\n",
       "      <td>1</td>\n",
       "      <td>1</td>\n",
       "      <td>1</td>\n",
       "      <td>...</td>\n",
       "      <td>Y</td>\n",
       "      <td>waste of time</td>\n",
       "      <td>It's best to take your watch to a jeweler.&lt;br ...</td>\n",
       "      <td>2013-12-24</td>\n",
       "      <td>waste of time. It's best to take your watch to...</td>\n",
       "      <td>0.178</td>\n",
       "      <td>0.708</td>\n",
       "      <td>0.114</td>\n",
       "      <td>-0.4588</td>\n",
       "      <td>[waste, of, time, it, s, best, to, take, your,...</td>\n",
       "    </tr>\n",
       "  </tbody>\n",
       "</table>\n",
       "<p>20000 rows × 21 columns</p>\n",
       "</div>"
      ],
      "text/plain": [
       "       marketplace  customer_id       review_id  product_id  product_parent  \\\n",
       "457332          US     49815900   RVJTRSWKOWD56  B00590XSI2       481655606   \n",
       "434668          US     37775518   RHXPB767LAIQ0  B000T9VK56       688076877   \n",
       "257077          US     17515479  R35FUC607LKY25  B009459OYA       118540561   \n",
       "959686          US     40148190   RPSUT1Z8NB9MX  B0002J26JW       655235200   \n",
       "476647          US     15255826  R15CWWYSMQDXA9  B00AXUAXCM        49398577   \n",
       "...            ...          ...             ...         ...             ...   \n",
       "138878          US     53093486  R2AAK1ER06JNEE  B0080GQBTU       911471808   \n",
       "202392          US     10077685  R3A4RZKIZNIYFK  B001GUKPGC       221647894   \n",
       "539090          US     36517701  R2U8GLTAV09SPO  B003SCNDQU       819153640   \n",
       "234147          US      9951879   R3TLWAKM14LKB  B0058VJWTQ       345771086   \n",
       "572346          US     51334579  R1W67LPOK228MY  B000UYIWKG       630099725   \n",
       "\n",
       "                                            product_title product_category  \\\n",
       "457332  DKNY Crystals Mother-of-pearl Dial Women's wat...          Watches   \n",
       "434668                SE JT6216 21-Piece Watch Repair Kit          Watches   \n",
       "257077                  Camille Women's Chronograph Watch          Watches   \n",
       "959686  WOMENS FOSSIL BIG TIC OCEAN WAVES WATCH FREE T...          Watches   \n",
       "476647  Hello Kitty Large Face Quartz Watch, Black Ban...          Watches   \n",
       "...                                                   ...              ...   \n",
       "138878  Panasonic CTL1616 Solar Rechargeable CTL 1616 ...          Watches   \n",
       "202392       Timex Expedition Shock Digital Compass Watch          Watches   \n",
       "539090  Raymond Weil Women's 5799-STS-00995 \"Tango\" Di...          Watches   \n",
       "234147  Seiko Men's SNK795 Seiko 5 Automatic Stainless...          Watches   \n",
       "572346              SE 88 Watch Wrench, Adjustable In Box          Watches   \n",
       "\n",
       "        star_rating  helpful_votes  total_votes  ... verified_purchase  \\\n",
       "457332            5              0            0  ...                 N   \n",
       "434668            5              0            0  ...                 Y   \n",
       "257077            5              0            0  ...                 Y   \n",
       "959686            5              0            0  ...                 N   \n",
       "476647            5              0            0  ...                 Y   \n",
       "...             ...            ...          ...  ...               ...   \n",
       "138878            5              0            0  ...                 N   \n",
       "202392            1              0            1  ...                 Y   \n",
       "539090            5              2            2  ...                 Y   \n",
       "234147            4              0            0  ...                 Y   \n",
       "572346            1              1            1  ...                 Y   \n",
       "\n",
       "                                          review_headline  \\\n",
       "457332                                            love it   \n",
       "434668   I bought this so that I could replace my own ...   \n",
       "257077                                         Five Stars   \n",
       "959686                             This Watch Is So ME!!!   \n",
       "476647                                        Great deal!   \n",
       "...                                                   ...   \n",
       "138878  ... came fully charged and ready for my Casio ...   \n",
       "202392                                                 ok   \n",
       "539090                                     Love my watch!   \n",
       "234147                          Great watch for the price   \n",
       "572346                                      waste of time   \n",
       "\n",
       "                                              review_body review_date  \\\n",
       "457332  I love it.  I wear it every day.  The silver i...  2014-06-26   \n",
       "434668  I bought this so that I could replace my own b...  2014-07-23   \n",
       "257077                           My son loved this watch!  2015-01-09   \n",
       "959686  I just got this watch for Christmas and I LOVE...  2004-12-21   \n",
       "476647  This is the second time I have purchased a Hel...  2014-05-22   \n",
       "...                                                   ...         ...   \n",
       "138878  My CTL1616 cell came fully charged and ready f...  2015-04-19   \n",
       "202392                              didn't like the color  2015-02-21   \n",
       "539090  I was unfamiliar with the name Raymond  Weil b...  2014-02-06   \n",
       "234147  I have only had it for a week or so, but am ha...  2015-01-26   \n",
       "572346  It's best to take your watch to a jeweler.<br ...  2013-12-24   \n",
       "\n",
       "                                          review_fulltext    neg    neu  \\\n",
       "457332  love it. I love it.  I wear it every day.  The...  0.000  0.542   \n",
       "434668  I bought this so that I could replace my own ....  0.000  1.000   \n",
       "257077               Five Stars. My son loved this watch!  0.000  0.589   \n",
       "959686  This Watch Is So ME!!!. I just got this watch ...  0.000  0.667   \n",
       "476647  Great deal!. This is the second time I have pu...  0.000  0.744   \n",
       "...                                                   ...    ...    ...   \n",
       "138878  ... came fully charged and ready for my Casio ...  0.121  0.720   \n",
       "202392                          ok. didn't like the color  0.289  0.410   \n",
       "539090  Love my watch!. I was unfamiliar with the name...  0.014  0.712   \n",
       "234147  Great watch for the price. I have only had it ...  0.055  0.770   \n",
       "572346  waste of time. It's best to take your watch to...  0.178  0.708   \n",
       "\n",
       "          pos  compound                                    review_wordlist  \n",
       "457332  0.458    0.9451  [love, it, i, love, it, i, wear, it, every, da...  \n",
       "434668  0.000    0.0000  [i, bought, this, so, that, i, could, replace,...  \n",
       "257077  0.411    0.6360         [five, stars, my, son, loved, this, watch]  \n",
       "959686  0.333    0.9775  [this, watch, is, so, me, i, just, got, this, ...  \n",
       "476647  0.256    0.9504  [great, deal, this, is, the, second, time, i, ...  \n",
       "...       ...       ...                                                ...  \n",
       "138878  0.159    0.3273  [came, fully, charged, and, ready, for, my, ca...  \n",
       "202392  0.301    0.0232                    [ok, didn, t, like, the, color]  \n",
       "539090  0.273    0.9932  [love, my, watch, i, was, unfamiliar, with, th...  \n",
       "234147  0.175    0.9469  [great, watch, for, the, price, i, have, only,...  \n",
       "572346  0.114   -0.4588  [waste, of, time, it, s, best, to, take, your,...  \n",
       "\n",
       "[20000 rows x 21 columns]"
      ]
     },
     "execution_count": 144,
     "metadata": {},
     "output_type": "execute_result"
    }
   ],
   "source": [
    "df_small"
   ]
  },
  {
   "cell_type": "code",
   "execution_count": 145,
   "metadata": {},
   "outputs": [],
   "source": [
    "df_small['review_wordlist'] = df_small['review_wordlist'].map(lambda x: ' '.join(x))"
   ]
  },
  {
   "cell_type": "code",
   "execution_count": null,
   "metadata": {},
   "outputs": [],
   "source": []
  },
  {
   "cell_type": "code",
   "execution_count": null,
   "metadata": {},
   "outputs": [],
   "source": []
  },
  {
   "cell_type": "code",
   "execution_count": null,
   "metadata": {},
   "outputs": [],
   "source": []
  },
  {
   "cell_type": "code",
   "execution_count": null,
   "metadata": {},
   "outputs": [],
   "source": []
  },
  {
   "cell_type": "code",
   "execution_count": null,
   "metadata": {},
   "outputs": [],
   "source": []
  },
  {
   "cell_type": "code",
   "execution_count": null,
   "metadata": {},
   "outputs": [],
   "source": []
  },
  {
   "cell_type": "code",
   "execution_count": 146,
   "metadata": {},
   "outputs": [],
   "source": [
    "X = df_small.loc[:, ['helpful_votes', 'total_votes', 'neg', 'neu', 'pos', 'compound', 'review_wordlist']]\n",
    "y = df_small.loc[:, 'star_rating']"
   ]
  },
  {
   "cell_type": "code",
   "execution_count": 147,
   "metadata": {},
   "outputs": [],
   "source": [
    "X_train, X_test, y_train, y_test = train_test_split(X, y, test_size = 0.25)"
   ]
  },
  {
   "cell_type": "code",
   "execution_count": 148,
   "metadata": {},
   "outputs": [],
   "source": [
    "# create our training data list - this is a list of strings, with each string being a review\n",
    "\n",
    "clean_train_data = []\n",
    "\n",
    "for train_data in X_train['review_wordlist']:\n",
    "    clean_train_data.append(train_data)"
   ]
  },
  {
   "cell_type": "code",
   "execution_count": 149,
   "metadata": {},
   "outputs": [],
   "source": [
    "# create test data list\n",
    "\n",
    "clean_test_data = []\n",
    "\n",
    "for test_data in X_test['review_wordlist']:\n",
    "    clean_test_data.append(test_data)"
   ]
  },
  {
   "cell_type": "code",
   "execution_count": 150,
   "metadata": {},
   "outputs": [],
   "source": [
    "# instantiate our CountVectorizer. This counts the number of appearances of all the words in our training data and\n",
    "# eliminates common english stop words. 5000 max features works well for our purposes (tested various numbers). Our\n",
    "# data is already preprocessed and tokenized manually earlier. ngram_range is 1,3, although all or nearly all our \n",
    "# features are single words\n",
    "\n",
    "vectorizer = CountVectorizer(analyzer = \"word\",\n",
    "                             tokenizer = None,\n",
    "                             preprocessor = None,\n",
    "                             stop_words = 'english',\n",
    "                             max_features = 5000,\n",
    "                             ngram_range = (1, 3))"
   ]
  },
  {
   "cell_type": "code",
   "execution_count": 151,
   "metadata": {},
   "outputs": [],
   "source": [
    "# fit our training data and test data lists to our count_vectorizer\n",
    "\n",
    "train_data_features = vectorizer.fit_transform(clean_train_data)\n",
    "\n",
    "test_data_features = vectorizer.transform(clean_test_data)\n",
    "\n",
    "# convert to array\n",
    "\n",
    "train_data_features = train_data_features.toarray()"
   ]
  },
  {
   "cell_type": "code",
   "execution_count": 152,
   "metadata": {},
   "outputs": [
    {
     "data": {
      "text/plain": [
       "((15000, 5000), (5000, 5000))"
      ]
     },
     "execution_count": 152,
     "metadata": {},
     "output_type": "execute_result"
    }
   ],
   "source": [
    "# check shapes\n",
    "\n",
    "train_data_features.shape, test_data_features.shape"
   ]
  },
  {
   "cell_type": "code",
   "execution_count": 156,
   "metadata": {},
   "outputs": [
    {
     "data": {
      "text/plain": [
       "array(['making', 'sized wrist', 'complications', 'really wanted',\n",
       "       'watch white', 'operation', 'nice classy', 'looks works', '15 20',\n",
       "       'penny', 'dial easy read', 'read', 'watch got', 'great features',\n",
       "       'metallic', 'left', 'read watch', 'course', 'goes', 'original box',\n",
       "       'minutes', 'arrive', 'watch set', 'keeps accurate time',\n",
       "       'buy great', 'alert', 'watch need', 'switch', 'ocean',\n",
       "       'unfortunately', 'buy new watch', 'watch lots', 'possible', '000',\n",
       "       'uncomfortable', 'br br quality', 'automatics', 'watch nice',\n",
       "       'ebay', 'como', 'exceptionally', 'stuck', 'watch problem',\n",
       "       'casual', 'explained', 'hacking', 'nice looking', 'chance',\n",
       "       'watch built', 'sealed', 'hole', 'contrast', 'sits', 'larger size',\n",
       "       'watch design', 'reaction', 'fraction', 'continue', 'look really',\n",
       "       'wearing watch', 'girlfriend loves', 'quality excellent',\n",
       "       'nice touch', 'watch use', 'price little', 'nice br',\n",
       "       'watch gorgeous', 'mother pearl face', 'girlfriend',\n",
       "       'watch easily', 'stars great product', 'play', 'buy invicta',\n",
       "       'good looking watch', 'brand new watch', 'buy watch', 'lose',\n",
       "       'comfortable easy read', 'fall apart', 'really likes', 'handle',\n",
       "       'kids', 'yesterday', 'really stands', 'change time', 'disapointed',\n",
       "       'timex', 'invicta watch', 'caught', 'br br bought', 'love timex',\n",
       "       'product watch', 'returning watch', 'casing', 'watch looking',\n",
       "       'watch great deal', 'classy look', 'good job', 'great watch love',\n",
       "       'br watch', '13', 'guess pay', 'silver tone',\n",
       "       'addition collection', 'gift watch', 'watch wore',\n",
       "       'great watch just', 'chose', 'discount', 'shouldn',\n",
       "       'bigger thought', 'depth', 'weight comfortable', 'everyday',\n",
       "       'digital watch', 'time easily', 'worth price', 'task', 'mean',\n",
       "       'far keeps', 'little smaller', 'number', 'watch comfortable',\n",
       "       'know watch', 'manufacturers', 'orange', 'stop', 'web site',\n",
       "       'husband loves watch', 'harder', 'measures', 'br really',\n",
       "       'practical', 'unidirectional', 'watch keeps time', 'purchased',\n",
       "       'match', 'stay away', 'watch quickly', 'skin', 'quite nice',\n",
       "       'brand new watch', 'loving', 'specs', 'does work', 'build',\n",
       "       'excelente', 'dark brown', 'paying', 'owning', 'excellent price',\n",
       "       'reported', 'shirts', 'highly recommend', 'does job',\n",
       "       'good design', 'great price great', 'watch different', 'cheaper',\n",
       "       'got watch', 'direct', 'obvious', 'switch', 'watch good quality',\n",
       "       'pleased purchase', 'starter', 'looks feels', 'forever', 'fix',\n",
       "       '3rd', 'br really', 'watch does', 'knows', 'watch', 'signal',\n",
       "       'thats', 'links removed', 'watch just got', 'think ll',\n",
       "       'br br good', 'love beautiful', 'waveceptor', 'watch reasonable',\n",
       "       'sports', 'time keeper', 'given stars', 'winds', 'reasonably',\n",
       "       'watch stop', 'bluetooth', 'sucks', 'br looks', 'stars just',\n",
       "       'nice watch price', 'watch smaller', 'addition collection',\n",
       "       'price great watch', 'best watch', 'love love', 'whistles'],\n",
       "      dtype='<U28')"
      ]
     },
     "execution_count": 156,
     "metadata": {},
     "output_type": "execute_result"
    }
   ],
   "source": [
    "# I wanted check that the features corpus was as expected - removed print statement for readability\n",
    "\n",
    "vocab = vectorizer.get_feature_names()\n",
    "np.random.choice(vocab, 200)"
   ]
  },
  {
   "cell_type": "code",
   "execution_count": null,
   "metadata": {},
   "outputs": [],
   "source": []
  },
  {
   "cell_type": "code",
   "execution_count": null,
   "metadata": {},
   "outputs": [],
   "source": []
  },
  {
   "cell_type": "code",
   "execution_count": null,
   "metadata": {},
   "outputs": [],
   "source": []
  },
  {
   "cell_type": "code",
   "execution_count": null,
   "metadata": {},
   "outputs": [],
   "source": []
  },
  {
   "cell_type": "code",
   "execution_count": 157,
   "metadata": {},
   "outputs": [
    {
     "data": {
      "text/plain": [
       "5    8881\n",
       "4    2729\n",
       "1    1305\n",
       "3    1300\n",
       "2     785\n",
       "Name: star_rating, dtype: int64"
      ]
     },
     "execution_count": 157,
     "metadata": {},
     "output_type": "execute_result"
    }
   ],
   "source": [
    "y_train.value_counts()"
   ]
  },
  {
   "cell_type": "raw",
   "metadata": {},
   "source": [
    "smote = SMOTE()\n",
    "X_train_numeric = X_train.drop(columns='review_wordlist')\n",
    "X_test_numeric = X_test.drop(columns='review_wordlist')\n",
    "\n",
    "X_train_resampled, y_train_resampled = smote.fit_sample(X_train_numeric, y_train) \n",
    "y_train_resampled.value_counts()"
   ]
  },
  {
   "cell_type": "code",
   "execution_count": 159,
   "metadata": {},
   "outputs": [
    {
     "data": {
      "text/plain": [
       "LogisticRegression(C=1000000000000.0, class_weight=None, dual=False,\n",
       "                   fit_intercept=True, intercept_scaling=1, l1_ratio=None,\n",
       "                   max_iter=100, multi_class='auto', n_jobs=None, penalty='l2',\n",
       "                   random_state=None, solver='liblinear', tol=0.0001, verbose=0,\n",
       "                   warm_start=False)"
      ]
     },
     "execution_count": 159,
     "metadata": {},
     "output_type": "execute_result"
    }
   ],
   "source": [
    "# Test out different classification algorithms\n",
    "# Logistic Regression\n",
    "\n",
    "logreg = LogisticRegression(fit_intercept=True, C=1e12, solver='liblinear', penalty='l2')\n",
    "logreg.fit(X_train_resampled, y_train_resampled)"
   ]
  },
  {
   "cell_type": "code",
   "execution_count": 160,
   "metadata": {},
   "outputs": [],
   "source": [
    "y_hat_test_lr = logreg.predict(X_test_numeric)\n",
    "y_hat_train_lr = logreg.predict(X_train_resampled)"
   ]
  },
  {
   "cell_type": "code",
   "execution_count": 161,
   "metadata": {},
   "outputs": [
    {
     "name": "stdout",
     "output_type": "stream",
     "text": [
      "0    17799\n",
      "1    17189\n",
      "2     6772\n",
      "3     2258\n",
      "4      387\n",
      "Name: star_rating, dtype: int64\n",
      "0    0.400833\n",
      "1    0.387096\n",
      "2    0.152505\n",
      "3    0.050850\n",
      "4    0.008715\n",
      "Name: star_rating, dtype: float64\n"
     ]
    }
   ],
   "source": [
    "# We could subtract the two columns. If values or equal, difference will be zero. Then count number of zeros \n",
    "residuals = np.abs(y_train_resampled - y_hat_train_lr)\n",
    "print(pd.Series(residuals).value_counts())\n",
    "print(pd.Series(residuals).value_counts(normalize=True))"
   ]
  },
  {
   "cell_type": "code",
   "execution_count": 162,
   "metadata": {},
   "outputs": [
    {
     "name": "stdout",
     "output_type": "stream",
     "text": [
      "0    2660\n",
      "1    1510\n",
      "2     479\n",
      "3     278\n",
      "4      73\n",
      "Name: star_rating, dtype: int64\n",
      "0    0.5320\n",
      "1    0.3020\n",
      "2    0.0958\n",
      "3    0.0556\n",
      "4    0.0146\n",
      "Name: star_rating, dtype: float64\n"
     ]
    }
   ],
   "source": [
    "residuals = np.abs(y_test - y_hat_test_lr)\n",
    "print(pd.Series(residuals).value_counts())\n",
    "print(pd.Series(residuals).value_counts(normalize=True))"
   ]
  },
  {
   "cell_type": "code",
   "execution_count": 163,
   "metadata": {},
   "outputs": [
    {
     "name": "stdout",
     "output_type": "stream",
     "text": [
      "              precision    recall  f1-score   support\n",
      "\n",
      "           1       0.45      0.60      0.51      8881\n",
      "           2       0.32      0.22      0.26      8881\n",
      "           3       0.33      0.19      0.24      8881\n",
      "           4       0.33      0.36      0.34      8881\n",
      "           5       0.49      0.64      0.56      8881\n",
      "\n",
      "    accuracy                           0.40     44405\n",
      "   macro avg       0.38      0.40      0.38     44405\n",
      "weighted avg       0.38      0.40      0.38     44405\n",
      "\n"
     ]
    },
    {
     "data": {
      "text/plain": [
       "array([[5298, 1708,  873,  825,  177],\n",
       "       [3824, 1977, 1329, 1312,  439],\n",
       "       [1964, 1374, 1698, 2326, 1519],\n",
       "       [ 478,  697,  896, 3180, 3630],\n",
       "       [ 210,  516,  407, 2102, 5646]])"
      ]
     },
     "execution_count": 163,
     "metadata": {},
     "output_type": "execute_result"
    }
   ],
   "source": [
    "print(classification_report(y_train_resampled, y_hat_train_lr))\n",
    "\n",
    "# Confusion Matrix for training set - Logistic Regression\n",
    "cf_lr = confusion_matrix(y_train_resampled, y_hat_train_lr)\n",
    "cf_lr"
   ]
  },
  {
   "cell_type": "code",
   "execution_count": 164,
   "metadata": {},
   "outputs": [
    {
     "name": "stdout",
     "output_type": "stream",
     "text": [
      "              precision    recall  f1-score   support\n",
      "\n",
      "           1       0.47      0.63      0.54       438\n",
      "           2       0.14      0.23      0.17       277\n",
      "           3       0.16      0.17      0.17       403\n",
      "           4       0.28      0.35      0.31       892\n",
      "           5       0.81      0.65      0.72      2990\n",
      "\n",
      "    accuracy                           0.53      5000\n",
      "   macro avg       0.37      0.41      0.38      5000\n",
      "weighted avg       0.60      0.53      0.56      5000\n",
      "\n"
     ]
    },
    {
     "data": {
      "text/plain": [
       "array([[ 274,   62,   55,   38,    9],\n",
       "       [ 119,   65,   42,   40,   11],\n",
       "       [  78,   81,   70,  101,   73],\n",
       "       [  44,   77,  105,  315,  351],\n",
       "       [  64,  185,  156,  649, 1936]])"
      ]
     },
     "execution_count": 164,
     "metadata": {},
     "output_type": "execute_result"
    }
   ],
   "source": [
    "print(classification_report(y_test, y_hat_test_lr))\n",
    "\n",
    "# Confusion Matrix for training set - Logistic Regression\n",
    "cm_lr = confusion_matrix(y_test, y_hat_test_lr)\n",
    "cm_lr"
   ]
  },
  {
   "cell_type": "code",
   "execution_count": null,
   "metadata": {},
   "outputs": [],
   "source": [
    "plot_confusion_matrix(logreg, X_test, y_test,\n",
    "                                 display_labels=class_names,\n",
    "                                 cmap=plt.cm.Blues,\n",
    "                                 normalize=normalize)\n",
    "    disp.ax_.set_title(title)\n",
    "\n",
    "    print(title)\n",
    "    print(disp.confusion_matrix)"
   ]
  },
  {
   "cell_type": "code",
   "execution_count": null,
   "metadata": {},
   "outputs": [],
   "source": []
  },
  {
   "cell_type": "code",
   "execution_count": 165,
   "metadata": {},
   "outputs": [
    {
     "name": "stderr",
     "output_type": "stream",
     "text": [
      "/Users/megarock/opt/anaconda3/lib/python3.7/site-packages/sklearn/linear_model/_logistic.py:940: ConvergenceWarning: lbfgs failed to converge (status=1):\n",
      "STOP: TOTAL NO. of ITERATIONS REACHED LIMIT.\n",
      "\n",
      "Increase the number of iterations (max_iter) or scale the data as shown in:\n",
      "    https://scikit-learn.org/stable/modules/preprocessing.html\n",
      "Please also refer to the documentation for alternative solver options:\n",
      "    https://scikit-learn.org/stable/modules/linear_model.html#logistic-regression\n",
      "  extra_warning_msg=_LOGISTIC_SOLVER_CONVERGENCE_MSG)\n"
     ]
    },
    {
     "data": {
      "text/plain": [
       "LogisticRegression(C=1.0, class_weight=None, dual=False, fit_intercept=True,\n",
       "                   intercept_scaling=1, l1_ratio=None, max_iter=100,\n",
       "                   multi_class='auto', n_jobs=None, penalty='l2',\n",
       "                   random_state=None, solver='lbfgs', tol=0.0001, verbose=0,\n",
       "                   warm_start=False)"
      ]
     },
     "execution_count": 165,
     "metadata": {},
     "output_type": "execute_result"
    }
   ],
   "source": [
    "# fit logistic regression model\n",
    "\n",
    "lr = LogisticRegression(penalty = 'l2')\n",
    "lr.fit(train_data_features, y_train)"
   ]
  },
  {
   "cell_type": "code",
   "execution_count": 166,
   "metadata": {},
   "outputs": [
    {
     "data": {
      "text/plain": [
       "0.8948"
      ]
     },
     "execution_count": 166,
     "metadata": {},
     "output_type": "execute_result"
    }
   ],
   "source": [
    "lr.score(train_data_features, y_train)"
   ]
  },
  {
   "cell_type": "code",
   "execution_count": 167,
   "metadata": {},
   "outputs": [
    {
     "data": {
      "text/plain": [
       "0.6556"
      ]
     },
     "execution_count": 167,
     "metadata": {},
     "output_type": "execute_result"
    }
   ],
   "source": [
    "lr.score(test_data_features, y_test)"
   ]
  },
  {
   "cell_type": "code",
   "execution_count": null,
   "metadata": {},
   "outputs": [],
   "source": []
  },
  {
   "cell_type": "code",
   "execution_count": null,
   "metadata": {},
   "outputs": [],
   "source": []
  },
  {
   "cell_type": "code",
   "execution_count": 168,
   "metadata": {},
   "outputs": [
    {
     "name": "stdout",
     "output_type": "stream",
     "text": [
      "              precision    recall  f1-score   support\n",
      "\n",
      "           1       0.71      0.89      0.79      8881\n",
      "           2       0.80      0.82      0.81      8881\n",
      "           3       0.77      0.79      0.78      8881\n",
      "           4       0.75      0.74      0.74      8881\n",
      "           5       0.81      0.59      0.68      8881\n",
      "\n",
      "    accuracy                           0.77     44405\n",
      "   macro avg       0.77      0.77      0.76     44405\n",
      "weighted avg       0.77      0.77      0.76     44405\n",
      "\n"
     ]
    },
    {
     "data": {
      "text/plain": [
       "array([[7934,  439,  295,  154,   59],\n",
       "       [1143, 7251,  278,  133,   76],\n",
       "       [ 853,  469, 7000,  318,  241],\n",
       "       [ 487,  417,  591, 6574,  812],\n",
       "       [ 691,  443,  928, 1599, 5220]])"
      ]
     },
     "execution_count": 168,
     "metadata": {},
     "output_type": "execute_result"
    }
   ],
   "source": [
    "# K Nearest Neighbors\n",
    "\n",
    "# Instantiate KNeighborsClassifier\n",
    "clf_knn = KNeighborsClassifier()\n",
    "\n",
    "# Fit the classifier\n",
    "clf_knn.fit(X_train_resampled, y_train_resampled)\n",
    "\n",
    "# Predict on the training set\n",
    "y_hat_knn_train = clf_knn.predict(X_train_resampled)\n",
    "\n",
    "print(classification_report(y_train_resampled, y_hat_knn_train))\n",
    "\n",
    "cm_knn_train = confusion_matrix(y_train_resampled, y_hat_knn_train)\n",
    "cm_knn_train"
   ]
  },
  {
   "cell_type": "code",
   "execution_count": 169,
   "metadata": {},
   "outputs": [
    {
     "name": "stdout",
     "output_type": "stream",
     "text": [
      "              precision    recall  f1-score   support\n",
      "\n",
      "           1       0.26      0.46      0.33       438\n",
      "           2       0.11      0.21      0.15       277\n",
      "           3       0.11      0.21      0.14       403\n",
      "           4       0.22      0.29      0.25       892\n",
      "           5       0.81      0.49      0.61      2990\n",
      "\n",
      "    accuracy                           0.41      5000\n",
      "   macro avg       0.30      0.33      0.30      5000\n",
      "weighted avg       0.56      0.41      0.46      5000\n",
      "\n"
     ]
    },
    {
     "data": {
      "text/plain": [
       "array([[ 200,   97,   81,   43,   17],\n",
       "       [ 106,   58,   60,   40,   13],\n",
       "       [ 100,   68,   84,   94,   57],\n",
       "       [ 113,  102,  164,  257,  256],\n",
       "       [ 247,  181,  387,  723, 1452]])"
      ]
     },
     "execution_count": 169,
     "metadata": {},
     "output_type": "execute_result"
    }
   ],
   "source": [
    "y_hat_knn_test = clf_knn.predict(X_test_numeric)\n",
    "\n",
    "print(classification_report(y_test, y_hat_knn_test))\n",
    "\n",
    "cm_knn_test = confusion_matrix(y_test, y_hat_knn_test)\n",
    "cm_knn_test"
   ]
  },
  {
   "cell_type": "code",
   "execution_count": 170,
   "metadata": {},
   "outputs": [],
   "source": [
    "# Improve model performance by finding the best value for K"
   ]
  },
  {
   "cell_type": "code",
   "execution_count": null,
   "metadata": {},
   "outputs": [],
   "source": []
  },
  {
   "cell_type": "code",
   "execution_count": null,
   "metadata": {},
   "outputs": [],
   "source": [
    "clf_knn2 = KNeighborsClassifier()\n",
    "\n",
    "# Fit the classifier\n",
    "clf_knn2.fit(train_data_features, y_train)\n",
    "\n",
    "# Predict on the training set\n",
    "y_hat_knn2 = clf_knn2.predict(train_data_features)\n",
    "\n",
    "print(classification_report(y_train, y_hat_knn2))\n",
    "\n",
    "cm_knn2 = confusion_matrix(y_train, y_hat_knn2)\n",
    "cm_knn2"
   ]
  },
  {
   "cell_type": "code",
   "execution_count": null,
   "metadata": {},
   "outputs": [],
   "source": []
  },
  {
   "cell_type": "code",
   "execution_count": null,
   "metadata": {},
   "outputs": [],
   "source": []
  },
  {
   "cell_type": "code",
   "execution_count": null,
   "metadata": {},
   "outputs": [],
   "source": []
  },
  {
   "cell_type": "code",
   "execution_count": null,
   "metadata": {},
   "outputs": [],
   "source": []
  },
  {
   "cell_type": "code",
   "execution_count": null,
   "metadata": {},
   "outputs": [],
   "source": []
  },
  {
   "cell_type": "code",
   "execution_count": null,
   "metadata": {},
   "outputs": [],
   "source": []
  },
  {
   "cell_type": "code",
   "execution_count": 121,
   "metadata": {},
   "outputs": [
    {
     "data": {
      "text/plain": [
       "array([[8373,  506,    1,    0,    2],\n",
       "       [  15, 8858,    1,    4,    4],\n",
       "       [  25,  511, 8270,   19,   57],\n",
       "       [  10,  259,   40, 8405,  168],\n",
       "       [  24,  366,   49,  151, 8292]])"
      ]
     },
     "execution_count": 121,
     "metadata": {},
     "output_type": "execute_result"
    }
   ],
   "source": [
    "# Decision Trees\n",
    "\n",
    "clf_dt = DecisionTreeClassifier(criterion='entropy')\n",
    "\n",
    "clf_dt.fit(X_train_resampled, y_train_resampled)\n",
    "\n",
    "# Predict on the training set\n",
    "y_hat_dt_train = clf_dt.predict(X_train_resampled)\n",
    "\n",
    "cm_dt_train = confusion_matrix(y_train_resampled, y_hat_dt_train)\n",
    "cm_dt_train"
   ]
  },
  {
   "cell_type": "code",
   "execution_count": 122,
   "metadata": {},
   "outputs": [
    {
     "name": "stdout",
     "output_type": "stream",
     "text": [
      "              precision    recall  f1-score   support\n",
      "\n",
      "           1       0.99      0.94      0.97      8882\n",
      "           2       0.84      1.00      0.91      8882\n",
      "           3       0.99      0.93      0.96      8882\n",
      "           4       0.98      0.95      0.96      8882\n",
      "           5       0.97      0.93      0.95      8882\n",
      "\n",
      "    accuracy                           0.95     44410\n",
      "   macro avg       0.96      0.95      0.95     44410\n",
      "weighted avg       0.96      0.95      0.95     44410\n",
      "\n"
     ]
    }
   ],
   "source": [
    "print(classification_report(y_train_resampled, y_hat_dt_train))"
   ]
  },
  {
   "cell_type": "code",
   "execution_count": 123,
   "metadata": {},
   "outputs": [
    {
     "name": "stdout",
     "output_type": "stream",
     "text": [
      "              precision    recall  f1-score   support\n",
      "\n",
      "           1       0.31      0.35      0.33       434\n",
      "           2       0.12      0.28      0.17       261\n",
      "           3       0.11      0.16      0.13       435\n",
      "           4       0.21      0.25      0.23       881\n",
      "           5       0.75      0.55      0.64      2989\n",
      "\n",
      "    accuracy                           0.43      5000\n",
      "   macro avg       0.30      0.32      0.30      5000\n",
      "weighted avg       0.53      0.43      0.47      5000\n",
      "\n"
     ]
    },
    {
     "data": {
      "text/plain": [
       "array([[ 152,  125,   75,   43,   39],\n",
       "       [  66,   74,   51,   30,   40],\n",
       "       [  84,   80,   71,   98,  102],\n",
       "       [  72,   94,  137,  221,  357],\n",
       "       [ 112,  234,  317,  673, 1653]])"
      ]
     },
     "execution_count": 123,
     "metadata": {},
     "output_type": "execute_result"
    }
   ],
   "source": [
    "y_hat_dt_test = clf_dt.predict(X_test_numeric)\n",
    "\n",
    "print(classification_report(y_test, y_hat_dt_test))\n",
    "\n",
    "cm_dt_test = confusion_matrix(y_test, y_hat_dt_test)\n",
    "cm_dt_test"
   ]
  },
  {
   "cell_type": "code",
   "execution_count": 133,
   "metadata": {},
   "outputs": [
    {
     "name": "stdout",
     "output_type": "stream",
     "text": [
      "              precision    recall  f1-score   support\n",
      "\n",
      "           1       1.00      1.00      1.00      1412\n",
      "           2       0.99      0.98      0.98       787\n",
      "           3       0.99      0.94      0.97      1163\n",
      "           4       0.98      0.89      0.93      2521\n",
      "           5       0.96      1.00      0.98      9117\n",
      "\n",
      "    accuracy                           0.97     15000\n",
      "   macro avg       0.98      0.96      0.97     15000\n",
      "weighted avg       0.97      0.97      0.97     15000\n",
      "\n"
     ]
    },
    {
     "data": {
      "text/plain": [
       "array([[1412,    0,    0,    0,    0],\n",
       "       [   0,  773,    2,    1,   11],\n",
       "       [   0,    8, 1095,    5,   55],\n",
       "       [   0,    3,    3, 2234,  281],\n",
       "       [   0,    0,    5,   39, 9073]])"
      ]
     },
     "execution_count": 133,
     "metadata": {},
     "output_type": "execute_result"
    }
   ],
   "source": [
    "clf_dt2 = DecisionTreeClassifier(criterion='entropy')\n",
    "\n",
    "# Fit the classifier\n",
    "clf_dt2.fit(train_data_features, y_train)\n",
    "\n",
    "# Predict on the training set\n",
    "y_hat_dt2 = clf_dt2.predict(train_data_features)\n",
    "\n",
    "print(classification_report(y_train, y_hat_dt2))\n",
    "\n",
    "cm_dt2 = confusion_matrix(y_train, y_hat_dt2)\n",
    "cm_dt2"
   ]
  },
  {
   "cell_type": "code",
   "execution_count": null,
   "metadata": {},
   "outputs": [],
   "source": []
  },
  {
   "cell_type": "code",
   "execution_count": 124,
   "metadata": {},
   "outputs": [
    {
     "data": {
      "text/plain": [
       "0.5003827966674173"
      ]
     },
     "execution_count": 124,
     "metadata": {},
     "output_type": "execute_result"
    }
   ],
   "source": [
    "# Bagged Trees\n",
    "\n",
    "# Instantiate a BaggingClassifier\n",
    "bagged_tree =  BaggingClassifier(DecisionTreeClassifier(criterion='gini', max_leaf_nodes=100), \n",
    "                                 n_estimators=20)\n",
    "\n",
    "# Fit to the training data\n",
    "bagged_tree.fit(X_train_resampled, y_train_resampled)\n",
    "\n",
    "bagged_tree.score(X_train_resampled, y_train_resampled)"
   ]
  },
  {
   "cell_type": "code",
   "execution_count": 125,
   "metadata": {},
   "outputs": [
    {
     "data": {
      "text/plain": [
       "0.4966"
      ]
     },
     "execution_count": 125,
     "metadata": {},
     "output_type": "execute_result"
    }
   ],
   "source": [
    "bagged_tree.score(X_test_numeric, y_test)"
   ]
  },
  {
   "cell_type": "code",
   "execution_count": 126,
   "metadata": {},
   "outputs": [
    {
     "data": {
      "text/plain": [
       "array([[5706, 1816,  810,  463,   87],\n",
       "       [2096, 4922,  905,  728,  231],\n",
       "       [1439, 1736, 3183, 1661,  863],\n",
       "       [ 458, 1092, 1271, 2943, 3118],\n",
       "       [ 273,  670,  762, 1709, 5468]])"
      ]
     },
     "execution_count": 126,
     "metadata": {},
     "output_type": "execute_result"
    }
   ],
   "source": [
    "y_hat_bagged_train = bagged_tree.predict(X_train_resampled)\n",
    "\n",
    "cm_bagged_train = confusion_matrix(y_train_resampled, y_hat_bagged_train)\n",
    "cm_bagged_train"
   ]
  },
  {
   "cell_type": "code",
   "execution_count": 127,
   "metadata": {},
   "outputs": [
    {
     "name": "stdout",
     "output_type": "stream",
     "text": [
      "              precision    recall  f1-score   support\n",
      "\n",
      "           1       0.57      0.64      0.61      8882\n",
      "           2       0.48      0.55      0.51      8882\n",
      "           3       0.46      0.36      0.40      8882\n",
      "           4       0.39      0.33      0.36      8882\n",
      "           5       0.56      0.62      0.59      8882\n",
      "\n",
      "    accuracy                           0.50     44410\n",
      "   macro avg       0.49      0.50      0.49     44410\n",
      "weighted avg       0.49      0.50      0.49     44410\n",
      "\n"
     ]
    }
   ],
   "source": [
    "print(classification_report(y_train_resampled, y_hat_bagged_train))"
   ]
  },
  {
   "cell_type": "code",
   "execution_count": 128,
   "metadata": {},
   "outputs": [
    {
     "name": "stdout",
     "output_type": "stream",
     "text": [
      "              precision    recall  f1-score   support\n",
      "\n",
      "           1       0.43      0.54      0.48       434\n",
      "           2       0.14      0.34      0.20       261\n",
      "           3       0.17      0.22      0.19       435\n",
      "           4       0.24      0.27      0.25       881\n",
      "           5       0.81      0.61      0.70      2989\n",
      "\n",
      "    accuracy                           0.50      5000\n",
      "   macro avg       0.36      0.40      0.36      5000\n",
      "weighted avg       0.58      0.50      0.53      5000\n",
      "\n"
     ]
    },
    {
     "data": {
      "text/plain": [
       "array([[ 234,  119,   42,   29,   10],\n",
       "       [  84,   90,   48,   31,    8],\n",
       "       [  79,  104,   94,   83,   75],\n",
       "       [  56,   99,  146,  238,  342],\n",
       "       [  89,  214,  233,  626, 1827]])"
      ]
     },
     "execution_count": 128,
     "metadata": {},
     "output_type": "execute_result"
    }
   ],
   "source": [
    "y_hat_bagged_test = bagged_tree.predict(X_test_numeric)\n",
    "\n",
    "print(classification_report(y_test, y_hat_bagged_test))\n",
    "\n",
    "cm_bagged_test = confusion_matrix(y_test, y_hat_bagged_test)\n",
    "cm_bagged_test"
   ]
  },
  {
   "cell_type": "code",
   "execution_count": null,
   "metadata": {},
   "outputs": [],
   "source": []
  },
  {
   "cell_type": "code",
   "execution_count": 129,
   "metadata": {},
   "outputs": [],
   "source": [
    "# Random Forest"
   ]
  },
  {
   "cell_type": "code",
   "execution_count": 130,
   "metadata": {},
   "outputs": [
    {
     "data": {
      "text/plain": [
       "0.6050439090294979"
      ]
     },
     "execution_count": 130,
     "metadata": {},
     "output_type": "execute_result"
    }
   ],
   "source": [
    "# Instantiate and fit a RandomForestClassifier\n",
    "forest = RandomForestClassifier(n_estimators=100, max_depth = 10)\n",
    "forest.fit(X_train_resampled, y_train_resampled)\n",
    "forest.score(X_train_resampled, y_train_resampled)"
   ]
  },
  {
   "cell_type": "code",
   "execution_count": 131,
   "metadata": {},
   "outputs": [
    {
     "data": {
      "text/plain": [
       "array([[6188, 1600,  620,  391,   83],\n",
       "       [1372, 6058,  628,  626,  198],\n",
       "       [1054, 1576, 4498, 1036,  718],\n",
       "       [ 396,  971,  917, 4212, 2386],\n",
       "       [ 257,  632,  681, 1398, 5914]])"
      ]
     },
     "execution_count": 131,
     "metadata": {},
     "output_type": "execute_result"
    }
   ],
   "source": [
    "y_hat_forest = forest.predict(X_train_resampled)\n",
    "\n",
    "cm_forest = confusion_matrix(y_train_resampled, y_hat_forest)\n",
    "cm_forest"
   ]
  },
  {
   "cell_type": "code",
   "execution_count": 132,
   "metadata": {},
   "outputs": [
    {
     "name": "stdout",
     "output_type": "stream",
     "text": [
      "              precision    recall  f1-score   support\n",
      "\n",
      "           1       0.67      0.70      0.68      8882\n",
      "           2       0.56      0.68      0.61      8882\n",
      "           3       0.61      0.51      0.55      8882\n",
      "           4       0.55      0.47      0.51      8882\n",
      "           5       0.64      0.67      0.65      8882\n",
      "\n",
      "    accuracy                           0.61     44410\n",
      "   macro avg       0.60      0.61      0.60     44410\n",
      "weighted avg       0.60      0.61      0.60     44410\n",
      "\n"
     ]
    }
   ],
   "source": [
    "print(classification_report(y_train_resampled, y_hat_forest))"
   ]
  },
  {
   "cell_type": "code",
   "execution_count": 133,
   "metadata": {},
   "outputs": [
    {
     "name": "stdout",
     "output_type": "stream",
     "text": [
      "              precision    recall  f1-score   support\n",
      "\n",
      "           1       0.44      0.53      0.48       434\n",
      "           2       0.16      0.37      0.22       261\n",
      "           3       0.17      0.23      0.19       435\n",
      "           4       0.25      0.28      0.26       881\n",
      "           5       0.81      0.62      0.70      2989\n",
      "\n",
      "    accuracy                           0.50      5000\n",
      "   macro avg       0.36      0.40      0.37      5000\n",
      "weighted avg       0.59      0.50      0.53      5000\n",
      "\n"
     ]
    },
    {
     "data": {
      "text/plain": [
       "array([[ 228,  122,   44,   29,   11],\n",
       "       [  71,   97,   55,   28,   10],\n",
       "       [  78,   99,  100,   82,   76],\n",
       "       [  57,   94,  140,  243,  347],\n",
       "       [  88,  198,  257,  595, 1851]])"
      ]
     },
     "execution_count": 133,
     "metadata": {},
     "output_type": "execute_result"
    }
   ],
   "source": [
    "y_hat_forest_test = forest.predict(X_test_numeric)\n",
    "\n",
    "print(classification_report(y_test, y_hat_forest_test))\n",
    "\n",
    "cm_forest_test = confusion_matrix(y_test, y_hat_forest_test)\n",
    "cm_forest_test"
   ]
  },
  {
   "cell_type": "code",
   "execution_count": null,
   "metadata": {},
   "outputs": [],
   "source": []
  },
  {
   "cell_type": "code",
   "execution_count": null,
   "metadata": {},
   "outputs": [],
   "source": []
  },
  {
   "cell_type": "code",
   "execution_count": null,
   "metadata": {},
   "outputs": [],
   "source": []
  },
  {
   "cell_type": "code",
   "execution_count": null,
   "metadata": {},
   "outputs": [],
   "source": []
  },
  {
   "cell_type": "code",
   "execution_count": 117,
   "metadata": {},
   "outputs": [],
   "source": [
    "# Grid Search / Random Search to find optimal parameters"
   ]
  },
  {
   "cell_type": "code",
   "execution_count": null,
   "metadata": {},
   "outputs": [],
   "source": []
  },
  {
   "cell_type": "code",
   "execution_count": null,
   "metadata": {},
   "outputs": [],
   "source": []
  },
  {
   "cell_type": "code",
   "execution_count": 118,
   "metadata": {},
   "outputs": [],
   "source": [
    "# SVM / Linear SVC"
   ]
  },
  {
   "cell_type": "code",
   "execution_count": 96,
   "metadata": {},
   "outputs": [],
   "source": [
    "# clf_svc = SVC(kernel='linear')\n",
    "# clf_svc.fit(X_train_resampled, y_train_resampled)\n",
    "\n",
    "# # Predict on the training set\n",
    "# y_hat_svc = clf_svc.predict(X_train_resampled)\n",
    "\n",
    "# print(classification_report(y_train_resampled, y_hat_svc))\n",
    "\n",
    "# cm_svc = confusion_matrix(y_train_resampled, y_hat_svc)\n",
    "# cm_svc\n"
   ]
  },
  {
   "cell_type": "code",
   "execution_count": null,
   "metadata": {},
   "outputs": [],
   "source": []
  },
  {
   "cell_type": "code",
   "execution_count": null,
   "metadata": {},
   "outputs": [],
   "source": []
  },
  {
   "cell_type": "code",
   "execution_count": null,
   "metadata": {},
   "outputs": [],
   "source": []
  },
  {
   "cell_type": "code",
   "execution_count": null,
   "metadata": {},
   "outputs": [],
   "source": []
  },
  {
   "cell_type": "code",
   "execution_count": null,
   "metadata": {},
   "outputs": [],
   "source": []
  },
  {
   "cell_type": "code",
   "execution_count": 121,
   "metadata": {},
   "outputs": [],
   "source": [
    "# Ensemble Classifiers"
   ]
  },
  {
   "cell_type": "code",
   "execution_count": 134,
   "metadata": {},
   "outputs": [
    {
     "data": {
      "text/plain": [
       "0.4098626435487503"
      ]
     },
     "execution_count": 134,
     "metadata": {},
     "output_type": "execute_result"
    }
   ],
   "source": [
    "# Adaboost\n",
    "# Instantiate an AdaBoostClassifier\n",
    "clf_ab = AdaBoostClassifier()\n",
    "\n",
    "clf_ab.fit(X_train_resampled, y_train_resampled)\n",
    "clf_ab.score(X_train_resampled, y_train_resampled)"
   ]
  },
  {
   "cell_type": "code",
   "execution_count": 135,
   "metadata": {},
   "outputs": [
    {
     "data": {
      "text/plain": [
       "array([[5028, 2195, 1166,  433,   60],\n",
       "       [3495, 2743, 1547,  877,  220],\n",
       "       [1725, 1957, 2154, 1951, 1095],\n",
       "       [ 541,  795, 1472, 2809, 3265],\n",
       "       [ 239,  534,  738, 1903, 5468]])"
      ]
     },
     "execution_count": 135,
     "metadata": {},
     "output_type": "execute_result"
    }
   ],
   "source": [
    "y_hat_ab_train = clf_ab.predict(X_train_resampled)\n",
    "\n",
    "cm_ab_train = confusion_matrix(y_train_resampled, y_hat_ab_train)\n",
    "cm_ab_train"
   ]
  },
  {
   "cell_type": "code",
   "execution_count": 136,
   "metadata": {},
   "outputs": [
    {
     "name": "stdout",
     "output_type": "stream",
     "text": [
      "              precision    recall  f1-score   support\n",
      "\n",
      "           1       0.46      0.57      0.51      8882\n",
      "           2       0.33      0.31      0.32      8882\n",
      "           3       0.30      0.24      0.27      8882\n",
      "           4       0.35      0.32      0.33      8882\n",
      "           5       0.54      0.62      0.58      8882\n",
      "\n",
      "    accuracy                           0.41     44410\n",
      "   macro avg       0.40      0.41      0.40     44410\n",
      "weighted avg       0.40      0.41      0.40     44410\n",
      "\n"
     ]
    }
   ],
   "source": [
    "print(classification_report(y_train_resampled, y_hat_ab_train))"
   ]
  },
  {
   "cell_type": "code",
   "execution_count": 137,
   "metadata": {},
   "outputs": [
    {
     "name": "stdout",
     "output_type": "stream",
     "text": [
      "              precision    recall  f1-score   support\n",
      "\n",
      "           1       0.43      0.52      0.47       434\n",
      "           2       0.16      0.31      0.21       261\n",
      "           3       0.16      0.23      0.19       435\n",
      "           4       0.24      0.29      0.26       881\n",
      "           5       0.81      0.62      0.70      2989\n",
      "\n",
      "    accuracy                           0.50      5000\n",
      "   macro avg       0.36      0.39      0.37      5000\n",
      "weighted avg       0.58      0.50      0.53      5000\n",
      "\n"
     ]
    },
    {
     "data": {
      "text/plain": [
       "array([[ 227,  116,   51,   35,    5],\n",
       "       [  84,   81,   59,   25,   12],\n",
       "       [  82,   81,  101,   98,   73],\n",
       "       [  54,   79,  146,  253,  349],\n",
       "       [  83,  149,  258,  654, 1845]])"
      ]
     },
     "execution_count": 137,
     "metadata": {},
     "output_type": "execute_result"
    }
   ],
   "source": [
    "y_hat_ab_test = clf_ab.predict(X_test_numeric)\n",
    "\n",
    "print(classification_report(y_test, y_hat_ab_test))\n",
    "\n",
    "cm_ab_test = confusion_matrix(y_test, y_hat_ab_test)\n",
    "cm_ab_test"
   ]
  },
  {
   "cell_type": "code",
   "execution_count": null,
   "metadata": {},
   "outputs": [],
   "source": []
  },
  {
   "cell_type": "code",
   "execution_count": null,
   "metadata": {},
   "outputs": [],
   "source": []
  },
  {
   "cell_type": "code",
   "execution_count": 138,
   "metadata": {},
   "outputs": [
    {
     "data": {
      "text/plain": [
       "0.4839450574195001"
      ]
     },
     "execution_count": 138,
     "metadata": {},
     "output_type": "execute_result"
    }
   ],
   "source": [
    "# Instantiate an GradientBoostingClassifier\n",
    "clf_gb = GradientBoostingClassifier()\n",
    "\n",
    "clf_gb.fit(X_train_resampled, y_train_resampled)\n",
    "clf_gb.score(X_train_resampled, y_train_resampled)"
   ]
  },
  {
   "cell_type": "code",
   "execution_count": 139,
   "metadata": {},
   "outputs": [
    {
     "data": {
      "text/plain": [
       "array([[5145, 2113, 1120,  399,  105],\n",
       "       [2073, 4454, 1361,  753,  241],\n",
       "       [1237, 1983, 3049, 1713,  900],\n",
       "       [ 410,  957, 1414, 3197, 2904],\n",
       "       [ 228,  616,  761, 1630, 5647]])"
      ]
     },
     "execution_count": 139,
     "metadata": {},
     "output_type": "execute_result"
    }
   ],
   "source": [
    "y_hat_gb_train = clf_gb.predict(X_train_resampled)\n",
    "\n",
    "cm_gb_train = confusion_matrix(y_train_resampled, y_hat_gb_train)\n",
    "cm_gb_train"
   ]
  },
  {
   "cell_type": "code",
   "execution_count": 140,
   "metadata": {},
   "outputs": [
    {
     "name": "stdout",
     "output_type": "stream",
     "text": [
      "              precision    recall  f1-score   support\n",
      "\n",
      "           1       0.57      0.58      0.57      8882\n",
      "           2       0.44      0.50      0.47      8882\n",
      "           3       0.40      0.34      0.37      8882\n",
      "           4       0.42      0.36      0.39      8882\n",
      "           5       0.58      0.64      0.60      8882\n",
      "\n",
      "    accuracy                           0.48     44410\n",
      "   macro avg       0.48      0.48      0.48     44410\n",
      "weighted avg       0.48      0.48      0.48     44410\n",
      "\n"
     ]
    }
   ],
   "source": [
    "print(classification_report(y_train_resampled, y_hat_gb_train))"
   ]
  },
  {
   "cell_type": "code",
   "execution_count": 141,
   "metadata": {},
   "outputs": [
    {
     "name": "stdout",
     "output_type": "stream",
     "text": [
      "              precision    recall  f1-score   support\n",
      "\n",
      "           1       0.45      0.51      0.48       434\n",
      "           2       0.16      0.34      0.22       261\n",
      "           3       0.17      0.25      0.20       435\n",
      "           4       0.25      0.27      0.26       881\n",
      "           5       0.80      0.62      0.70      2989\n",
      "\n",
      "    accuracy                           0.50      5000\n",
      "   macro avg       0.36      0.40      0.37      5000\n",
      "weighted avg       0.58      0.50      0.54      5000\n",
      "\n"
     ]
    },
    {
     "data": {
      "text/plain": [
       "array([[ 223,  118,   54,   29,   10],\n",
       "       [  76,   89,   62,   23,   11],\n",
       "       [  74,   94,  108,   75,   84],\n",
       "       [  41,   84,  166,  237,  353],\n",
       "       [  84,  181,  257,  601, 1866]])"
      ]
     },
     "execution_count": 141,
     "metadata": {},
     "output_type": "execute_result"
    }
   ],
   "source": [
    "y_hat_gb_test = clf_gb.predict(X_test_numeric)\n",
    "\n",
    "print(classification_report(y_test, y_hat_gb_test))\n",
    "\n",
    "cm_gb_test = confusion_matrix(y_test, y_hat_gb_test)\n",
    "cm_gb_test"
   ]
  },
  {
   "cell_type": "code",
   "execution_count": null,
   "metadata": {},
   "outputs": [],
   "source": []
  },
  {
   "cell_type": "code",
   "execution_count": null,
   "metadata": {},
   "outputs": [],
   "source": []
  },
  {
   "cell_type": "code",
   "execution_count": null,
   "metadata": {},
   "outputs": [],
   "source": []
  },
  {
   "cell_type": "code",
   "execution_count": null,
   "metadata": {},
   "outputs": [],
   "source": []
  },
  {
   "cell_type": "code",
   "execution_count": null,
   "metadata": {},
   "outputs": [],
   "source": []
  },
  {
   "cell_type": "code",
   "execution_count": null,
   "metadata": {},
   "outputs": [],
   "source": []
  },
  {
   "cell_type": "code",
   "execution_count": null,
   "metadata": {},
   "outputs": [],
   "source": []
  },
  {
   "cell_type": "code",
   "execution_count": null,
   "metadata": {},
   "outputs": [],
   "source": []
  },
  {
   "cell_type": "code",
   "execution_count": null,
   "metadata": {},
   "outputs": [],
   "source": []
  },
  {
   "cell_type": "code",
   "execution_count": null,
   "metadata": {},
   "outputs": [],
   "source": []
  },
  {
   "cell_type": "code",
   "execution_count": null,
   "metadata": {},
   "outputs": [],
   "source": []
  },
  {
   "cell_type": "code",
   "execution_count": 52,
   "metadata": {},
   "outputs": [
    {
     "name": "stdout",
     "output_type": "stream",
     "text": [
      "2 59486.25585177998\n",
      "3 77674.18325588538\n",
      "4 96384.21852818847\n",
      "5 114546.82979016086\n",
      "6 127600.80444243301\n",
      "7 141010.59498579273\n",
      "8 150682.09351094894\n",
      "9 161561.0248727341\n",
      "10 166964.61084244298\n",
      "11 172383.19385670617\n",
      "12 179948.81991115178\n",
      "13 182327.44955418463\n",
      "14 185306.0671946048\n",
      "15 187196.97618489747\n",
      "16 187075.00888801456\n",
      "17 186023.28848008186\n",
      "18 185515.0192828231\n",
      "19 184560.6592451715\n",
      "20 182653.62410723022\n",
      "21 177354.84392849842\n",
      "22 175636.95905210843\n",
      "23 172503.3659090606\n",
      "24 170951.62031425143\n",
      "25 169277.9078372501\n",
      "26 167893.9965466513\n",
      "27 166426.02562539277\n",
      "28 163768.2050005787\n",
      "29 164446.90279474566\n",
      "30 163345.56115803414\n",
      "31 163941.37842270927\n",
      "32 161616.26932644393\n",
      "33 162014.7044419554\n",
      "34 162781.62265305087\n",
      "35 163483.25020053884\n",
      "36 164121.61442848394\n",
      "37 165910.86684445763\n",
      "38 166263.34904917312\n",
      "39 166967.81410185085\n",
      "40 169879.35195707544\n",
      "41 170036.8446218407\n",
      "42 172317.16871043303\n",
      "43 173225.85042507053\n",
      "44 176405.45462941405\n",
      "45 175951.96694708266\n",
      "46 179420.62087730106\n",
      "47 181230.39342520965\n",
      "48 181994.05267893305\n",
      "49 180807.4371004135\n"
     ]
    }
   ],
   "source": [
    "# Clustering\n",
    "\n",
    "from sklearn.cluster import KMeans\n",
    "from sklearn.metrics import calinski_harabasz_score\n",
    "\n",
    "num_clusters = np.arange(2, 20)\n",
    "\n",
    "# Set number of clusters at initialization time\n",
    "for n in num_clusters:\n",
    "    k_means = KMeans(n_clusters=n) \n",
    "\n",
    "    # Run the clustering algorithm\n",
    "    k_means.fit(df_numer) \n",
    "\n",
    "    # Generate cluster index values for each row\n",
    "    cluster_assignments = k_means.predict(df_numer)\n",
    "    \n",
    "    print(n, calinski_harabasz_score(df_numer, cluster_assignments))"
   ]
  },
  {
   "cell_type": "code",
   "execution_count": 53,
   "metadata": {},
   "outputs": [
    {
     "data": {
      "text/plain": [
       "array([20, 48, 43, ..., 40, 34, 23], dtype=int32)"
      ]
     },
     "execution_count": 53,
     "metadata": {},
     "output_type": "execute_result"
    }
   ],
   "source": [
    "cluster_assignments"
   ]
  },
  {
   "cell_type": "code",
   "execution_count": 54,
   "metadata": {},
   "outputs": [
    {
     "data": {
      "text/plain": [
       "array([20, 48, 43, ..., 40, 34, 23], dtype=int32)"
      ]
     },
     "execution_count": 54,
     "metadata": {},
     "output_type": "execute_result"
    }
   ],
   "source": [
    "k_means.labels_"
   ]
  },
  {
   "cell_type": "code",
   "execution_count": 55,
   "metadata": {},
   "outputs": [
    {
     "name": "stdout",
     "output_type": "stream",
     "text": [
      "180807.4371004135\n"
     ]
    }
   ],
   "source": [
    "# This code builds on the previous example\n",
    "\n",
    "# Note that we could also pass in k_means.labels_ instead of cluster_assignments\n",
    "print(calinski_harabasz_score(df_numer, cluster_assignments))"
   ]
  },
  {
   "cell_type": "code",
   "execution_count": null,
   "metadata": {},
   "outputs": [],
   "source": []
  },
  {
   "cell_type": "code",
   "execution_count": null,
   "metadata": {},
   "outputs": [],
   "source": []
  }
 ],
 "metadata": {
  "kernelspec": {
   "display_name": "Python 3",
   "language": "python",
   "name": "python3"
  },
  "language_info": {
   "codemirror_mode": {
    "name": "ipython",
    "version": 3
   },
   "file_extension": ".py",
   "mimetype": "text/x-python",
   "name": "python",
   "nbconvert_exporter": "python",
   "pygments_lexer": "ipython3",
   "version": "3.7.4"
  }
 },
 "nbformat": 4,
 "nbformat_minor": 4
}
