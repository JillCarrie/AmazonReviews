{
 "cells": [
  {
   "cell_type": "code",
   "execution_count": 136,
   "metadata": {},
   "outputs": [],
   "source": [
    "# !pip install vaderSentiment\n",
    "# !pip install imblearn\n",
    "# !pip install xgboost"
   ]
  },
  {
   "cell_type": "code",
   "execution_count": 137,
   "metadata": {},
   "outputs": [],
   "source": [
    "import numpy as np\n",
    "import pandas as pd\n",
    "# from xgboost import XGBClassifier\n",
    "from imblearn.over_sampling import SMOTE\n",
    "from sklearn.tree import DecisionTreeClassifier \n",
    "from sklearn.neighbors import KNeighborsClassifier\n",
    "from sklearn.linear_model import LogisticRegression\n",
    "from sklearn.model_selection import train_test_split\n",
    "from sklearn.metrics import confusion_matrix, classification_report\n",
    "from vaderSentiment.vaderSentiment import SentimentIntensityAnalyzer\n",
    "from sklearn.ensemble import BaggingClassifier, RandomForestClassifier, AdaBoostClassifier, GradientBoostingClassifier\n",
    "\n",
    "from nltk.corpus import stopwords\n",
    "from nltk.stem import WordNetLemmatizer\n",
    "from nltk.tokenize import RegexpTokenizer, sent_tokenize\n",
    "from sklearn.feature_extraction.text import CountVectorizer, TfidfVectorizer"
   ]
  },
  {
   "cell_type": "code",
   "execution_count": 9,
   "metadata": {},
   "outputs": [
    {
     "name": "stderr",
     "output_type": "stream",
     "text": [
      "b'Skipping line 8704: expected 15 fields, saw 22\\nSkipping line 16933: expected 15 fields, saw 22\\nSkipping line 23726: expected 15 fields, saw 22\\n'\n",
      "b'Skipping line 85637: expected 15 fields, saw 22\\n'\n",
      "b'Skipping line 132136: expected 15 fields, saw 22\\nSkipping line 158070: expected 15 fields, saw 22\\nSkipping line 166007: expected 15 fields, saw 22\\nSkipping line 171877: expected 15 fields, saw 22\\nSkipping line 177756: expected 15 fields, saw 22\\nSkipping line 181773: expected 15 fields, saw 22\\nSkipping line 191085: expected 15 fields, saw 22\\nSkipping line 196273: expected 15 fields, saw 22\\nSkipping line 196331: expected 15 fields, saw 22\\n'\n",
      "b'Skipping line 197000: expected 15 fields, saw 22\\nSkipping line 197011: expected 15 fields, saw 22\\nSkipping line 197432: expected 15 fields, saw 22\\nSkipping line 208016: expected 15 fields, saw 22\\nSkipping line 214110: expected 15 fields, saw 22\\nSkipping line 244328: expected 15 fields, saw 22\\nSkipping line 248519: expected 15 fields, saw 22\\nSkipping line 254936: expected 15 fields, saw 22\\n'\n",
      "b'Skipping line 272057: expected 15 fields, saw 22\\nSkipping line 293214: expected 15 fields, saw 22\\nSkipping line 310507: expected 15 fields, saw 22\\nSkipping line 312306: expected 15 fields, saw 22\\nSkipping line 316296: expected 15 fields, saw 22\\n'\n",
      "b'Skipping line 336028: expected 15 fields, saw 22\\nSkipping line 344885: expected 15 fields, saw 22\\nSkipping line 352551: expected 15 fields, saw 22\\n'\n",
      "b'Skipping line 408773: expected 15 fields, saw 22\\nSkipping line 434535: expected 15 fields, saw 22\\n'\n",
      "b'Skipping line 581593: expected 15 fields, saw 22\\n'\n",
      "b'Skipping line 652409: expected 15 fields, saw 22\\n'\n"
     ]
    },
    {
     "data": {
      "text/html": [
       "<div>\n",
       "<style scoped>\n",
       "    .dataframe tbody tr th:only-of-type {\n",
       "        vertical-align: middle;\n",
       "    }\n",
       "\n",
       "    .dataframe tbody tr th {\n",
       "        vertical-align: top;\n",
       "    }\n",
       "\n",
       "    .dataframe thead th {\n",
       "        text-align: right;\n",
       "    }\n",
       "</style>\n",
       "<table border=\"1\" class=\"dataframe\">\n",
       "  <thead>\n",
       "    <tr style=\"text-align: right;\">\n",
       "      <th></th>\n",
       "      <th>marketplace</th>\n",
       "      <th>customer_id</th>\n",
       "      <th>review_id</th>\n",
       "      <th>product_id</th>\n",
       "      <th>product_parent</th>\n",
       "      <th>product_title</th>\n",
       "      <th>product_category</th>\n",
       "      <th>star_rating</th>\n",
       "      <th>helpful_votes</th>\n",
       "      <th>total_votes</th>\n",
       "      <th>vine</th>\n",
       "      <th>verified_purchase</th>\n",
       "      <th>review_headline</th>\n",
       "      <th>review_body</th>\n",
       "      <th>review_date</th>\n",
       "    </tr>\n",
       "  </thead>\n",
       "  <tbody>\n",
       "    <tr>\n",
       "      <td>0</td>\n",
       "      <td>US</td>\n",
       "      <td>3653882</td>\n",
       "      <td>R3O9SGZBVQBV76</td>\n",
       "      <td>B00FALQ1ZC</td>\n",
       "      <td>937001370</td>\n",
       "      <td>Invicta Women's 15150 \"Angel\" 18k Yellow Gold ...</td>\n",
       "      <td>Watches</td>\n",
       "      <td>5</td>\n",
       "      <td>0</td>\n",
       "      <td>0</td>\n",
       "      <td>N</td>\n",
       "      <td>Y</td>\n",
       "      <td>Five Stars</td>\n",
       "      <td>Absolutely love this watch! Get compliments al...</td>\n",
       "      <td>2015-08-31</td>\n",
       "    </tr>\n",
       "    <tr>\n",
       "      <td>1</td>\n",
       "      <td>US</td>\n",
       "      <td>14661224</td>\n",
       "      <td>RKH8BNC3L5DLF</td>\n",
       "      <td>B00D3RGO20</td>\n",
       "      <td>484010722</td>\n",
       "      <td>Kenneth Cole New York Women's KC4944 Automatic...</td>\n",
       "      <td>Watches</td>\n",
       "      <td>5</td>\n",
       "      <td>0</td>\n",
       "      <td>0</td>\n",
       "      <td>N</td>\n",
       "      <td>Y</td>\n",
       "      <td>I love thiswatch it keeps time wonderfully</td>\n",
       "      <td>I love this watch it keeps time wonderfully.</td>\n",
       "      <td>2015-08-31</td>\n",
       "    </tr>\n",
       "    <tr>\n",
       "      <td>2</td>\n",
       "      <td>US</td>\n",
       "      <td>27324930</td>\n",
       "      <td>R2HLE8WKZSU3NL</td>\n",
       "      <td>B00DKYC7TK</td>\n",
       "      <td>361166390</td>\n",
       "      <td>Ritche 22mm Black Stainless Steel Bracelet Wat...</td>\n",
       "      <td>Watches</td>\n",
       "      <td>2</td>\n",
       "      <td>1</td>\n",
       "      <td>1</td>\n",
       "      <td>N</td>\n",
       "      <td>Y</td>\n",
       "      <td>Two Stars</td>\n",
       "      <td>Scratches</td>\n",
       "      <td>2015-08-31</td>\n",
       "    </tr>\n",
       "    <tr>\n",
       "      <td>3</td>\n",
       "      <td>US</td>\n",
       "      <td>7211452</td>\n",
       "      <td>R31U3UH5AZ42LL</td>\n",
       "      <td>B000EQS1JW</td>\n",
       "      <td>958035625</td>\n",
       "      <td>Citizen Men's BM8180-03E Eco-Drive Stainless S...</td>\n",
       "      <td>Watches</td>\n",
       "      <td>5</td>\n",
       "      <td>0</td>\n",
       "      <td>0</td>\n",
       "      <td>N</td>\n",
       "      <td>Y</td>\n",
       "      <td>Five Stars</td>\n",
       "      <td>It works well on me. However, I found cheaper ...</td>\n",
       "      <td>2015-08-31</td>\n",
       "    </tr>\n",
       "    <tr>\n",
       "      <td>4</td>\n",
       "      <td>US</td>\n",
       "      <td>12733322</td>\n",
       "      <td>R2SV659OUJ945Y</td>\n",
       "      <td>B00A6GFD7S</td>\n",
       "      <td>765328221</td>\n",
       "      <td>Orient ER27009B Men's Symphony Automatic Stain...</td>\n",
       "      <td>Watches</td>\n",
       "      <td>4</td>\n",
       "      <td>0</td>\n",
       "      <td>0</td>\n",
       "      <td>N</td>\n",
       "      <td>Y</td>\n",
       "      <td>Beautiful face, but cheap sounding links</td>\n",
       "      <td>Beautiful watch face.  The band looks nice all...</td>\n",
       "      <td>2015-08-31</td>\n",
       "    </tr>\n",
       "    <tr>\n",
       "      <td>...</td>\n",
       "      <td>...</td>\n",
       "      <td>...</td>\n",
       "      <td>...</td>\n",
       "      <td>...</td>\n",
       "      <td>...</td>\n",
       "      <td>...</td>\n",
       "      <td>...</td>\n",
       "      <td>...</td>\n",
       "      <td>...</td>\n",
       "      <td>...</td>\n",
       "      <td>...</td>\n",
       "      <td>...</td>\n",
       "      <td>...</td>\n",
       "      <td>...</td>\n",
       "      <td>...</td>\n",
       "    </tr>\n",
       "    <tr>\n",
       "      <td>960199</td>\n",
       "      <td>US</td>\n",
       "      <td>39508379</td>\n",
       "      <td>REH8UQZAXQS40</td>\n",
       "      <td>B00005OT9I</td>\n",
       "      <td>2153632</td>\n",
       "      <td>Xhilaration&amp;#174; Silver Dial Bangle Watch</td>\n",
       "      <td>Watches</td>\n",
       "      <td>2</td>\n",
       "      <td>17</td>\n",
       "      <td>17</td>\n",
       "      <td>N</td>\n",
       "      <td>N</td>\n",
       "      <td>Great prize - but size??</td>\n",
       "      <td>It's a great watch - but you don't have a chan...</td>\n",
       "      <td>2001-12-13</td>\n",
       "    </tr>\n",
       "    <tr>\n",
       "      <td>960200</td>\n",
       "      <td>US</td>\n",
       "      <td>44704251</td>\n",
       "      <td>RJ14QPZEOI9P8</td>\n",
       "      <td>B00005QEM6</td>\n",
       "      <td>903687397</td>\n",
       "      <td>Armitron Men's Titanium 3 Eye Sport Analog Chr...</td>\n",
       "      <td>Watches</td>\n",
       "      <td>5</td>\n",
       "      <td>9</td>\n",
       "      <td>10</td>\n",
       "      <td>N</td>\n",
       "      <td>N</td>\n",
       "      <td>A very classy watch!</td>\n",
       "      <td>Well worth the price. This is a light weight, ...</td>\n",
       "      <td>2001-11-08</td>\n",
       "    </tr>\n",
       "    <tr>\n",
       "      <td>960201</td>\n",
       "      <td>US</td>\n",
       "      <td>40571775</td>\n",
       "      <td>R2B1G5650WWFCE</td>\n",
       "      <td>B00005QEME</td>\n",
       "      <td>252821780</td>\n",
       "      <td>Men's Timex Internet Messenger Sport Watch</td>\n",
       "      <td>Watches</td>\n",
       "      <td>5</td>\n",
       "      <td>3</td>\n",
       "      <td>16</td>\n",
       "      <td>N</td>\n",
       "      <td>N</td>\n",
       "      <td>This is a great watch</td>\n",
       "      <td>Dear Targeteers,&lt;BR&gt;This watch is exelent. it ...</td>\n",
       "      <td>2001-11-06</td>\n",
       "    </tr>\n",
       "    <tr>\n",
       "      <td>960202</td>\n",
       "      <td>US</td>\n",
       "      <td>44474855</td>\n",
       "      <td>R2MMGPUWXXOFI2</td>\n",
       "      <td>B00004YK0H</td>\n",
       "      <td>118389241</td>\n",
       "      <td>Energizer 393 Button Cell Battery</td>\n",
       "      <td>Watches</td>\n",
       "      <td>4</td>\n",
       "      <td>0</td>\n",
       "      <td>0</td>\n",
       "      <td>N</td>\n",
       "      <td>N</td>\n",
       "      <td>Now watt a minute here.</td>\n",
       "      <td>In the old days, the common hearing battery in...</td>\n",
       "      <td>2001-04-05</td>\n",
       "    </tr>\n",
       "    <tr>\n",
       "      <td>960203</td>\n",
       "      <td>US</td>\n",
       "      <td>44474855</td>\n",
       "      <td>R2BZMVAERMRUDE</td>\n",
       "      <td>B00004YK0H</td>\n",
       "      <td>118389241</td>\n",
       "      <td>Energizer 393 Button Cell Battery</td>\n",
       "      <td>Watches</td>\n",
       "      <td>4</td>\n",
       "      <td>5</td>\n",
       "      <td>7</td>\n",
       "      <td>N</td>\n",
       "      <td>N</td>\n",
       "      <td>1/10 Watt difference for hearing aids</td>\n",
       "      <td>I have found that a #393 watch battery is the ...</td>\n",
       "      <td>2001-04-05</td>\n",
       "    </tr>\n",
       "  </tbody>\n",
       "</table>\n",
       "<p>960204 rows × 15 columns</p>\n",
       "</div>"
      ],
      "text/plain": [
       "       marketplace  customer_id       review_id  product_id  product_parent  \\\n",
       "0               US      3653882  R3O9SGZBVQBV76  B00FALQ1ZC       937001370   \n",
       "1               US     14661224   RKH8BNC3L5DLF  B00D3RGO20       484010722   \n",
       "2               US     27324930  R2HLE8WKZSU3NL  B00DKYC7TK       361166390   \n",
       "3               US      7211452  R31U3UH5AZ42LL  B000EQS1JW       958035625   \n",
       "4               US     12733322  R2SV659OUJ945Y  B00A6GFD7S       765328221   \n",
       "...            ...          ...             ...         ...             ...   \n",
       "960199          US     39508379   REH8UQZAXQS40  B00005OT9I         2153632   \n",
       "960200          US     44704251   RJ14QPZEOI9P8  B00005QEM6       903687397   \n",
       "960201          US     40571775  R2B1G5650WWFCE  B00005QEME       252821780   \n",
       "960202          US     44474855  R2MMGPUWXXOFI2  B00004YK0H       118389241   \n",
       "960203          US     44474855  R2BZMVAERMRUDE  B00004YK0H       118389241   \n",
       "\n",
       "                                            product_title product_category  \\\n",
       "0       Invicta Women's 15150 \"Angel\" 18k Yellow Gold ...          Watches   \n",
       "1       Kenneth Cole New York Women's KC4944 Automatic...          Watches   \n",
       "2       Ritche 22mm Black Stainless Steel Bracelet Wat...          Watches   \n",
       "3       Citizen Men's BM8180-03E Eco-Drive Stainless S...          Watches   \n",
       "4       Orient ER27009B Men's Symphony Automatic Stain...          Watches   \n",
       "...                                                   ...              ...   \n",
       "960199         Xhilaration&#174; Silver Dial Bangle Watch          Watches   \n",
       "960200  Armitron Men's Titanium 3 Eye Sport Analog Chr...          Watches   \n",
       "960201         Men's Timex Internet Messenger Sport Watch          Watches   \n",
       "960202                  Energizer 393 Button Cell Battery          Watches   \n",
       "960203                  Energizer 393 Button Cell Battery          Watches   \n",
       "\n",
       "        star_rating  helpful_votes  total_votes vine verified_purchase  \\\n",
       "0                 5              0            0    N                 Y   \n",
       "1                 5              0            0    N                 Y   \n",
       "2                 2              1            1    N                 Y   \n",
       "3                 5              0            0    N                 Y   \n",
       "4                 4              0            0    N                 Y   \n",
       "...             ...            ...          ...  ...               ...   \n",
       "960199            2             17           17    N                 N   \n",
       "960200            5              9           10    N                 N   \n",
       "960201            5              3           16    N                 N   \n",
       "960202            4              0            0    N                 N   \n",
       "960203            4              5            7    N                 N   \n",
       "\n",
       "                                   review_headline  \\\n",
       "0                                       Five Stars   \n",
       "1       I love thiswatch it keeps time wonderfully   \n",
       "2                                        Two Stars   \n",
       "3                                       Five Stars   \n",
       "4         Beautiful face, but cheap sounding links   \n",
       "...                                            ...   \n",
       "960199                    Great prize - but size??   \n",
       "960200                        A very classy watch!   \n",
       "960201                       This is a great watch   \n",
       "960202                     Now watt a minute here.   \n",
       "960203       1/10 Watt difference for hearing aids   \n",
       "\n",
       "                                              review_body review_date  \n",
       "0       Absolutely love this watch! Get compliments al...  2015-08-31  \n",
       "1            I love this watch it keeps time wonderfully.  2015-08-31  \n",
       "2                                               Scratches  2015-08-31  \n",
       "3       It works well on me. However, I found cheaper ...  2015-08-31  \n",
       "4       Beautiful watch face.  The band looks nice all...  2015-08-31  \n",
       "...                                                   ...         ...  \n",
       "960199  It's a great watch - but you don't have a chan...  2001-12-13  \n",
       "960200  Well worth the price. This is a light weight, ...  2001-11-08  \n",
       "960201  Dear Targeteers,<BR>This watch is exelent. it ...  2001-11-06  \n",
       "960202  In the old days, the common hearing battery in...  2001-04-05  \n",
       "960203  I have found that a #393 watch battery is the ...  2001-04-05  \n",
       "\n",
       "[960204 rows x 15 columns]"
      ]
     },
     "execution_count": 9,
     "metadata": {},
     "output_type": "execute_result"
    }
   ],
   "source": [
    "# Health & Personal Care Category\n",
    "# df = pd.read_csv('https://s3.amazonaws.com/amazon-reviews-pds/tsv/amazon_reviews_us_Health_Personal_Care_v1_00.tsv.gz', sep='\\t', error_bad_lines=False)\n",
    "\n",
    "# Watches Category\n",
    "df = pd.read_csv('https://s3.amazonaws.com/amazon-reviews-pds/tsv/amazon_reviews_us_Watches_v1_00.tsv.gz', sep='\\t', error_bad_lines=False)\n",
    "df"
   ]
  },
  {
   "cell_type": "code",
   "execution_count": 10,
   "metadata": {},
   "outputs": [
    {
     "name": "stdout",
     "output_type": "stream",
     "text": [
      "<class 'pandas.core.frame.DataFrame'>\n",
      "RangeIndex: 960204 entries, 0 to 960203\n",
      "Data columns (total 15 columns):\n",
      "marketplace          960204 non-null object\n",
      "customer_id          960204 non-null int64\n",
      "review_id            960204 non-null object\n",
      "product_id           960204 non-null object\n",
      "product_parent       960204 non-null int64\n",
      "product_title        960202 non-null object\n",
      "product_category     960204 non-null object\n",
      "star_rating          960204 non-null int64\n",
      "helpful_votes        960204 non-null int64\n",
      "total_votes          960204 non-null int64\n",
      "vine                 960204 non-null object\n",
      "verified_purchase    960204 non-null object\n",
      "review_headline      960197 non-null object\n",
      "review_body          960056 non-null object\n",
      "review_date          960200 non-null object\n",
      "dtypes: int64(5), object(10)\n",
      "memory usage: 109.9+ MB\n"
     ]
    }
   ],
   "source": [
    "df.info()"
   ]
  },
  {
   "cell_type": "code",
   "execution_count": 13,
   "metadata": {},
   "outputs": [],
   "source": [
    "analyzer = SentimentIntensityAnalyzer()"
   ]
  },
  {
   "cell_type": "code",
   "execution_count": 14,
   "metadata": {},
   "outputs": [],
   "source": [
    "# Return dictionary of VADER sentiment scores for given sentence. Keys: 'neg', 'neu', 'pos', 'compound'\n",
    "def sentiment_analyzer_scores(sentence, verbose=False):\n",
    "    score = analyzer.polarity_scores(sentence)\n",
    "    if verbose: print(\"{}\".format(str(score)))\n",
    "    \n",
    "    return score\n",
    "    \n",
    "def sentiment_analyzer_scores_neg(sentence):\n",
    "    return sentiment_analyzer_scores(sentence)['neg']\n",
    "\n",
    "def sentiment_analyzer_scores_neu(sentence):\n",
    "    return sentiment_analyzer_scores(sentence)['neu']\n",
    "\n",
    "def sentiment_analyzer_scores_pos(sentence):\n",
    "    return sentiment_analyzer_scores(sentence)['pos']\n",
    "\n",
    "def sentiment_analyzer_scores_compound(sentence):\n",
    "    return sentiment_analyzer_scores(sentence)['compound']"
   ]
  },
  {
   "cell_type": "code",
   "execution_count": 65,
   "metadata": {},
   "outputs": [
    {
     "name": "stderr",
     "output_type": "stream",
     "text": [
      "/Users/megarock/opt/anaconda3/lib/python3.7/site-packages/ipykernel_launcher.py:5: SettingWithCopyWarning: \n",
      "A value is trying to be set on a copy of a slice from a DataFrame.\n",
      "Try using .loc[row_indexer,col_indexer] = value instead\n",
      "\n",
      "See the caveats in the documentation: http://pandas.pydata.org/pandas-docs/stable/user_guide/indexing.html#returning-a-view-versus-a-copy\n",
      "  \"\"\"\n",
      "/Users/megarock/opt/anaconda3/lib/python3.7/site-packages/ipykernel_launcher.py:6: SettingWithCopyWarning: \n",
      "A value is trying to be set on a copy of a slice from a DataFrame.\n",
      "Try using .loc[row_indexer,col_indexer] = value instead\n",
      "\n",
      "See the caveats in the documentation: http://pandas.pydata.org/pandas-docs/stable/user_guide/indexing.html#returning-a-view-versus-a-copy\n",
      "  \n",
      "/Users/megarock/opt/anaconda3/lib/python3.7/site-packages/ipykernel_launcher.py:7: SettingWithCopyWarning: \n",
      "A value is trying to be set on a copy of a slice from a DataFrame.\n",
      "Try using .loc[row_indexer,col_indexer] = value instead\n",
      "\n",
      "See the caveats in the documentation: http://pandas.pydata.org/pandas-docs/stable/user_guide/indexing.html#returning-a-view-versus-a-copy\n",
      "  import sys\n",
      "/Users/megarock/opt/anaconda3/lib/python3.7/site-packages/ipykernel_launcher.py:9: SettingWithCopyWarning: \n",
      "A value is trying to be set on a copy of a slice from a DataFrame.\n",
      "Try using .loc[row_indexer,col_indexer] = value instead\n",
      "\n",
      "See the caveats in the documentation: http://pandas.pydata.org/pandas-docs/stable/user_guide/indexing.html#returning-a-view-versus-a-copy\n",
      "  if __name__ == '__main__':\n",
      "/Users/megarock/opt/anaconda3/lib/python3.7/site-packages/ipykernel_launcher.py:10: SettingWithCopyWarning: \n",
      "A value is trying to be set on a copy of a slice from a DataFrame.\n",
      "Try using .loc[row_indexer,col_indexer] = value instead\n",
      "\n",
      "See the caveats in the documentation: http://pandas.pydata.org/pandas-docs/stable/user_guide/indexing.html#returning-a-view-versus-a-copy\n",
      "  # Remove the CWD from sys.path while we load stuff.\n",
      "/Users/megarock/opt/anaconda3/lib/python3.7/site-packages/ipykernel_launcher.py:11: SettingWithCopyWarning: \n",
      "A value is trying to be set on a copy of a slice from a DataFrame.\n",
      "Try using .loc[row_indexer,col_indexer] = value instead\n",
      "\n",
      "See the caveats in the documentation: http://pandas.pydata.org/pandas-docs/stable/user_guide/indexing.html#returning-a-view-versus-a-copy\n",
      "  # This is added back by InteractiveShellApp.init_path()\n"
     ]
    },
    {
     "name": "stdout",
     "output_type": "stream",
     "text": [
      "<class 'pandas.core.frame.DataFrame'>\n",
      "RangeIndex: 20000 entries, 0 to 19999\n",
      "Data columns (total 20 columns):\n",
      "marketplace          20000 non-null object\n",
      "customer_id          20000 non-null int64\n",
      "review_id            20000 non-null object\n",
      "product_id           20000 non-null object\n",
      "product_parent       20000 non-null int64\n",
      "product_title        20000 non-null object\n",
      "product_category     20000 non-null object\n",
      "star_rating          20000 non-null int64\n",
      "helpful_votes        20000 non-null int64\n",
      "total_votes          20000 non-null int64\n",
      "vine                 20000 non-null object\n",
      "verified_purchase    20000 non-null object\n",
      "review_headline      20000 non-null object\n",
      "review_body          20000 non-null object\n",
      "review_date          20000 non-null object\n",
      "review_fulltext      20000 non-null object\n",
      "neg                  20000 non-null float64\n",
      "neu                  20000 non-null float64\n",
      "pos                  20000 non-null float64\n",
      "compound             20000 non-null float64\n",
      "dtypes: float64(4), int64(5), object(11)\n",
      "memory usage: 3.1+ MB\n"
     ]
    },
    {
     "name": "stderr",
     "output_type": "stream",
     "text": [
      "/Users/megarock/opt/anaconda3/lib/python3.7/site-packages/ipykernel_launcher.py:12: SettingWithCopyWarning: \n",
      "A value is trying to be set on a copy of a slice from a DataFrame.\n",
      "Try using .loc[row_indexer,col_indexer] = value instead\n",
      "\n",
      "See the caveats in the documentation: http://pandas.pydata.org/pandas-docs/stable/user_guide/indexing.html#returning-a-view-versus-a-copy\n",
      "  if sys.path[0] == '':\n"
     ]
    }
   ],
   "source": [
    "df_small = df[:20000]\n",
    "\n",
    "# Deal with missing values for any of the columns we will be using\n",
    "# df_small['star_rating'] = df_small['star_rating'].astype(int)\n",
    "df_small['review_headline'] = df_small['review_headline'].fillna('.')\n",
    "df_small['review_body'] = df_small['review_body'].fillna('.')\n",
    "df_small['review_fulltext'] = df_small['review_headline'] + '. ' + df_small['review_body']\n",
    "\n",
    "df_small['neg'] = df_small['review_fulltext'].apply(sentiment_analyzer_scores_neg)\n",
    "df_small['neu'] = df_small['review_fulltext'].apply(sentiment_analyzer_scores_neu)\n",
    "df_small['pos'] = df_small['review_fulltext'].apply(sentiment_analyzer_scores_pos)\n",
    "df_small['compound'] = df_small['review_fulltext'].apply(sentiment_analyzer_scores_compound)\n",
    "\n",
    "df_small.info()"
   ]
  },
  {
   "cell_type": "code",
   "execution_count": 66,
   "metadata": {},
   "outputs": [
    {
     "data": {
      "text/plain": [
       "5    12114\n",
       "4     3316\n",
       "1     1940\n",
       "3     1579\n",
       "2     1051\n",
       "Name: star_rating, dtype: int64"
      ]
     },
     "execution_count": 66,
     "metadata": {},
     "output_type": "execute_result"
    }
   ],
   "source": [
    "df_small['star_rating'].value_counts()\n",
    "# df_small['verified_purchase'].value_counts()"
   ]
  },
  {
   "cell_type": "code",
   "execution_count": 67,
   "metadata": {},
   "outputs": [
    {
     "name": "stdout",
     "output_type": "stream",
     "text": [
      "<class 'pandas.core.frame.DataFrame'>\n",
      "RangeIndex: 20000 entries, 0 to 19999\n",
      "Data columns (total 9 columns):\n",
      "customer_id       20000 non-null int64\n",
      "product_parent    20000 non-null int64\n",
      "star_rating       20000 non-null int64\n",
      "helpful_votes     20000 non-null int64\n",
      "total_votes       20000 non-null int64\n",
      "neg               20000 non-null float64\n",
      "neu               20000 non-null float64\n",
      "pos               20000 non-null float64\n",
      "compound          20000 non-null float64\n",
      "dtypes: float64(4), int64(5)\n",
      "memory usage: 1.4 MB\n"
     ]
    },
    {
     "data": {
      "text/html": [
       "<div>\n",
       "<style scoped>\n",
       "    .dataframe tbody tr th:only-of-type {\n",
       "        vertical-align: middle;\n",
       "    }\n",
       "\n",
       "    .dataframe tbody tr th {\n",
       "        vertical-align: top;\n",
       "    }\n",
       "\n",
       "    .dataframe thead th {\n",
       "        text-align: right;\n",
       "    }\n",
       "</style>\n",
       "<table border=\"1\" class=\"dataframe\">\n",
       "  <thead>\n",
       "    <tr style=\"text-align: right;\">\n",
       "      <th></th>\n",
       "      <th>customer_id</th>\n",
       "      <th>product_parent</th>\n",
       "      <th>star_rating</th>\n",
       "      <th>helpful_votes</th>\n",
       "      <th>total_votes</th>\n",
       "      <th>neg</th>\n",
       "      <th>neu</th>\n",
       "      <th>pos</th>\n",
       "      <th>compound</th>\n",
       "    </tr>\n",
       "  </thead>\n",
       "  <tbody>\n",
       "    <tr>\n",
       "      <td>0</td>\n",
       "      <td>3653882</td>\n",
       "      <td>937001370</td>\n",
       "      <td>5</td>\n",
       "      <td>0</td>\n",
       "      <td>0</td>\n",
       "      <td>0.000</td>\n",
       "      <td>0.616</td>\n",
       "      <td>0.384</td>\n",
       "      <td>0.8169</td>\n",
       "    </tr>\n",
       "    <tr>\n",
       "      <td>1</td>\n",
       "      <td>14661224</td>\n",
       "      <td>484010722</td>\n",
       "      <td>5</td>\n",
       "      <td>0</td>\n",
       "      <td>0</td>\n",
       "      <td>0.000</td>\n",
       "      <td>0.357</td>\n",
       "      <td>0.643</td>\n",
       "      <td>0.9531</td>\n",
       "    </tr>\n",
       "    <tr>\n",
       "      <td>2</td>\n",
       "      <td>27324930</td>\n",
       "      <td>361166390</td>\n",
       "      <td>2</td>\n",
       "      <td>1</td>\n",
       "      <td>1</td>\n",
       "      <td>0.000</td>\n",
       "      <td>1.000</td>\n",
       "      <td>0.000</td>\n",
       "      <td>0.0000</td>\n",
       "    </tr>\n",
       "    <tr>\n",
       "      <td>3</td>\n",
       "      <td>7211452</td>\n",
       "      <td>958035625</td>\n",
       "      <td>5</td>\n",
       "      <td>0</td>\n",
       "      <td>0</td>\n",
       "      <td>0.000</td>\n",
       "      <td>0.890</td>\n",
       "      <td>0.110</td>\n",
       "      <td>0.2732</td>\n",
       "    </tr>\n",
       "    <tr>\n",
       "      <td>4</td>\n",
       "      <td>12733322</td>\n",
       "      <td>765328221</td>\n",
       "      <td>4</td>\n",
       "      <td>0</td>\n",
       "      <td>0</td>\n",
       "      <td>0.024</td>\n",
       "      <td>0.715</td>\n",
       "      <td>0.261</td>\n",
       "      <td>0.9886</td>\n",
       "    </tr>\n",
       "    <tr>\n",
       "      <td>...</td>\n",
       "      <td>...</td>\n",
       "      <td>...</td>\n",
       "      <td>...</td>\n",
       "      <td>...</td>\n",
       "      <td>...</td>\n",
       "      <td>...</td>\n",
       "      <td>...</td>\n",
       "      <td>...</td>\n",
       "      <td>...</td>\n",
       "    </tr>\n",
       "    <tr>\n",
       "      <td>19995</td>\n",
       "      <td>32167840</td>\n",
       "      <td>354933056</td>\n",
       "      <td>5</td>\n",
       "      <td>0</td>\n",
       "      <td>0</td>\n",
       "      <td>0.000</td>\n",
       "      <td>0.754</td>\n",
       "      <td>0.246</td>\n",
       "      <td>0.7351</td>\n",
       "    </tr>\n",
       "    <tr>\n",
       "      <td>19996</td>\n",
       "      <td>2194392</td>\n",
       "      <td>649128875</td>\n",
       "      <td>4</td>\n",
       "      <td>0</td>\n",
       "      <td>0</td>\n",
       "      <td>0.068</td>\n",
       "      <td>0.777</td>\n",
       "      <td>0.155</td>\n",
       "      <td>0.4215</td>\n",
       "    </tr>\n",
       "    <tr>\n",
       "      <td>19997</td>\n",
       "      <td>15315799</td>\n",
       "      <td>811352940</td>\n",
       "      <td>5</td>\n",
       "      <td>0</td>\n",
       "      <td>0</td>\n",
       "      <td>0.000</td>\n",
       "      <td>0.682</td>\n",
       "      <td>0.318</td>\n",
       "      <td>0.4215</td>\n",
       "    </tr>\n",
       "    <tr>\n",
       "      <td>19998</td>\n",
       "      <td>40994978</td>\n",
       "      <td>714629498</td>\n",
       "      <td>5</td>\n",
       "      <td>0</td>\n",
       "      <td>0</td>\n",
       "      <td>0.000</td>\n",
       "      <td>0.517</td>\n",
       "      <td>0.483</td>\n",
       "      <td>0.4215</td>\n",
       "    </tr>\n",
       "    <tr>\n",
       "      <td>19999</td>\n",
       "      <td>33885997</td>\n",
       "      <td>439507467</td>\n",
       "      <td>2</td>\n",
       "      <td>2</td>\n",
       "      <td>2</td>\n",
       "      <td>0.152</td>\n",
       "      <td>0.778</td>\n",
       "      <td>0.070</td>\n",
       "      <td>-0.5543</td>\n",
       "    </tr>\n",
       "  </tbody>\n",
       "</table>\n",
       "<p>20000 rows × 9 columns</p>\n",
       "</div>"
      ],
      "text/plain": [
       "       customer_id  product_parent  star_rating  helpful_votes  total_votes  \\\n",
       "0          3653882       937001370            5              0            0   \n",
       "1         14661224       484010722            5              0            0   \n",
       "2         27324930       361166390            2              1            1   \n",
       "3          7211452       958035625            5              0            0   \n",
       "4         12733322       765328221            4              0            0   \n",
       "...            ...             ...          ...            ...          ...   \n",
       "19995     32167840       354933056            5              0            0   \n",
       "19996      2194392       649128875            4              0            0   \n",
       "19997     15315799       811352940            5              0            0   \n",
       "19998     40994978       714629498            5              0            0   \n",
       "19999     33885997       439507467            2              2            2   \n",
       "\n",
       "         neg    neu    pos  compound  \n",
       "0      0.000  0.616  0.384    0.8169  \n",
       "1      0.000  0.357  0.643    0.9531  \n",
       "2      0.000  1.000  0.000    0.0000  \n",
       "3      0.000  0.890  0.110    0.2732  \n",
       "4      0.024  0.715  0.261    0.9886  \n",
       "...      ...    ...    ...       ...  \n",
       "19995  0.000  0.754  0.246    0.7351  \n",
       "19996  0.068  0.777  0.155    0.4215  \n",
       "19997  0.000  0.682  0.318    0.4215  \n",
       "19998  0.000  0.517  0.483    0.4215  \n",
       "19999  0.152  0.778  0.070   -0.5543  \n",
       "\n",
       "[20000 rows x 9 columns]"
      ]
     },
     "execution_count": 67,
     "metadata": {},
     "output_type": "execute_result"
    }
   ],
   "source": [
    "df_numer = df_small.select_dtypes(include='number')\n",
    "df_numer.info()\n",
    "df_numer"
   ]
  },
  {
   "cell_type": "code",
   "execution_count": 78,
   "metadata": {},
   "outputs": [
    {
     "name": "stderr",
     "output_type": "stream",
     "text": [
      "/Users/megarock/opt/anaconda3/lib/python3.7/site-packages/ipykernel_launcher.py:2: SettingWithCopyWarning: \n",
      "A value is trying to be set on a copy of a slice from a DataFrame.\n",
      "Try using .loc[row_indexer,col_indexer] = value instead\n",
      "\n",
      "See the caveats in the documentation: http://pandas.pydata.org/pandas-docs/stable/user_guide/indexing.html#returning-a-view-versus-a-copy\n",
      "  \n"
     ]
    }
   ],
   "source": [
    "word_tokenizer = RegexpTokenizer(r'\\w+')\n",
    "df_small['review_wordlist'] = df_small['review_fulltext'].map(lambda x: word_tokenizer.tokenize(x.lower()))"
   ]
  },
  {
   "cell_type": "code",
   "execution_count": 69,
   "metadata": {},
   "outputs": [
    {
     "data": {
      "text/html": [
       "<div>\n",
       "<style scoped>\n",
       "    .dataframe tbody tr th:only-of-type {\n",
       "        vertical-align: middle;\n",
       "    }\n",
       "\n",
       "    .dataframe tbody tr th {\n",
       "        vertical-align: top;\n",
       "    }\n",
       "\n",
       "    .dataframe thead th {\n",
       "        text-align: right;\n",
       "    }\n",
       "</style>\n",
       "<table border=\"1\" class=\"dataframe\">\n",
       "  <thead>\n",
       "    <tr style=\"text-align: right;\">\n",
       "      <th></th>\n",
       "      <th>marketplace</th>\n",
       "      <th>customer_id</th>\n",
       "      <th>review_id</th>\n",
       "      <th>product_id</th>\n",
       "      <th>product_parent</th>\n",
       "      <th>product_title</th>\n",
       "      <th>product_category</th>\n",
       "      <th>star_rating</th>\n",
       "      <th>helpful_votes</th>\n",
       "      <th>total_votes</th>\n",
       "      <th>...</th>\n",
       "      <th>verified_purchase</th>\n",
       "      <th>review_headline</th>\n",
       "      <th>review_body</th>\n",
       "      <th>review_date</th>\n",
       "      <th>review_fulltext</th>\n",
       "      <th>neg</th>\n",
       "      <th>neu</th>\n",
       "      <th>pos</th>\n",
       "      <th>compound</th>\n",
       "      <th>review_wordlist</th>\n",
       "    </tr>\n",
       "  </thead>\n",
       "  <tbody>\n",
       "    <tr>\n",
       "      <td>0</td>\n",
       "      <td>US</td>\n",
       "      <td>3653882</td>\n",
       "      <td>R3O9SGZBVQBV76</td>\n",
       "      <td>B00FALQ1ZC</td>\n",
       "      <td>937001370</td>\n",
       "      <td>Invicta Women's 15150 \"Angel\" 18k Yellow Gold ...</td>\n",
       "      <td>Watches</td>\n",
       "      <td>5</td>\n",
       "      <td>0</td>\n",
       "      <td>0</td>\n",
       "      <td>...</td>\n",
       "      <td>Y</td>\n",
       "      <td>Five Stars</td>\n",
       "      <td>Absolutely love this watch! Get compliments al...</td>\n",
       "      <td>2015-08-31</td>\n",
       "      <td>Five Stars. Absolutely love this watch! Get co...</td>\n",
       "      <td>0.000</td>\n",
       "      <td>0.616</td>\n",
       "      <td>0.384</td>\n",
       "      <td>0.8169</td>\n",
       "      <td>[five, stars, absolutely, love, this, watch, g...</td>\n",
       "    </tr>\n",
       "    <tr>\n",
       "      <td>1</td>\n",
       "      <td>US</td>\n",
       "      <td>14661224</td>\n",
       "      <td>RKH8BNC3L5DLF</td>\n",
       "      <td>B00D3RGO20</td>\n",
       "      <td>484010722</td>\n",
       "      <td>Kenneth Cole New York Women's KC4944 Automatic...</td>\n",
       "      <td>Watches</td>\n",
       "      <td>5</td>\n",
       "      <td>0</td>\n",
       "      <td>0</td>\n",
       "      <td>...</td>\n",
       "      <td>Y</td>\n",
       "      <td>I love thiswatch it keeps time wonderfully</td>\n",
       "      <td>I love this watch it keeps time wonderfully.</td>\n",
       "      <td>2015-08-31</td>\n",
       "      <td>I love thiswatch it keeps time wonderfully. I ...</td>\n",
       "      <td>0.000</td>\n",
       "      <td>0.357</td>\n",
       "      <td>0.643</td>\n",
       "      <td>0.9531</td>\n",
       "      <td>[i, love, thiswatch, it, keeps, time, wonderfu...</td>\n",
       "    </tr>\n",
       "    <tr>\n",
       "      <td>2</td>\n",
       "      <td>US</td>\n",
       "      <td>27324930</td>\n",
       "      <td>R2HLE8WKZSU3NL</td>\n",
       "      <td>B00DKYC7TK</td>\n",
       "      <td>361166390</td>\n",
       "      <td>Ritche 22mm Black Stainless Steel Bracelet Wat...</td>\n",
       "      <td>Watches</td>\n",
       "      <td>2</td>\n",
       "      <td>1</td>\n",
       "      <td>1</td>\n",
       "      <td>...</td>\n",
       "      <td>Y</td>\n",
       "      <td>Two Stars</td>\n",
       "      <td>Scratches</td>\n",
       "      <td>2015-08-31</td>\n",
       "      <td>Two Stars. Scratches</td>\n",
       "      <td>0.000</td>\n",
       "      <td>1.000</td>\n",
       "      <td>0.000</td>\n",
       "      <td>0.0000</td>\n",
       "      <td>[two, stars, scratches]</td>\n",
       "    </tr>\n",
       "    <tr>\n",
       "      <td>3</td>\n",
       "      <td>US</td>\n",
       "      <td>7211452</td>\n",
       "      <td>R31U3UH5AZ42LL</td>\n",
       "      <td>B000EQS1JW</td>\n",
       "      <td>958035625</td>\n",
       "      <td>Citizen Men's BM8180-03E Eco-Drive Stainless S...</td>\n",
       "      <td>Watches</td>\n",
       "      <td>5</td>\n",
       "      <td>0</td>\n",
       "      <td>0</td>\n",
       "      <td>...</td>\n",
       "      <td>Y</td>\n",
       "      <td>Five Stars</td>\n",
       "      <td>It works well on me. However, I found cheaper ...</td>\n",
       "      <td>2015-08-31</td>\n",
       "      <td>Five Stars. It works well on me. However, I fo...</td>\n",
       "      <td>0.000</td>\n",
       "      <td>0.890</td>\n",
       "      <td>0.110</td>\n",
       "      <td>0.2732</td>\n",
       "      <td>[five, stars, it, works, well, on, me, however...</td>\n",
       "    </tr>\n",
       "    <tr>\n",
       "      <td>4</td>\n",
       "      <td>US</td>\n",
       "      <td>12733322</td>\n",
       "      <td>R2SV659OUJ945Y</td>\n",
       "      <td>B00A6GFD7S</td>\n",
       "      <td>765328221</td>\n",
       "      <td>Orient ER27009B Men's Symphony Automatic Stain...</td>\n",
       "      <td>Watches</td>\n",
       "      <td>4</td>\n",
       "      <td>0</td>\n",
       "      <td>0</td>\n",
       "      <td>...</td>\n",
       "      <td>Y</td>\n",
       "      <td>Beautiful face, but cheap sounding links</td>\n",
       "      <td>Beautiful watch face.  The band looks nice all...</td>\n",
       "      <td>2015-08-31</td>\n",
       "      <td>Beautiful face, but cheap sounding links. Beau...</td>\n",
       "      <td>0.024</td>\n",
       "      <td>0.715</td>\n",
       "      <td>0.261</td>\n",
       "      <td>0.9886</td>\n",
       "      <td>[beautiful, face, but, cheap, sounding, links,...</td>\n",
       "    </tr>\n",
       "    <tr>\n",
       "      <td>...</td>\n",
       "      <td>...</td>\n",
       "      <td>...</td>\n",
       "      <td>...</td>\n",
       "      <td>...</td>\n",
       "      <td>...</td>\n",
       "      <td>...</td>\n",
       "      <td>...</td>\n",
       "      <td>...</td>\n",
       "      <td>...</td>\n",
       "      <td>...</td>\n",
       "      <td>...</td>\n",
       "      <td>...</td>\n",
       "      <td>...</td>\n",
       "      <td>...</td>\n",
       "      <td>...</td>\n",
       "      <td>...</td>\n",
       "      <td>...</td>\n",
       "      <td>...</td>\n",
       "      <td>...</td>\n",
       "      <td>...</td>\n",
       "      <td>...</td>\n",
       "    </tr>\n",
       "    <tr>\n",
       "      <td>19995</td>\n",
       "      <td>US</td>\n",
       "      <td>32167840</td>\n",
       "      <td>R25II0FGG4E2V9</td>\n",
       "      <td>B002SSUQFG</td>\n",
       "      <td>354933056</td>\n",
       "      <td>Seiko Men's SNK809 Seiko 5 Automatic Stainless...</td>\n",
       "      <td>Watches</td>\n",
       "      <td>5</td>\n",
       "      <td>0</td>\n",
       "      <td>0</td>\n",
       "      <td>...</td>\n",
       "      <td>Y</td>\n",
       "      <td>Five Stars</td>\n",
       "      <td>This watch has become my every day where it's ...</td>\n",
       "      <td>2015-08-12</td>\n",
       "      <td>Five Stars. This watch has become my every day...</td>\n",
       "      <td>0.000</td>\n",
       "      <td>0.754</td>\n",
       "      <td>0.246</td>\n",
       "      <td>0.7351</td>\n",
       "      <td>[five, stars, this, watch, has, become, my, ev...</td>\n",
       "    </tr>\n",
       "    <tr>\n",
       "      <td>19996</td>\n",
       "      <td>US</td>\n",
       "      <td>2194392</td>\n",
       "      <td>R2LE55D844PP2M</td>\n",
       "      <td>B004YM2FV2</td>\n",
       "      <td>649128875</td>\n",
       "      <td>Bling Jewelry Plated Classic Round CZ Ladies W...</td>\n",
       "      <td>Watches</td>\n",
       "      <td>4</td>\n",
       "      <td>0</td>\n",
       "      <td>0</td>\n",
       "      <td>...</td>\n",
       "      <td>Y</td>\n",
       "      <td>Four Stars</td>\n",
       "      <td>pretty watch, cant get links out myself so I w...</td>\n",
       "      <td>2015-08-12</td>\n",
       "      <td>Four Stars. pretty watch, cant get links out m...</td>\n",
       "      <td>0.068</td>\n",
       "      <td>0.777</td>\n",
       "      <td>0.155</td>\n",
       "      <td>0.4215</td>\n",
       "      <td>[four, stars, pretty, watch, cant, get, links,...</td>\n",
       "    </tr>\n",
       "    <tr>\n",
       "      <td>19997</td>\n",
       "      <td>US</td>\n",
       "      <td>15315799</td>\n",
       "      <td>R3MB00E4TTUEH2</td>\n",
       "      <td>B011TBJJSM</td>\n",
       "      <td>811352940</td>\n",
       "      <td>Ritche 20mm Waterproof Silicone Rubber Watch S...</td>\n",
       "      <td>Watches</td>\n",
       "      <td>5</td>\n",
       "      <td>0</td>\n",
       "      <td>0</td>\n",
       "      <td>...</td>\n",
       "      <td>Y</td>\n",
       "      <td>Five Stars</td>\n",
       "      <td>Nice band for the money</td>\n",
       "      <td>2015-08-12</td>\n",
       "      <td>Five Stars. Nice band for the money</td>\n",
       "      <td>0.000</td>\n",
       "      <td>0.682</td>\n",
       "      <td>0.318</td>\n",
       "      <td>0.4215</td>\n",
       "      <td>[five, stars, nice, band, for, the, money]</td>\n",
       "    </tr>\n",
       "    <tr>\n",
       "      <td>19998</td>\n",
       "      <td>US</td>\n",
       "      <td>40994978</td>\n",
       "      <td>R1HZGYP9W05KJQ</td>\n",
       "      <td>B00BXQSHRI</td>\n",
       "      <td>714629498</td>\n",
       "      <td>Watch Case Press with 12 Nylon Dies, Watch Cas...</td>\n",
       "      <td>Watches</td>\n",
       "      <td>5</td>\n",
       "      <td>0</td>\n",
       "      <td>0</td>\n",
       "      <td>...</td>\n",
       "      <td>Y</td>\n",
       "      <td>Five Stars</td>\n",
       "      <td>Nice one</td>\n",
       "      <td>2015-08-12</td>\n",
       "      <td>Five Stars. Nice one</td>\n",
       "      <td>0.000</td>\n",
       "      <td>0.517</td>\n",
       "      <td>0.483</td>\n",
       "      <td>0.4215</td>\n",
       "      <td>[five, stars, nice, one]</td>\n",
       "    </tr>\n",
       "    <tr>\n",
       "      <td>19999</td>\n",
       "      <td>US</td>\n",
       "      <td>33885997</td>\n",
       "      <td>R17REN2W4557SJ</td>\n",
       "      <td>B003KRP0P0</td>\n",
       "      <td>439507467</td>\n",
       "      <td>Invicta Men's 6983 Pro Diver Collection Chrono...</td>\n",
       "      <td>Watches</td>\n",
       "      <td>2</td>\n",
       "      <td>2</td>\n",
       "      <td>2</td>\n",
       "      <td>...</td>\n",
       "      <td>Y</td>\n",
       "      <td>Moving on</td>\n",
       "      <td>The band came apart while taking the watch off...</td>\n",
       "      <td>2015-08-12</td>\n",
       "      <td>Moving on. The band came apart while taking th...</td>\n",
       "      <td>0.152</td>\n",
       "      <td>0.778</td>\n",
       "      <td>0.070</td>\n",
       "      <td>-0.5543</td>\n",
       "      <td>[moving, on, the, band, came, apart, while, ta...</td>\n",
       "    </tr>\n",
       "  </tbody>\n",
       "</table>\n",
       "<p>20000 rows × 21 columns</p>\n",
       "</div>"
      ],
      "text/plain": [
       "      marketplace  customer_id       review_id  product_id  product_parent  \\\n",
       "0              US      3653882  R3O9SGZBVQBV76  B00FALQ1ZC       937001370   \n",
       "1              US     14661224   RKH8BNC3L5DLF  B00D3RGO20       484010722   \n",
       "2              US     27324930  R2HLE8WKZSU3NL  B00DKYC7TK       361166390   \n",
       "3              US      7211452  R31U3UH5AZ42LL  B000EQS1JW       958035625   \n",
       "4              US     12733322  R2SV659OUJ945Y  B00A6GFD7S       765328221   \n",
       "...           ...          ...             ...         ...             ...   \n",
       "19995          US     32167840  R25II0FGG4E2V9  B002SSUQFG       354933056   \n",
       "19996          US      2194392  R2LE55D844PP2M  B004YM2FV2       649128875   \n",
       "19997          US     15315799  R3MB00E4TTUEH2  B011TBJJSM       811352940   \n",
       "19998          US     40994978  R1HZGYP9W05KJQ  B00BXQSHRI       714629498   \n",
       "19999          US     33885997  R17REN2W4557SJ  B003KRP0P0       439507467   \n",
       "\n",
       "                                           product_title product_category  \\\n",
       "0      Invicta Women's 15150 \"Angel\" 18k Yellow Gold ...          Watches   \n",
       "1      Kenneth Cole New York Women's KC4944 Automatic...          Watches   \n",
       "2      Ritche 22mm Black Stainless Steel Bracelet Wat...          Watches   \n",
       "3      Citizen Men's BM8180-03E Eco-Drive Stainless S...          Watches   \n",
       "4      Orient ER27009B Men's Symphony Automatic Stain...          Watches   \n",
       "...                                                  ...              ...   \n",
       "19995  Seiko Men's SNK809 Seiko 5 Automatic Stainless...          Watches   \n",
       "19996  Bling Jewelry Plated Classic Round CZ Ladies W...          Watches   \n",
       "19997  Ritche 20mm Waterproof Silicone Rubber Watch S...          Watches   \n",
       "19998  Watch Case Press with 12 Nylon Dies, Watch Cas...          Watches   \n",
       "19999  Invicta Men's 6983 Pro Diver Collection Chrono...          Watches   \n",
       "\n",
       "       star_rating  helpful_votes  total_votes  ... verified_purchase  \\\n",
       "0                5              0            0  ...                 Y   \n",
       "1                5              0            0  ...                 Y   \n",
       "2                2              1            1  ...                 Y   \n",
       "3                5              0            0  ...                 Y   \n",
       "4                4              0            0  ...                 Y   \n",
       "...            ...            ...          ...  ...               ...   \n",
       "19995            5              0            0  ...                 Y   \n",
       "19996            4              0            0  ...                 Y   \n",
       "19997            5              0            0  ...                 Y   \n",
       "19998            5              0            0  ...                 Y   \n",
       "19999            2              2            2  ...                 Y   \n",
       "\n",
       "                                  review_headline  \\\n",
       "0                                      Five Stars   \n",
       "1      I love thiswatch it keeps time wonderfully   \n",
       "2                                       Two Stars   \n",
       "3                                      Five Stars   \n",
       "4        Beautiful face, but cheap sounding links   \n",
       "...                                           ...   \n",
       "19995                                  Five Stars   \n",
       "19996                                  Four Stars   \n",
       "19997                                  Five Stars   \n",
       "19998                                  Five Stars   \n",
       "19999                                   Moving on   \n",
       "\n",
       "                                             review_body review_date  \\\n",
       "0      Absolutely love this watch! Get compliments al...  2015-08-31   \n",
       "1           I love this watch it keeps time wonderfully.  2015-08-31   \n",
       "2                                              Scratches  2015-08-31   \n",
       "3      It works well on me. However, I found cheaper ...  2015-08-31   \n",
       "4      Beautiful watch face.  The band looks nice all...  2015-08-31   \n",
       "...                                                  ...         ...   \n",
       "19995  This watch has become my every day where it's ...  2015-08-12   \n",
       "19996  pretty watch, cant get links out myself so I w...  2015-08-12   \n",
       "19997                            Nice band for the money  2015-08-12   \n",
       "19998                                           Nice one  2015-08-12   \n",
       "19999  The band came apart while taking the watch off...  2015-08-12   \n",
       "\n",
       "                                         review_fulltext    neg    neu    pos  \\\n",
       "0      Five Stars. Absolutely love this watch! Get co...  0.000  0.616  0.384   \n",
       "1      I love thiswatch it keeps time wonderfully. I ...  0.000  0.357  0.643   \n",
       "2                                   Two Stars. Scratches  0.000  1.000  0.000   \n",
       "3      Five Stars. It works well on me. However, I fo...  0.000  0.890  0.110   \n",
       "4      Beautiful face, but cheap sounding links. Beau...  0.024  0.715  0.261   \n",
       "...                                                  ...    ...    ...    ...   \n",
       "19995  Five Stars. This watch has become my every day...  0.000  0.754  0.246   \n",
       "19996  Four Stars. pretty watch, cant get links out m...  0.068  0.777  0.155   \n",
       "19997                Five Stars. Nice band for the money  0.000  0.682  0.318   \n",
       "19998                               Five Stars. Nice one  0.000  0.517  0.483   \n",
       "19999  Moving on. The band came apart while taking th...  0.152  0.778  0.070   \n",
       "\n",
       "       compound                                    review_wordlist  \n",
       "0        0.8169  [five, stars, absolutely, love, this, watch, g...  \n",
       "1        0.9531  [i, love, thiswatch, it, keeps, time, wonderfu...  \n",
       "2        0.0000                            [two, stars, scratches]  \n",
       "3        0.2732  [five, stars, it, works, well, on, me, however...  \n",
       "4        0.9886  [beautiful, face, but, cheap, sounding, links,...  \n",
       "...         ...                                                ...  \n",
       "19995    0.7351  [five, stars, this, watch, has, become, my, ev...  \n",
       "19996    0.4215  [four, stars, pretty, watch, cant, get, links,...  \n",
       "19997    0.4215         [five, stars, nice, band, for, the, money]  \n",
       "19998    0.4215                           [five, stars, nice, one]  \n",
       "19999   -0.5543  [moving, on, the, band, came, apart, while, ta...  \n",
       "\n",
       "[20000 rows x 21 columns]"
      ]
     },
     "execution_count": 69,
     "metadata": {},
     "output_type": "execute_result"
    }
   ],
   "source": [
    "df_small"
   ]
  },
  {
   "cell_type": "code",
   "execution_count": 79,
   "metadata": {},
   "outputs": [
    {
     "name": "stderr",
     "output_type": "stream",
     "text": [
      "/Users/megarock/opt/anaconda3/lib/python3.7/site-packages/ipykernel_launcher.py:1: SettingWithCopyWarning: \n",
      "A value is trying to be set on a copy of a slice from a DataFrame.\n",
      "Try using .loc[row_indexer,col_indexer] = value instead\n",
      "\n",
      "See the caveats in the documentation: http://pandas.pydata.org/pandas-docs/stable/user_guide/indexing.html#returning-a-view-versus-a-copy\n",
      "  \"\"\"Entry point for launching an IPython kernel.\n"
     ]
    }
   ],
   "source": [
    "df_small['review_wordlist'] = df_small['review_wordlist'].map(lambda x: ' '.join(x))"
   ]
  },
  {
   "cell_type": "code",
   "execution_count": null,
   "metadata": {},
   "outputs": [],
   "source": []
  },
  {
   "cell_type": "code",
   "execution_count": null,
   "metadata": {},
   "outputs": [],
   "source": []
  },
  {
   "cell_type": "code",
   "execution_count": null,
   "metadata": {},
   "outputs": [],
   "source": []
  },
  {
   "cell_type": "code",
   "execution_count": null,
   "metadata": {},
   "outputs": [],
   "source": []
  },
  {
   "cell_type": "code",
   "execution_count": null,
   "metadata": {},
   "outputs": [],
   "source": []
  },
  {
   "cell_type": "code",
   "execution_count": null,
   "metadata": {},
   "outputs": [],
   "source": []
  },
  {
   "cell_type": "code",
   "execution_count": 80,
   "metadata": {},
   "outputs": [],
   "source": [
    "X = df_small.loc[:, ['helpful_votes', 'total_votes', 'neg', 'neu', 'pos', 'compound', 'review_wordlist']]\n",
    "y = df_small.loc[:, 'star_rating']"
   ]
  },
  {
   "cell_type": "code",
   "execution_count": 81,
   "metadata": {},
   "outputs": [],
   "source": [
    "X_train, X_test, y_train, y_test = train_test_split(X, y, test_size = 0.25)"
   ]
  },
  {
   "cell_type": "code",
   "execution_count": 82,
   "metadata": {},
   "outputs": [],
   "source": [
    "# create our training data list - this is a list of strings, with each string being a review\n",
    "\n",
    "clean_train_data = []\n",
    "\n",
    "for train_data in X_train['review_wordlist']:\n",
    "    clean_train_data.append(train_data)"
   ]
  },
  {
   "cell_type": "code",
   "execution_count": 83,
   "metadata": {},
   "outputs": [],
   "source": [
    "# create test data list\n",
    "\n",
    "clean_test_data = []\n",
    "\n",
    "for test_data in X_test['review_wordlist']:\n",
    "    clean_test_data.append(test_data)"
   ]
  },
  {
   "cell_type": "code",
   "execution_count": 84,
   "metadata": {},
   "outputs": [],
   "source": [
    "# instantiate our CountVectorizer. This counts the number of appearances of all the words in our training data and\n",
    "# eliminates common english stop words. 5000 max features works well for our purposes (tested various numbers). Our\n",
    "# data is already preprocessed and tokenized manually earlier. ngram_range is 1,3, although all or nearly all our \n",
    "# features are single words\n",
    "\n",
    "vectorizer = CountVectorizer(analyzer = \"word\",\n",
    "                             tokenizer = None,\n",
    "                             preprocessor = None,\n",
    "                             stop_words = 'english',\n",
    "                             max_features = 5000,\n",
    "                             ngram_range = (1, 3))"
   ]
  },
  {
   "cell_type": "code",
   "execution_count": 85,
   "metadata": {},
   "outputs": [],
   "source": [
    "# fit our training data and test data lists to our count_vectorizer\n",
    "\n",
    "train_data_features = vectorizer.fit_transform(clean_train_data)\n",
    "\n",
    "test_data_features = vectorizer.transform(clean_test_data)\n",
    "\n",
    "# convert to array\n",
    "\n",
    "train_data_features = train_data_features.toarray()"
   ]
  },
  {
   "cell_type": "code",
   "execution_count": 86,
   "metadata": {},
   "outputs": [
    {
     "data": {
      "text/plain": [
       "((15000, 5000), (5000, 5000))"
      ]
     },
     "execution_count": 86,
     "metadata": {},
     "output_type": "execute_result"
    }
   ],
   "source": [
    "# check shapes\n",
    "\n",
    "train_data_features.shape, test_data_features.shape"
   ]
  },
  {
   "cell_type": "code",
   "execution_count": 87,
   "metadata": {},
   "outputs": [
    {
     "data": {
      "text/plain": [
       "['00',\n",
       " '00 watch',\n",
       " '000',\n",
       " '01',\n",
       " '10',\n",
       " '10 days',\n",
       " '10 minutes',\n",
       " '10 seconds',\n",
       " '10 year',\n",
       " '10 year battery',\n",
       " '10 year old',\n",
       " '10 years',\n",
       " '100',\n",
       " '1000',\n",
       " '100m',\n",
       " '11',\n",
       " '12',\n",
       " '12 00',\n",
       " '12 hours',\n",
       " '120',\n",
       " '13',\n",
       " '13 year',\n",
       " '13 year old',\n",
       " '14',\n",
       " '15',\n",
       " '15 minutes',\n",
       " '15 years',\n",
       " '150',\n",
       " '16',\n",
       " '17',\n",
       " '18',\n",
       " '19',\n",
       " '1st',\n",
       " '20',\n",
       " '20 minutes',\n",
       " '20 years',\n",
       " '200',\n",
       " '2014',\n",
       " '2015',\n",
       " '20mm',\n",
       " '21',\n",
       " '22',\n",
       " '22mm',\n",
       " '24',\n",
       " '24 hour',\n",
       " '24 hours',\n",
       " '24 hr',\n",
       " '25',\n",
       " '28',\n",
       " '2nd',\n",
       " '30',\n",
       " '30 day',\n",
       " '30 minutes',\n",
       " '300',\n",
       " '31',\n",
       " '34',\n",
       " '34 34',\n",
       " '34 br',\n",
       " '34 button',\n",
       " '34 watch',\n",
       " '34 watches',\n",
       " '34 water',\n",
       " '34 water resistant',\n",
       " '34 wrist',\n",
       " '35',\n",
       " '36',\n",
       " '360',\n",
       " '3rd',\n",
       " '40',\n",
       " '400',\n",
       " '40mm',\n",
       " '42',\n",
       " '42mm',\n",
       " '44mm',\n",
       " '45',\n",
       " '4th',\n",
       " '50',\n",
       " '500',\n",
       " '50mm',\n",
       " '52mm',\n",
       " '55',\n",
       " '59',\n",
       " '60',\n",
       " '600',\n",
       " '70',\n",
       " '75',\n",
       " '7750',\n",
       " '80',\n",
       " '90',\n",
       " '99',\n",
       " 'ability',\n",
       " 'able',\n",
       " 'able tell',\n",
       " 'able use',\n",
       " 'able wear',\n",
       " 'absolute',\n",
       " 'absolutely',\n",
       " 'absolutely amazing',\n",
       " 'absolutely beautiful',\n",
       " 'absolutely gorgeous',\n",
       " 'absolutely love',\n",
       " 'absolutely love watch',\n",
       " 'absolutely loved',\n",
       " 'absolutely loves',\n",
       " 'absolutely stunning',\n",
       " 'abuse',\n",
       " 'accent',\n",
       " 'accents',\n",
       " 'access',\n",
       " 'accessories',\n",
       " 'accessory',\n",
       " 'accidental',\n",
       " 'accidentally',\n",
       " 'according',\n",
       " 'accuracy',\n",
       " 'accuracy watch',\n",
       " 'accurate',\n",
       " 'accurate time',\n",
       " 'accurate watch',\n",
       " 'accurately',\n",
       " 'action',\n",
       " 'active',\n",
       " 'activities',\n",
       " 'activity',\n",
       " 'actual',\n",
       " 'actual watch',\n",
       " 'actually',\n",
       " 'actually looks',\n",
       " 'ad',\n",
       " 'adapter',\n",
       " 'add',\n",
       " 'added',\n",
       " 'adding',\n",
       " 'addition',\n",
       " 'addition collection',\n",
       " 'additional',\n",
       " 'adds',\n",
       " 'adequate',\n",
       " 'adjust',\n",
       " 'adjust band',\n",
       " 'adjust date',\n",
       " 'adjust size',\n",
       " 'adjust time',\n",
       " 'adjust watch',\n",
       " 'adjust wrist',\n",
       " 'adjustable',\n",
       " 'adjusted',\n",
       " 'adjusting',\n",
       " 'adjustment',\n",
       " 'adjustments',\n",
       " 'adjusts',\n",
       " 'admit',\n",
       " 'adorable',\n",
       " 'adult',\n",
       " 'adults',\n",
       " 'advanced',\n",
       " 'advertised',\n",
       " 'advice',\n",
       " 'advise',\n",
       " 'aesthetic',\n",
       " 'aesthetically',\n",
       " 'afford',\n",
       " 'affordable',\n",
       " 'affordable price',\n",
       " 'affordable watch',\n",
       " 'afraid',\n",
       " 'age',\n",
       " 'ago',\n",
       " 'agree',\n",
       " 'ahead',\n",
       " 'air',\n",
       " 'alarm',\n",
       " 'alarm clock',\n",
       " 'alarms',\n",
       " 'alert',\n",
       " 'allow',\n",
       " 'allowed',\n",
       " 'allows',\n",
       " 'alot',\n",
       " 'alright',\n",
       " 'alternative',\n",
       " 'altimeter',\n",
       " 'amazed',\n",
       " 'amazing',\n",
       " 'amazing love',\n",
       " 'amazing price',\n",
       " 'amazing product',\n",
       " 'amazing quality',\n",
       " 'amazing watch',\n",
       " 'amazon',\n",
       " 'amazon com',\n",
       " 'amazon price',\n",
       " 'amazon prime',\n",
       " 'amazon return',\n",
       " 'amazon watch',\n",
       " 'analog',\n",
       " 'analog digital',\n",
       " 'analog hands',\n",
       " 'analog time',\n",
       " 'analog watch']"
      ]
     },
     "execution_count": 87,
     "metadata": {},
     "output_type": "execute_result"
    }
   ],
   "source": [
    "# I wanted check that the features corpus was as expected - removed print statement for readability\n",
    "\n",
    "vocab = vectorizer.get_feature_names()\n",
    "vocab[:200]"
   ]
  },
  {
   "cell_type": "code",
   "execution_count": null,
   "metadata": {},
   "outputs": [],
   "source": []
  },
  {
   "cell_type": "code",
   "execution_count": null,
   "metadata": {},
   "outputs": [],
   "source": []
  },
  {
   "cell_type": "code",
   "execution_count": 90,
   "metadata": {},
   "outputs": [],
   "source": []
  },
  {
   "cell_type": "code",
   "execution_count": null,
   "metadata": {},
   "outputs": [],
   "source": []
  },
  {
   "cell_type": "code",
   "execution_count": 88,
   "metadata": {},
   "outputs": [
    {
     "data": {
      "text/plain": [
       "5    9117\n",
       "4    2521\n",
       "1    1412\n",
       "3    1163\n",
       "2     787\n",
       "Name: star_rating, dtype: int64"
      ]
     },
     "execution_count": 88,
     "metadata": {},
     "output_type": "execute_result"
    }
   ],
   "source": [
    "y_train.value_counts()"
   ]
  },
  {
   "cell_type": "code",
   "execution_count": 93,
   "metadata": {},
   "outputs": [
    {
     "data": {
      "text/plain": [
       "5    9117\n",
       "4    9117\n",
       "3    9117\n",
       "2    9117\n",
       "1    9117\n",
       "Name: star_rating, dtype: int64"
      ]
     },
     "execution_count": 93,
     "metadata": {},
     "output_type": "execute_result"
    }
   ],
   "source": [
    "smote = SMOTE()\n",
    "X_train_resampled, y_train_resampled = smote.fit_sample(X_train.drop(columns='review_wordlist'), y_train) \n",
    "y_train_resampled.value_counts()"
   ]
  },
  {
   "cell_type": "code",
   "execution_count": 94,
   "metadata": {},
   "outputs": [
    {
     "data": {
      "text/plain": [
       "LogisticRegression(C=1000000000000.0, class_weight=None, dual=False,\n",
       "                   fit_intercept=True, intercept_scaling=1, l1_ratio=None,\n",
       "                   max_iter=100, multi_class='auto', n_jobs=None, penalty='l2',\n",
       "                   random_state=None, solver='liblinear', tol=0.0001, verbose=0,\n",
       "                   warm_start=False)"
      ]
     },
     "execution_count": 94,
     "metadata": {},
     "output_type": "execute_result"
    }
   ],
   "source": [
    "# Test out different classification algorithms\n",
    "# Logistic Regression\n",
    "\n",
    "logreg = LogisticRegression(fit_intercept=True, C=1e12, solver='liblinear', )\n",
    "model_log = logreg.fit(X_train_resampled, y_train_resampled)\n",
    "model_log"
   ]
  },
  {
   "cell_type": "code",
   "execution_count": 99,
   "metadata": {},
   "outputs": [],
   "source": [
    "y_hat_test = logreg.predict(X_test.drop(columns='review_wordlist'))\n",
    "y_hat_train = logreg.predict(X_train_resampled)"
   ]
  },
  {
   "cell_type": "code",
   "execution_count": 100,
   "metadata": {},
   "outputs": [
    {
     "name": "stdout",
     "output_type": "stream",
     "text": [
      "0    18356\n",
      "1    18101\n",
      "2     6761\n",
      "3     2030\n",
      "4      337\n",
      "Name: star_rating, dtype: int64\n",
      "0    0.402676\n",
      "1    0.397082\n",
      "2    0.148316\n",
      "3    0.044532\n",
      "4    0.007393\n",
      "Name: star_rating, dtype: float64\n"
     ]
    }
   ],
   "source": [
    "# We could subtract the two columns. If values or equal, difference will be zero. Then count number of zeros \n",
    "residuals = np.abs(y_train_resampled - y_hat_train)\n",
    "print(pd.Series(residuals).value_counts())\n",
    "print(pd.Series(residuals).value_counts(normalize=True))"
   ]
  },
  {
   "cell_type": "code",
   "execution_count": 101,
   "metadata": {},
   "outputs": [
    {
     "name": "stdout",
     "output_type": "stream",
     "text": [
      "0    2632\n",
      "1    1526\n",
      "2     459\n",
      "3     318\n",
      "4      65\n",
      "Name: star_rating, dtype: int64\n",
      "0    0.5264\n",
      "1    0.3052\n",
      "2    0.0918\n",
      "3    0.0636\n",
      "4    0.0130\n",
      "Name: star_rating, dtype: float64\n"
     ]
    }
   ],
   "source": [
    "residuals = np.abs(y_test - y_hat_test)\n",
    "print(pd.Series(residuals).value_counts())\n",
    "print(pd.Series(residuals).value_counts(normalize=True))"
   ]
  },
  {
   "cell_type": "code",
   "execution_count": 102,
   "metadata": {},
   "outputs": [
    {
     "data": {
      "text/plain": [
       "array([[5569, 1898,  878,  610,  162],\n",
       "       [3968, 2136, 1433, 1203,  377],\n",
       "       [2065, 1670, 1750, 2134, 1498],\n",
       "       [ 474,  693, 1090, 2751, 4109],\n",
       "       [ 175,  569,  424, 1799, 6150]])"
      ]
     },
     "execution_count": 102,
     "metadata": {},
     "output_type": "execute_result"
    }
   ],
   "source": [
    "# Confusion Matrix for training set - Logistic Regression\n",
    "cf = confusion_matrix(y_train_resampled, y_hat_train)\n",
    "cf"
   ]
  },
  {
   "cell_type": "code",
   "execution_count": 103,
   "metadata": {},
   "outputs": [
    {
     "name": "stdout",
     "output_type": "stream",
     "text": [
      "              precision    recall  f1-score   support\n",
      "\n",
      "           1       0.45      0.61      0.52      9117\n",
      "           2       0.31      0.23      0.27      9117\n",
      "           3       0.31      0.19      0.24      9117\n",
      "           4       0.32      0.30      0.31      9117\n",
      "           5       0.50      0.67      0.57      9117\n",
      "\n",
      "    accuracy                           0.40     45585\n",
      "   macro avg       0.38      0.40      0.38     45585\n",
      "weighted avg       0.38      0.40      0.38     45585\n",
      "\n"
     ]
    }
   ],
   "source": [
    "print(classification_report(y_train_resampled, y_hat_train))"
   ]
  },
  {
   "cell_type": "code",
   "execution_count": 104,
   "metadata": {},
   "outputs": [],
   "source": [
    "# ROC Curve"
   ]
  },
  {
   "cell_type": "code",
   "execution_count": 129,
   "metadata": {},
   "outputs": [
    {
     "name": "stderr",
     "output_type": "stream",
     "text": [
      "/Users/megarock/opt/anaconda3/lib/python3.7/site-packages/sklearn/linear_model/_logistic.py:940: ConvergenceWarning: lbfgs failed to converge (status=1):\n",
      "STOP: TOTAL NO. of ITERATIONS REACHED LIMIT.\n",
      "\n",
      "Increase the number of iterations (max_iter) or scale the data as shown in:\n",
      "    https://scikit-learn.org/stable/modules/preprocessing.html\n",
      "Please also refer to the documentation for alternative solver options:\n",
      "    https://scikit-learn.org/stable/modules/linear_model.html#logistic-regression\n",
      "  extra_warning_msg=_LOGISTIC_SOLVER_CONVERGENCE_MSG)\n"
     ]
    },
    {
     "data": {
      "text/plain": [
       "LogisticRegression(C=1.0, class_weight=None, dual=False, fit_intercept=True,\n",
       "                   intercept_scaling=1, l1_ratio=None, max_iter=100,\n",
       "                   multi_class='auto', n_jobs=None, penalty='l2',\n",
       "                   random_state=None, solver='lbfgs', tol=0.0001, verbose=0,\n",
       "                   warm_start=False)"
      ]
     },
     "execution_count": 129,
     "metadata": {},
     "output_type": "execute_result"
    }
   ],
   "source": [
    "# fit logistic regression model\n",
    "\n",
    "lr = LogisticRegression(penalty = 'l2')\n",
    "lr.fit(train_data_features, y_train)"
   ]
  },
  {
   "cell_type": "code",
   "execution_count": 130,
   "metadata": {},
   "outputs": [
    {
     "data": {
      "text/plain": [
       "0.8889333333333334"
      ]
     },
     "execution_count": 130,
     "metadata": {},
     "output_type": "execute_result"
    }
   ],
   "source": [
    "lr.score(train_data_features, y_train)"
   ]
  },
  {
   "cell_type": "code",
   "execution_count": null,
   "metadata": {},
   "outputs": [],
   "source": []
  },
  {
   "cell_type": "code",
   "execution_count": null,
   "metadata": {},
   "outputs": [],
   "source": []
  },
  {
   "cell_type": "code",
   "execution_count": null,
   "metadata": {},
   "outputs": [],
   "source": []
  },
  {
   "cell_type": "code",
   "execution_count": 105,
   "metadata": {},
   "outputs": [
    {
     "data": {
      "text/plain": [
       "array([[8124,  482,  291,  156,   64],\n",
       "       [1574, 6836,  431,  192,   84],\n",
       "       [1266,  428, 6674,  363,  386],\n",
       "       [ 634,  362,  566, 6060, 1495],\n",
       "       [ 758,  354,  661, 1344, 6000]])"
      ]
     },
     "execution_count": 105,
     "metadata": {},
     "output_type": "execute_result"
    }
   ],
   "source": [
    "# K Nearest Neighbors\n",
    "\n",
    "# Instantiate KNeighborsClassifier\n",
    "clf_knn = KNeighborsClassifier()\n",
    "\n",
    "# Fit the classifier\n",
    "clf_knn.fit(X_train_resampled, y_train_resampled)\n",
    "\n",
    "# Predict on the training set\n",
    "y_hat_knn = clf_knn.predict(X_train_resampled)\n",
    "\n",
    "cm_knn = confusion_matrix(y_train_resampled, y_hat_knn)\n",
    "cm_knn"
   ]
  },
  {
   "cell_type": "code",
   "execution_count": 106,
   "metadata": {},
   "outputs": [
    {
     "name": "stdout",
     "output_type": "stream",
     "text": [
      "              precision    recall  f1-score   support\n",
      "\n",
      "           1       0.66      0.89      0.76      9117\n",
      "           2       0.81      0.75      0.78      9117\n",
      "           3       0.77      0.73      0.75      9117\n",
      "           4       0.75      0.66      0.70      9117\n",
      "           5       0.75      0.66      0.70      9117\n",
      "\n",
      "    accuracy                           0.74     45585\n",
      "   macro avg       0.75      0.74      0.74     45585\n",
      "weighted avg       0.75      0.74      0.74     45585\n",
      "\n"
     ]
    }
   ],
   "source": [
    "print(classification_report(y_train_resampled, y_hat_knn))"
   ]
  },
  {
   "cell_type": "code",
   "execution_count": 107,
   "metadata": {},
   "outputs": [],
   "source": [
    "# Improve model performance by finding the best value for K"
   ]
  },
  {
   "cell_type": "code",
   "execution_count": 132,
   "metadata": {},
   "outputs": [
    {
     "name": "stdout",
     "output_type": "stream",
     "text": [
      "              precision    recall  f1-score   support\n",
      "\n",
      "           1       0.69      0.75      0.72      1412\n",
      "           2       0.61      0.22      0.32       787\n",
      "           3       0.63      0.25      0.36      1163\n",
      "           4       0.52      0.30      0.38      2521\n",
      "           5       0.76      0.93      0.84      9117\n",
      "\n",
      "    accuracy                           0.72     15000\n",
      "   macro avg       0.64      0.49      0.52     15000\n",
      "weighted avg       0.69      0.72      0.68     15000\n",
      "\n"
     ]
    },
    {
     "data": {
      "text/plain": [
       "array([[1054,   26,   19,   51,  262],\n",
       "       [ 153,  173,   36,   76,  349],\n",
       "       [ 127,   33,  292,  159,  552],\n",
       "       [  91,   26,   68,  758, 1578],\n",
       "       [ 102,   27,   49,  427, 8512]])"
      ]
     },
     "execution_count": 132,
     "metadata": {},
     "output_type": "execute_result"
    }
   ],
   "source": [
    "clf_knn2 = KNeighborsClassifier()\n",
    "\n",
    "# Fit the classifier\n",
    "clf_knn2.fit(train_data_features, y_train)\n",
    "\n",
    "# Predict on the training set\n",
    "y_hat_knn2 = clf_knn2.predict(train_data_features)\n",
    "\n",
    "print(classification_report(y_train, y_hat_knn2))\n",
    "\n",
    "cm_knn2 = confusion_matrix(y_train, y_hat_knn2)\n",
    "cm_knn2"
   ]
  },
  {
   "cell_type": "code",
   "execution_count": null,
   "metadata": {},
   "outputs": [],
   "source": []
  },
  {
   "cell_type": "code",
   "execution_count": null,
   "metadata": {},
   "outputs": [],
   "source": []
  },
  {
   "cell_type": "code",
   "execution_count": null,
   "metadata": {},
   "outputs": [],
   "source": []
  },
  {
   "cell_type": "code",
   "execution_count": null,
   "metadata": {},
   "outputs": [],
   "source": []
  },
  {
   "cell_type": "code",
   "execution_count": null,
   "metadata": {},
   "outputs": [],
   "source": []
  },
  {
   "cell_type": "code",
   "execution_count": null,
   "metadata": {},
   "outputs": [],
   "source": []
  },
  {
   "cell_type": "code",
   "execution_count": 108,
   "metadata": {},
   "outputs": [
    {
     "data": {
      "text/plain": [
       "array([[8136,  970,    4,    3,    4],\n",
       "       [ 154, 8954,    3,    1,    5],\n",
       "       [ 122,  891, 7869,  134,  101],\n",
       "       [  22,  406,   23, 8216,  450],\n",
       "       [  59,  459,   25,  412, 8162]])"
      ]
     },
     "execution_count": 108,
     "metadata": {},
     "output_type": "execute_result"
    }
   ],
   "source": [
    "# Decision Trees\n",
    "\n",
    "clf_dt = DecisionTreeClassifier(criterion='entropy')\n",
    "\n",
    "clf_dt.fit(X_train_resampled, y_train_resampled)\n",
    "\n",
    "# Predict on the training set\n",
    "y_hat_dt = clf_dt.predict(X_train_resampled)\n",
    "\n",
    "cm_dt = confusion_matrix(y_train_resampled, y_hat_dt)\n",
    "cm_dt"
   ]
  },
  {
   "cell_type": "code",
   "execution_count": 109,
   "metadata": {},
   "outputs": [
    {
     "name": "stdout",
     "output_type": "stream",
     "text": [
      "              precision    recall  f1-score   support\n",
      "\n",
      "           1       0.96      0.89      0.92      9117\n",
      "           2       0.77      0.98      0.86      9117\n",
      "           3       0.99      0.86      0.92      9117\n",
      "           4       0.94      0.90      0.92      9117\n",
      "           5       0.94      0.90      0.92      9117\n",
      "\n",
      "    accuracy                           0.91     45585\n",
      "   macro avg       0.92      0.91      0.91     45585\n",
      "weighted avg       0.92      0.91      0.91     45585\n",
      "\n"
     ]
    }
   ],
   "source": [
    "print(classification_report(y_train_resampled, y_hat_dt))"
   ]
  },
  {
   "cell_type": "code",
   "execution_count": 133,
   "metadata": {},
   "outputs": [
    {
     "name": "stdout",
     "output_type": "stream",
     "text": [
      "              precision    recall  f1-score   support\n",
      "\n",
      "           1       1.00      1.00      1.00      1412\n",
      "           2       0.99      0.98      0.98       787\n",
      "           3       0.99      0.94      0.97      1163\n",
      "           4       0.98      0.89      0.93      2521\n",
      "           5       0.96      1.00      0.98      9117\n",
      "\n",
      "    accuracy                           0.97     15000\n",
      "   macro avg       0.98      0.96      0.97     15000\n",
      "weighted avg       0.97      0.97      0.97     15000\n",
      "\n"
     ]
    },
    {
     "data": {
      "text/plain": [
       "array([[1412,    0,    0,    0,    0],\n",
       "       [   0,  773,    2,    1,   11],\n",
       "       [   0,    8, 1095,    5,   55],\n",
       "       [   0,    3,    3, 2234,  281],\n",
       "       [   0,    0,    5,   39, 9073]])"
      ]
     },
     "execution_count": 133,
     "metadata": {},
     "output_type": "execute_result"
    }
   ],
   "source": [
    "clf_dt2 = DecisionTreeClassifier(criterion='entropy')\n",
    "\n",
    "# Fit the classifier\n",
    "clf_dt2.fit(train_data_features, y_train)\n",
    "\n",
    "# Predict on the training set\n",
    "y_hat_dt2 = clf_dt2.predict(train_data_features)\n",
    "\n",
    "print(classification_report(y_train, y_hat_dt2))\n",
    "\n",
    "cm_dt2 = confusion_matrix(y_train, y_hat_dt2)\n",
    "cm_dt2"
   ]
  },
  {
   "cell_type": "code",
   "execution_count": null,
   "metadata": {},
   "outputs": [],
   "source": []
  },
  {
   "cell_type": "code",
   "execution_count": 110,
   "metadata": {},
   "outputs": [
    {
     "data": {
      "text/plain": [
       "0.5059778435888999"
      ]
     },
     "execution_count": 110,
     "metadata": {},
     "output_type": "execute_result"
    }
   ],
   "source": [
    "# Bagged Trees\n",
    "\n",
    "# Instantiate a BaggingClassifier\n",
    "bagged_tree =  BaggingClassifier(DecisionTreeClassifier(criterion='gini', max_leaf_nodes=100), \n",
    "                                 n_estimators=20)\n",
    "\n",
    "# Fit to the training data\n",
    "bagged_tree.fit(X_train_resampled, y_train_resampled)\n",
    "\n",
    "bagged_tree.score(X_train_resampled, y_train_resampled)"
   ]
  },
  {
   "cell_type": "code",
   "execution_count": 111,
   "metadata": {},
   "outputs": [
    {
     "data": {
      "text/plain": [
       "array([[5608, 2090,  907,  416,   96],\n",
       "       [2304, 4847,  950,  740,  276],\n",
       "       [1127, 1981, 3460, 1747,  802],\n",
       "       [ 393,  948, 1214, 3620, 2942],\n",
       "       [ 196,  656,  595, 2140, 5530]])"
      ]
     },
     "execution_count": 111,
     "metadata": {},
     "output_type": "execute_result"
    }
   ],
   "source": [
    "y_hat_bagged = bagged_tree.predict(X_train_resampled)\n",
    "\n",
    "cm_bagged = confusion_matrix(y_train_resampled, y_hat_bagged)\n",
    "cm_bagged"
   ]
  },
  {
   "cell_type": "code",
   "execution_count": 112,
   "metadata": {},
   "outputs": [
    {
     "name": "stdout",
     "output_type": "stream",
     "text": [
      "              precision    recall  f1-score   support\n",
      "\n",
      "           1       0.58      0.62      0.60      9117\n",
      "           2       0.46      0.53      0.49      9117\n",
      "           3       0.49      0.38      0.43      9117\n",
      "           4       0.42      0.40      0.41      9117\n",
      "           5       0.57      0.61      0.59      9117\n",
      "\n",
      "    accuracy                           0.51     45585\n",
      "   macro avg       0.50      0.51      0.50     45585\n",
      "weighted avg       0.50      0.51      0.50     45585\n",
      "\n"
     ]
    }
   ],
   "source": [
    "print(classification_report(y_train_resampled, y_hat_bagged))"
   ]
  },
  {
   "cell_type": "code",
   "execution_count": null,
   "metadata": {},
   "outputs": [],
   "source": []
  },
  {
   "cell_type": "code",
   "execution_count": 113,
   "metadata": {},
   "outputs": [],
   "source": [
    "# Random Forest"
   ]
  },
  {
   "cell_type": "code",
   "execution_count": 114,
   "metadata": {},
   "outputs": [
    {
     "data": {
      "text/plain": [
       "0.6105078424920478"
      ]
     },
     "execution_count": 114,
     "metadata": {},
     "output_type": "execute_result"
    }
   ],
   "source": [
    "# Instantiate and fit a RandomForestClassifier\n",
    "forest = RandomForestClassifier(n_estimators=100, max_depth = 10)\n",
    "forest.fit(X_train_resampled, y_train_resampled)\n",
    "forest.score(X_train_resampled, y_train_resampled)"
   ]
  },
  {
   "cell_type": "code",
   "execution_count": 115,
   "metadata": {},
   "outputs": [
    {
     "data": {
      "text/plain": [
       "array([[6322, 1717,  662,  326,   90],\n",
       "       [1399, 6303,  674,  473,  268],\n",
       "       [ 894, 1655, 4770,  927,  871],\n",
       "       [ 346,  876,  945, 4316, 2634],\n",
       "       [ 174,  660,  552, 1612, 6119]])"
      ]
     },
     "execution_count": 115,
     "metadata": {},
     "output_type": "execute_result"
    }
   ],
   "source": [
    "y_hat_forest = forest.predict(X_train_resampled)\n",
    "\n",
    "cm_forest = confusion_matrix(y_train_resampled, y_hat_forest)\n",
    "cm_forest"
   ]
  },
  {
   "cell_type": "code",
   "execution_count": 116,
   "metadata": {},
   "outputs": [
    {
     "name": "stdout",
     "output_type": "stream",
     "text": [
      "              precision    recall  f1-score   support\n",
      "\n",
      "           1       0.69      0.69      0.69      9117\n",
      "           2       0.56      0.69      0.62      9117\n",
      "           3       0.63      0.52      0.57      9117\n",
      "           4       0.56      0.47      0.51      9117\n",
      "           5       0.61      0.67      0.64      9117\n",
      "\n",
      "    accuracy                           0.61     45585\n",
      "   macro avg       0.61      0.61      0.61     45585\n",
      "weighted avg       0.61      0.61      0.61     45585\n",
      "\n"
     ]
    }
   ],
   "source": [
    "print(classification_report(y_train_resampled, y_hat_forest))"
   ]
  },
  {
   "cell_type": "code",
   "execution_count": 117,
   "metadata": {},
   "outputs": [],
   "source": [
    "# Grid Search / Random Search to find optimal parameters"
   ]
  },
  {
   "cell_type": "code",
   "execution_count": null,
   "metadata": {},
   "outputs": [],
   "source": []
  },
  {
   "cell_type": "code",
   "execution_count": null,
   "metadata": {},
   "outputs": [],
   "source": []
  },
  {
   "cell_type": "code",
   "execution_count": 118,
   "metadata": {},
   "outputs": [],
   "source": [
    "# SVM / Linear SVC"
   ]
  },
  {
   "cell_type": "code",
   "execution_count": 119,
   "metadata": {},
   "outputs": [],
   "source": [
    "# Naive Bayes?"
   ]
  },
  {
   "cell_type": "code",
   "execution_count": 120,
   "metadata": {},
   "outputs": [],
   "source": [
    "# SVC?"
   ]
  },
  {
   "cell_type": "code",
   "execution_count": 121,
   "metadata": {},
   "outputs": [],
   "source": [
    "# Ensemble Classifiers"
   ]
  },
  {
   "cell_type": "code",
   "execution_count": 122,
   "metadata": {},
   "outputs": [
    {
     "data": {
      "text/plain": [
       "0.4155972359328727"
      ]
     },
     "execution_count": 122,
     "metadata": {},
     "output_type": "execute_result"
    }
   ],
   "source": [
    "# Adaboost\n",
    "# Instantiate an AdaBoostClassifier\n",
    "clf_ab = AdaBoostClassifier()\n",
    "\n",
    "clf_ab.fit(X_train_resampled, y_train_resampled)\n",
    "clf_ab.score(X_train_resampled, y_train_resampled)"
   ]
  },
  {
   "cell_type": "code",
   "execution_count": 123,
   "metadata": {},
   "outputs": [
    {
     "data": {
      "text/plain": [
       "array([[4280, 3412,  961,  345,  119],\n",
       "       [2533, 4122, 1465,  733,  264],\n",
       "       [1333, 2956, 2037, 1733, 1058],\n",
       "       [ 220, 1237, 1449, 2963, 3248],\n",
       "       [ 156,  687,  641, 2090, 5543]])"
      ]
     },
     "execution_count": 123,
     "metadata": {},
     "output_type": "execute_result"
    }
   ],
   "source": [
    "y_hat_ab = clf_ab.predict(X_train_resampled)\n",
    "\n",
    "cm_ab = confusion_matrix(y_train_resampled, y_hat_ab)\n",
    "cm_ab"
   ]
  },
  {
   "cell_type": "code",
   "execution_count": 124,
   "metadata": {},
   "outputs": [
    {
     "name": "stdout",
     "output_type": "stream",
     "text": [
      "              precision    recall  f1-score   support\n",
      "\n",
      "           1       0.50      0.47      0.49      9117\n",
      "           2       0.33      0.45      0.38      9117\n",
      "           3       0.31      0.22      0.26      9117\n",
      "           4       0.38      0.32      0.35      9117\n",
      "           5       0.54      0.61      0.57      9117\n",
      "\n",
      "    accuracy                           0.42     45585\n",
      "   macro avg       0.41      0.42      0.41     45585\n",
      "weighted avg       0.41      0.42      0.41     45585\n",
      "\n"
     ]
    }
   ],
   "source": [
    "print(classification_report(y_train_resampled, y_hat_ab))"
   ]
  },
  {
   "cell_type": "code",
   "execution_count": null,
   "metadata": {},
   "outputs": [],
   "source": []
  },
  {
   "cell_type": "code",
   "execution_count": null,
   "metadata": {},
   "outputs": [],
   "source": []
  },
  {
   "cell_type": "code",
   "execution_count": null,
   "metadata": {},
   "outputs": [],
   "source": []
  },
  {
   "cell_type": "code",
   "execution_count": 125,
   "metadata": {},
   "outputs": [
    {
     "data": {
      "text/plain": [
       "0.48616869584293076"
      ]
     },
     "execution_count": 125,
     "metadata": {},
     "output_type": "execute_result"
    }
   ],
   "source": [
    "# Instantiate an GradientBoostingClassifier\n",
    "clf_gb = GradientBoostingClassifier()\n",
    "\n",
    "clf_gb.fit(X_train_resampled, y_train_resampled)\n",
    "clf_gb.score(X_train_resampled, y_train_resampled)"
   ]
  },
  {
   "cell_type": "code",
   "execution_count": 126,
   "metadata": {},
   "outputs": [
    {
     "data": {
      "text/plain": [
       "array([[4979, 2620, 1013,  405,  100],\n",
       "       [2030, 4694, 1371,  704,  318],\n",
       "       [1037, 2536, 2905, 1679,  960],\n",
       "       [ 258, 1026, 1285, 3693, 2855],\n",
       "       [ 122,  686,  608, 1810, 5891]])"
      ]
     },
     "execution_count": 126,
     "metadata": {},
     "output_type": "execute_result"
    }
   ],
   "source": [
    "y_hat_gb = clf_gb.predict(X_train_resampled)\n",
    "\n",
    "cm_gb = confusion_matrix(y_train_resampled, y_hat_gb)\n",
    "cm_gb"
   ]
  },
  {
   "cell_type": "code",
   "execution_count": 127,
   "metadata": {},
   "outputs": [
    {
     "name": "stdout",
     "output_type": "stream",
     "text": [
      "              precision    recall  f1-score   support\n",
      "\n",
      "           1       0.59      0.55      0.57      9117\n",
      "           2       0.41      0.51      0.45      9117\n",
      "           3       0.40      0.32      0.36      9117\n",
      "           4       0.45      0.41      0.42      9117\n",
      "           5       0.58      0.65      0.61      9117\n",
      "\n",
      "    accuracy                           0.49     45585\n",
      "   macro avg       0.49      0.49      0.48     45585\n",
      "weighted avg       0.49      0.49      0.48     45585\n",
      "\n"
     ]
    }
   ],
   "source": [
    "print(classification_report(y_train_resampled, y_hat_gb))"
   ]
  },
  {
   "cell_type": "code",
   "execution_count": null,
   "metadata": {},
   "outputs": [],
   "source": []
  },
  {
   "cell_type": "code",
   "execution_count": null,
   "metadata": {},
   "outputs": [],
   "source": []
  },
  {
   "cell_type": "code",
   "execution_count": null,
   "metadata": {},
   "outputs": [],
   "source": []
  },
  {
   "cell_type": "code",
   "execution_count": null,
   "metadata": {},
   "outputs": [],
   "source": [
    "# XGBoost"
   ]
  },
  {
   "cell_type": "code",
   "execution_count": null,
   "metadata": {},
   "outputs": [],
   "source": [
    "# SGD?"
   ]
  },
  {
   "cell_type": "code",
   "execution_count": null,
   "metadata": {},
   "outputs": [],
   "source": [
    "# Kernel Approximation?"
   ]
  },
  {
   "cell_type": "code",
   "execution_count": null,
   "metadata": {},
   "outputs": [],
   "source": []
  },
  {
   "cell_type": "code",
   "execution_count": null,
   "metadata": {},
   "outputs": [],
   "source": []
  },
  {
   "cell_type": "code",
   "execution_count": null,
   "metadata": {},
   "outputs": [],
   "source": []
  },
  {
   "cell_type": "code",
   "execution_count": null,
   "metadata": {},
   "outputs": [],
   "source": []
  },
  {
   "cell_type": "code",
   "execution_count": null,
   "metadata": {},
   "outputs": [],
   "source": []
  },
  {
   "cell_type": "code",
   "execution_count": null,
   "metadata": {},
   "outputs": [],
   "source": []
  },
  {
   "cell_type": "code",
   "execution_count": null,
   "metadata": {},
   "outputs": [],
   "source": []
  },
  {
   "cell_type": "code",
   "execution_count": null,
   "metadata": {},
   "outputs": [],
   "source": []
  },
  {
   "cell_type": "code",
   "execution_count": null,
   "metadata": {},
   "outputs": [],
   "source": []
  },
  {
   "cell_type": "code",
   "execution_count": 52,
   "metadata": {},
   "outputs": [
    {
     "name": "stdout",
     "output_type": "stream",
     "text": [
      "2 59486.25585177998\n",
      "3 77674.18325588538\n",
      "4 96384.21852818847\n",
      "5 114546.82979016086\n",
      "6 127600.80444243301\n",
      "7 141010.59498579273\n",
      "8 150682.09351094894\n",
      "9 161561.0248727341\n",
      "10 166964.61084244298\n",
      "11 172383.19385670617\n",
      "12 179948.81991115178\n",
      "13 182327.44955418463\n",
      "14 185306.0671946048\n",
      "15 187196.97618489747\n",
      "16 187075.00888801456\n",
      "17 186023.28848008186\n",
      "18 185515.0192828231\n",
      "19 184560.6592451715\n",
      "20 182653.62410723022\n",
      "21 177354.84392849842\n",
      "22 175636.95905210843\n",
      "23 172503.3659090606\n",
      "24 170951.62031425143\n",
      "25 169277.9078372501\n",
      "26 167893.9965466513\n",
      "27 166426.02562539277\n",
      "28 163768.2050005787\n",
      "29 164446.90279474566\n",
      "30 163345.56115803414\n",
      "31 163941.37842270927\n",
      "32 161616.26932644393\n",
      "33 162014.7044419554\n",
      "34 162781.62265305087\n",
      "35 163483.25020053884\n",
      "36 164121.61442848394\n",
      "37 165910.86684445763\n",
      "38 166263.34904917312\n",
      "39 166967.81410185085\n",
      "40 169879.35195707544\n",
      "41 170036.8446218407\n",
      "42 172317.16871043303\n",
      "43 173225.85042507053\n",
      "44 176405.45462941405\n",
      "45 175951.96694708266\n",
      "46 179420.62087730106\n",
      "47 181230.39342520965\n",
      "48 181994.05267893305\n",
      "49 180807.4371004135\n"
     ]
    }
   ],
   "source": [
    "# Clustering\n",
    "\n",
    "from sklearn.cluster import KMeans\n",
    "from sklearn.metrics import calinski_harabasz_score\n",
    "\n",
    "num_clusters = np.arange(2, 20)\n",
    "\n",
    "# Set number of clusters at initialization time\n",
    "for n in num_clusters:\n",
    "    k_means = KMeans(n_clusters=n) \n",
    "\n",
    "    # Run the clustering algorithm\n",
    "    k_means.fit(df_numer) \n",
    "\n",
    "    # Generate cluster index values for each row\n",
    "    cluster_assignments = k_means.predict(df_numer)\n",
    "    \n",
    "    print(n, calinski_harabasz_score(df_numer, cluster_assignments))"
   ]
  },
  {
   "cell_type": "code",
   "execution_count": 53,
   "metadata": {},
   "outputs": [
    {
     "data": {
      "text/plain": [
       "array([20, 48, 43, ..., 40, 34, 23], dtype=int32)"
      ]
     },
     "execution_count": 53,
     "metadata": {},
     "output_type": "execute_result"
    }
   ],
   "source": [
    "cluster_assignments"
   ]
  },
  {
   "cell_type": "code",
   "execution_count": 54,
   "metadata": {},
   "outputs": [
    {
     "data": {
      "text/plain": [
       "array([20, 48, 43, ..., 40, 34, 23], dtype=int32)"
      ]
     },
     "execution_count": 54,
     "metadata": {},
     "output_type": "execute_result"
    }
   ],
   "source": [
    "k_means.labels_"
   ]
  },
  {
   "cell_type": "code",
   "execution_count": 55,
   "metadata": {},
   "outputs": [
    {
     "name": "stdout",
     "output_type": "stream",
     "text": [
      "180807.4371004135\n"
     ]
    }
   ],
   "source": [
    "# This code builds on the previous example\n",
    "\n",
    "# Note that we could also pass in k_means.labels_ instead of cluster_assignments\n",
    "print(calinski_harabasz_score(df_numer, cluster_assignments))"
   ]
  },
  {
   "cell_type": "code",
   "execution_count": null,
   "metadata": {},
   "outputs": [],
   "source": []
  },
  {
   "cell_type": "code",
   "execution_count": null,
   "metadata": {},
   "outputs": [],
   "source": []
  }
 ],
 "metadata": {
  "kernelspec": {
   "display_name": "Python 3",
   "language": "python",
   "name": "python3"
  },
  "language_info": {
   "codemirror_mode": {
    "name": "ipython",
    "version": 3
   },
   "file_extension": ".py",
   "mimetype": "text/x-python",
   "name": "python",
   "nbconvert_exporter": "python",
   "pygments_lexer": "ipython3",
   "version": "3.7.4"
  }
 },
 "nbformat": 4,
 "nbformat_minor": 4
}
